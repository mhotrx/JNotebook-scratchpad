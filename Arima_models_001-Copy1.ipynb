{
 "cells": [
  {
   "cell_type": "markdown",
   "metadata": {},
   "source": [
    "# ARIMA (AutoRegressive Integrated Moving Average) models \n",
    "\n",
    "Like ARMA models [link to quantopian on arma] ARIMA models models can be fitted to time series data to predict future points in the series where data show evidence of non-stationarity, so an initial differencing step (this is the \"I\" in ARIMA for Integrated part of the model) can be applied one or more times to eliminate the non-stationarity.\n",
    "\n",
    "Wikipedia has a detailed description https://en.wikipedia.org/wiki/Autoregressive_integrated_moving_average\n",
    "\n",
    "Here I want to show how to estimate the parameters for a timeseries and make a prediction.  \n",
    "\n",
    "First we'll get some data, then use Box-Jenkins to estimate the parameters, build the model and finally make a forecast.  "
   ]
  },
  {
   "cell_type": "code",
   "execution_count": 13,
   "metadata": {},
   "outputs": [
    {
     "name": "stdout",
     "output_type": "stream",
     "text": [
      "             Open   High    Low   Last  Change  Settle     Volume  \\\n",
      "Date                                                                \n",
      "1983-03-30  29.01  29.56  29.01  29.40     NaN   29.40      949.0   \n",
      "1983-03-31  29.40  29.60  29.25  29.29     NaN   29.29      521.0   \n",
      "1983-04-04  29.30  29.70  29.29  29.44     NaN   29.44      156.0   \n",
      "1983-04-05  29.50  29.80  29.50  29.71     NaN   29.71      175.0   \n",
      "1983-04-06  29.90  29.92  29.65  29.90     NaN   29.90      392.0   \n",
      "1983-04-07  29.90  30.20  29.86  30.17     NaN   30.17      817.0   \n",
      "1983-04-08  30.65  30.65  30.25  30.38     NaN   30.38      365.0   \n",
      "1983-04-11  30.40  30.41  30.00  30.26     NaN   30.26      265.0   \n",
      "1983-04-12  30.50  31.00  30.50  30.83     NaN   30.83      469.0   \n",
      "1983-04-13  30.60  30.95  30.60  30.82     NaN   30.82      657.0   \n",
      "1983-04-14  30.70  30.86  30.65  30.69     NaN   30.69      202.0   \n",
      "1983-04-15  30.55  30.60  30.35  30.48     NaN   30.48      295.0   \n",
      "1983-04-18  30.56  30.80  30.55  30.75     NaN   30.75      128.0   \n",
      "1983-04-19  30.70  30.85  30.70  30.75     NaN   30.75      324.0   \n",
      "1983-04-20  30.65  30.77  30.60  30.70     NaN   30.70      188.0   \n",
      "1983-04-21  30.75  30.75  30.58  30.68     NaN   30.68      105.0   \n",
      "1983-04-22  30.62  30.85  30.62  30.75     NaN   30.75      307.0   \n",
      "1983-04-25  30.78  30.89  30.78  30.84     NaN   30.84      113.0   \n",
      "1983-04-26  30.81  30.85  30.69  30.71     NaN   30.71       93.0   \n",
      "1983-04-27  30.80  30.82  30.78  30.78     NaN   30.78       24.0   \n",
      "1983-04-28  30.73  30.90  30.68  30.74     NaN   30.74      563.0   \n",
      "1983-04-29  30.70  30.74  30.63  30.63     NaN   30.63      323.0   \n",
      "1983-05-02  30.66  30.72  30.57  30.61     NaN   30.61       90.0   \n",
      "1983-05-03  30.70  30.70  30.45  30.50     NaN   30.50      333.0   \n",
      "1983-05-04  30.50  30.55  30.39  30.42     NaN   30.42      249.0   \n",
      "1983-05-05  30.47  30.47  30.20  30.20     NaN   30.20      115.0   \n",
      "1983-05-06  30.18  30.45  30.18  30.45     NaN   30.45      248.0   \n",
      "1983-05-09  30.40  30.43  29.95  30.10     NaN   30.10      209.0   \n",
      "1983-05-10  30.15  30.40  30.10  30.31     NaN   30.31      131.0   \n",
      "1983-05-11  30.15  30.15  29.95  29.97     NaN   29.97      227.0   \n",
      "...           ...    ...    ...    ...     ...     ...        ...   \n",
      "2018-01-29  66.18  66.46  64.98  65.52    0.58   65.56   651491.0   \n",
      "2018-01-30  65.53  65.56  63.89  63.99    1.06   64.50   684553.0   \n",
      "2018-01-31  64.03  64.94  63.67  64.77    0.23   64.73   610657.0   \n",
      "2018-02-01  64.76  66.25  64.63  65.98    1.07   65.80   679372.0   \n",
      "2018-02-02  65.99  66.30  64.47  65.06    0.35   65.45   852900.0   \n",
      "2018-02-05  65.10  65.40  63.42  63.43    1.30   64.15   886697.0   \n",
      "2018-02-06  63.43  64.29  63.12  63.92    0.76   63.39   785368.0   \n",
      "2018-02-07  63.92  64.18  61.25  61.73    1.60   61.79  1010950.0   \n",
      "2018-02-08  61.70  62.09  60.27  60.42    0.64   61.15   911270.0   \n",
      "2018-02-09  60.43  60.77  58.07  59.05    1.95   59.20   911220.0   \n",
      "2018-02-12  59.12  60.83  59.10  59.38    0.09   59.29   727737.0   \n",
      "2018-02-13  59.35  59.73  58.39  58.95    0.10   59.19   575903.0   \n",
      "2018-02-14  58.98  60.90  58.20  60.74    1.41   60.60   641921.0   \n",
      "2018-02-15  60.71  61.64  59.72  61.42    0.74   61.34   327157.0   \n",
      "2018-02-16  61.45  61.99  60.88  61.61    0.34   61.68   172969.0   \n",
      "2018-02-20  61.63  62.74  61.58  61.77    0.22   61.90    40936.0   \n",
      "2018-02-21  61.63  61.86  60.92  61.34    0.11   61.68   465000.0   \n",
      "2018-02-22  61.34  63.09  60.75  62.65    1.09   62.77   590240.0   \n",
      "2018-02-23  62.60  63.73  62.33  63.57    0.78   63.55   457280.0   \n",
      "2018-02-26  63.60  64.24  63.06  64.00    0.36   63.91   467392.0   \n",
      "2018-02-27  64.06  64.08  62.64  62.84    0.90   63.01   559936.0   \n",
      "2018-02-28  62.79  63.44  61.36  61.55    1.37   61.64   760902.0   \n",
      "2018-03-01  61.55  61.83  60.18  61.34    0.65   60.99   809345.0   \n",
      "2018-03-02  61.34  61.60  60.13  61.45    0.26   61.25   611315.0   \n",
      "2018-03-05  61.55  62.79  61.10  62.61    1.32   62.57   598368.0   \n",
      "2018-03-06  62.58  63.28  62.17  62.36    0.03   62.60   626407.0   \n",
      "2018-03-07  62.30  62.58  60.58  61.35    1.45   61.15   865736.0   \n",
      "2018-03-08  61.33  61.40  59.95  60.32    1.03   60.12   703830.0   \n",
      "2018-03-09  60.27  62.18  60.14  62.12    1.92   62.04   644144.0   \n",
      "2018-03-12  62.10  62.33  60.67  61.38    0.68   61.36   534799.0   \n",
      "\n",
      "            Previous Day Open Interest  \n",
      "Date                                    \n",
      "1983-03-30                       470.0  \n",
      "1983-03-31                       523.0  \n",
      "1983-04-04                       583.0  \n",
      "1983-04-05                       623.0  \n",
      "1983-04-06                       640.0  \n",
      "1983-04-07                       795.0  \n",
      "1983-04-08                       651.0  \n",
      "1983-04-11                       681.0  \n",
      "1983-04-12                       711.0  \n",
      "1983-04-13                       823.0  \n",
      "1983-04-14                       805.0  \n",
      "1983-04-15                       908.0  \n",
      "1983-04-18                       940.0  \n",
      "1983-04-19                       987.0  \n",
      "1983-04-20                      1044.0  \n",
      "1983-04-21                      1060.0  \n",
      "1983-04-22                      1075.0  \n",
      "1983-04-25                      1087.0  \n",
      "1983-04-26                      1090.0  \n",
      "1983-04-27                      1074.0  \n",
      "1983-04-28                      1223.0  \n",
      "1983-04-29                       927.0  \n",
      "1983-05-02                       879.0  \n",
      "1983-05-03                       782.0  \n",
      "1983-05-04                       627.0  \n",
      "1983-05-05                       572.0  \n",
      "1983-05-06                       634.0  \n",
      "1983-05-09                       527.0  \n",
      "1983-05-10                       536.0  \n",
      "1983-05-11                       536.0  \n",
      "...                                ...  \n",
      "2018-01-29                    613470.0  \n",
      "2018-01-30                    600810.0  \n",
      "2018-01-31                    587826.0  \n",
      "2018-02-01                    578697.0  \n",
      "2018-02-02                    575850.0  \n",
      "2018-02-05                    540626.0  \n",
      "2018-02-06                    509407.0  \n",
      "2018-02-07                    472560.0  \n",
      "2018-02-08                    402144.0  \n",
      "2018-02-09                    340177.0  \n",
      "2018-02-12                    267646.0  \n",
      "2018-02-13                    208657.0  \n",
      "2018-02-14                    175355.0  \n",
      "2018-02-15                    117676.0  \n",
      "2018-02-16                     85558.0  \n",
      "2018-02-20                     30766.0  \n",
      "2018-02-21                    506478.0  \n",
      "2018-02-22                    495317.0  \n",
      "2018-02-23                    498650.0  \n",
      "2018-02-26                    494261.0  \n",
      "2018-02-27                    496310.0  \n",
      "2018-02-28                    485041.0  \n",
      "2018-03-01                    482408.0  \n",
      "2018-03-02                    476194.0  \n",
      "2018-03-05                    461949.0  \n",
      "2018-03-06                    463667.0  \n",
      "2018-03-07                    434038.0  \n",
      "2018-03-08                    400976.0  \n",
      "2018-03-09                    344074.0  \n",
      "2018-03-12                    283297.0  \n",
      "\n",
      "[8781 rows x 8 columns]\n"
     ]
    }
   ],
   "source": [
    "# Set up the pandas environment \n",
    "import pandas as pd\n",
    "from pandas import Series, DataFrame, Panel\n",
    "\n",
    "# Lets get some data from Quandl \n",
    "import quandl\n",
    "crudeOilData = quandl.get(\"CHRIS/CME_CL1\",returns=\"pandas\") \t# pandas data series\n",
    "heatingOilData = quandl.get(\"CHRIS/CME_HO1\",returns=\"pandas\") \n",
    "\n",
    "#print type (crudeOilData)\n",
    "print crudeOilData\n",
    "# Get the ratio of the closing prices  \n",
    "\n"
   ]
  },
  {
   "cell_type": "code",
   "execution_count": 16,
   "metadata": {},
   "outputs": [
    {
     "name": "stdout",
     "output_type": "stream",
     "text": [
      "<bound method Series.head of Date\n",
      "1983-03-30    38.899180\n",
      "1983-03-31    38.789564\n",
      "1983-04-04    38.721557\n",
      "1983-04-05    38.664758\n",
      "1983-04-06    38.357922\n",
      "1983-04-07    38.325711\n",
      "1983-04-08    38.339223\n",
      "1983-04-11    38.015075\n",
      "1983-04-12    38.042942\n",
      "1983-04-13    38.261949\n",
      "1983-04-14    38.271605\n",
      "1983-04-15    38.368580\n",
      "1983-04-18    38.038100\n",
      "1983-04-19    37.577905\n",
      "1983-04-20    37.167070\n",
      "1983-04-21    37.088975\n",
      "1983-04-22    36.857246\n",
      "1983-04-25    36.479773\n",
      "1983-04-26    36.774039\n",
      "1983-04-27    36.651584\n",
      "1983-04-28    36.849676\n",
      "1983-04-29    36.599355\n",
      "1983-05-02    39.078259\n",
      "1983-05-03    39.441355\n",
      "1983-05-04    39.226306\n",
      "1983-05-05    38.982832\n",
      "1983-05-06    39.153915\n",
      "1983-05-09    40.101252\n",
      "1983-05-10    39.934124\n",
      "1983-05-11    39.742740\n",
      "                ...    \n",
      "2018-01-29    31.147853\n",
      "2018-01-30    31.133851\n",
      "2018-01-31    31.282621\n",
      "2018-02-01    31.477229\n",
      "2018-02-02    31.872413\n",
      "2018-02-05    31.763716\n",
      "2018-02-06    31.932900\n",
      "2018-02-07    31.993994\n",
      "2018-02-08    31.827409\n",
      "2018-02-09    31.912026\n",
      "2018-02-12    32.242101\n",
      "2018-02-13    32.222767\n",
      "2018-02-14    32.158777\n",
      "2018-02-15    32.427575\n",
      "2018-02-16    32.286432\n",
      "2018-02-20    32.110806\n",
      "2018-02-21    31.920509\n",
      "2018-02-22    32.145235\n",
      "2018-02-23    32.268711\n",
      "2018-02-26    32.181882\n",
      "2018-02-27    32.098828\n",
      "2018-02-28    32.211538\n",
      "2018-03-01    32.346858\n",
      "2018-03-02    32.586721\n",
      "2018-03-05    32.988875\n",
      "2018-03-06    32.890243\n",
      "2018-03-07    32.620292\n",
      "2018-03-08    32.338228\n",
      "2018-03-09    32.884554\n",
      "2018-03-12    32.906097\n",
      "Name: Settle, Length: 8761, dtype: float64>\n"
     ]
    },
    {
     "data": {
      "text/plain": [
       "u'0.22.0'"
      ]
     },
     "execution_count": 16,
     "metadata": {},
     "output_type": "execute_result"
    }
   ],
   "source": [
    "df = crudeOilData['Settle']\n",
    "ratio = crudeOilData['Settle'].divide (heatingOilData['Settle'], fill_value=None).dropna()\n",
    "print ratio.head\n",
    "\n",
    "import pandas as pd\n",
    "from pandas import Series, DataFrame, Panel\n",
    "pd.__version__"
   ]
  },
  {
   "cell_type": "code",
   "execution_count": 3,
   "metadata": {},
   "outputs": [
    {
     "data": {
      "text/plain": [
       "'1.6.1'"
      ]
     },
     "execution_count": 3,
     "metadata": {},
     "output_type": "execute_result"
    }
   ],
   "source": [
    "np.__version__"
   ]
  },
  {
   "cell_type": "code",
   "execution_count": 18,
   "metadata": {},
   "outputs": [
    {
     "data": {
      "image/png": "[encoded data removed]",
      "text/plain": [
       "<matplotlib.figure.Figure at 0x119e67050>"
      ]
     },
     "metadata": {},
     "output_type": "display_data"
    }
   ],
   "source": [
    "import scipy.stats as stats\n",
    "import numpy as np\n",
    "import matplotlib.pyplot as plt\n",
    "\n",
    "plt.plot(ratio)\n",
    "plt.xlabel('Time')\n",
    "plt.ylabel('Ratio');\n",
    "\n"
   ]
  },
  {
   "cell_type": "code",
   "execution_count": 29,
   "metadata": {},
   "outputs": [
    {
     "name": "stdout",
     "output_type": "stream",
     "text": [
      "Max: 0.380869082506035\n",
      "Min: -0.15670190044550603\n",
      "Skew: 2.94006820252\n",
      "Mean: 0.000131250812232\n",
      "Std: 0.0175827422793\n",
      "Excess kurtosis of returns:  53.0928857532\n",
      "Max: 0.02098064233176311\n",
      "Min: -0.020999638893309358\n",
      "Skew: 0.00939331354329\n",
      "Mean: -0.00012931220844284244\n",
      "Std: 0.01055466431382345\n",
      "Excess kurtosis of returns:  -0.374241261514\n"
     ]
    },
    {
     "data": {
      "text/plain": [
       "[<matplotlib.lines.Line2D at 0x1a1c371a50>]"
      ]
     },
     "execution_count": 29,
     "metadata": {},
     "output_type": "execute_result"
    },
    {
     "name": "stdout",
     "output_type": "stream",
     "text": [
      "Error in callback <function post_execute at 0x110e43758> (for post_execute):\n"
     ]
    },
    {
     "ename": "ValueError",
     "evalue": "ordinal must be >= 1",
     "output_type": "error",
     "traceback": [
      "\u001b[0;31m---------------------------------------------------------------------------\u001b[0m",
      "\u001b[0;31mValueError\u001b[0m                                Traceback (most recent call last)",
      "\u001b[0;32m/Users/michael/anaconda2/lib/python2.7/site-packages/matplotlib/pyplot.pyc\u001b[0m in \u001b[0;36mpost_execute\u001b[0;34m()\u001b[0m\n\u001b[1;32m    148\u001b[0m             \u001b[0;32mdef\u001b[0m \u001b[0mpost_execute\u001b[0m\u001b[0;34m(\u001b[0m\u001b[0;34m)\u001b[0m\u001b[0;34m:\u001b[0m\u001b[0;34m\u001b[0m\u001b[0m\n\u001b[1;32m    149\u001b[0m                 \u001b[0;32mif\u001b[0m \u001b[0mmatplotlib\u001b[0m\u001b[0;34m.\u001b[0m\u001b[0mis_interactive\u001b[0m\u001b[0;34m(\u001b[0m\u001b[0;34m)\u001b[0m\u001b[0;34m:\u001b[0m\u001b[0;34m\u001b[0m\u001b[0m\n\u001b[0;32m--> 150\u001b[0;31m                     \u001b[0mdraw_all\u001b[0m\u001b[0;34m(\u001b[0m\u001b[0;34m)\u001b[0m\u001b[0;34m\u001b[0m\u001b[0m\n\u001b[0m\u001b[1;32m    151\u001b[0m \u001b[0;34m\u001b[0m\u001b[0m\n\u001b[1;32m    152\u001b[0m             \u001b[0;31m# IPython >= 2\u001b[0m\u001b[0;34m\u001b[0m\u001b[0;34m\u001b[0m\u001b[0m\n",
      "\u001b[0;32m/Users/michael/anaconda2/lib/python2.7/site-packages/matplotlib/_pylab_helpers.pyc\u001b[0m in \u001b[0;36mdraw_all\u001b[0;34m(cls, force)\u001b[0m\n\u001b[1;32m    148\u001b[0m         \u001b[0;32mfor\u001b[0m \u001b[0mf_mgr\u001b[0m \u001b[0;32min\u001b[0m \u001b[0mcls\u001b[0m\u001b[0;34m.\u001b[0m\u001b[0mget_all_fig_managers\u001b[0m\u001b[0;34m(\u001b[0m\u001b[0;34m)\u001b[0m\u001b[0;34m:\u001b[0m\u001b[0;34m\u001b[0m\u001b[0m\n\u001b[1;32m    149\u001b[0m             \u001b[0;32mif\u001b[0m \u001b[0mforce\u001b[0m \u001b[0;32mor\u001b[0m \u001b[0mf_mgr\u001b[0m\u001b[0;34m.\u001b[0m\u001b[0mcanvas\u001b[0m\u001b[0;34m.\u001b[0m\u001b[0mfigure\u001b[0m\u001b[0;34m.\u001b[0m\u001b[0mstale\u001b[0m\u001b[0;34m:\u001b[0m\u001b[0;34m\u001b[0m\u001b[0m\n\u001b[0;32m--> 150\u001b[0;31m                 \u001b[0mf_mgr\u001b[0m\u001b[0;34m.\u001b[0m\u001b[0mcanvas\u001b[0m\u001b[0;34m.\u001b[0m\u001b[0mdraw_idle\u001b[0m\u001b[0;34m(\u001b[0m\u001b[0;34m)\u001b[0m\u001b[0;34m\u001b[0m\u001b[0m\n\u001b[0m\u001b[1;32m    151\u001b[0m \u001b[0;34m\u001b[0m\u001b[0m\n\u001b[1;32m    152\u001b[0m \u001b[0matexit\u001b[0m\u001b[0;34m.\u001b[0m\u001b[0mregister\u001b[0m\u001b[0;34m(\u001b[0m\u001b[0mGcf\u001b[0m\u001b[0;34m.\u001b[0m\u001b[0mdestroy_all\u001b[0m\u001b[0;34m)\u001b[0m\u001b[0;34m\u001b[0m\u001b[0m\n",
      "\u001b[0;32m/Users/michael/anaconda2/lib/python2.7/site-packages/matplotlib/backend_bases.pyc\u001b[0m in \u001b[0;36mdraw_idle\u001b[0;34m(self, *args, **kwargs)\u001b[0m\n\u001b[1;32m   2059\u001b[0m         \u001b[0;32mif\u001b[0m \u001b[0;32mnot\u001b[0m \u001b[0mself\u001b[0m\u001b[0;34m.\u001b[0m\u001b[0m_is_idle_drawing\u001b[0m\u001b[0;34m:\u001b[0m\u001b[0;34m\u001b[0m\u001b[0m\n\u001b[1;32m   2060\u001b[0m             \u001b[0;32mwith\u001b[0m \u001b[0mself\u001b[0m\u001b[0;34m.\u001b[0m\u001b[0m_idle_draw_cntx\u001b[0m\u001b[0;34m(\u001b[0m\u001b[0;34m)\u001b[0m\u001b[0;34m:\u001b[0m\u001b[0;34m\u001b[0m\u001b[0m\n\u001b[0;32m-> 2061\u001b[0;31m                 \u001b[0mself\u001b[0m\u001b[0;34m.\u001b[0m\u001b[0mdraw\u001b[0m\u001b[0;34m(\u001b[0m\u001b[0;34m*\u001b[0m\u001b[0margs\u001b[0m\u001b[0;34m,\u001b[0m \u001b[0;34m**\u001b[0m\u001b[0mkwargs\u001b[0m\u001b[0;34m)\u001b[0m\u001b[0;34m\u001b[0m\u001b[0m\n\u001b[0m\u001b[1;32m   2062\u001b[0m \u001b[0;34m\u001b[0m\u001b[0m\n\u001b[1;32m   2063\u001b[0m     \u001b[0;32mdef\u001b[0m \u001b[0mdraw_cursor\u001b[0m\u001b[0;34m(\u001b[0m\u001b[0mself\u001b[0m\u001b[0;34m,\u001b[0m \u001b[0mevent\u001b[0m\u001b[0;34m)\u001b[0m\u001b[0;34m:\u001b[0m\u001b[0;34m\u001b[0m\u001b[0m\n",
      "\u001b[0;32m/Users/michael/anaconda2/lib/python2.7/site-packages/matplotlib/backends/backend_agg.pyc\u001b[0m in \u001b[0;36mdraw\u001b[0;34m(self)\u001b[0m\n\u001b[1;32m    428\u001b[0m             \u001b[0;31m# if toolbar:\u001b[0m\u001b[0;34m\u001b[0m\u001b[0;34m\u001b[0m\u001b[0m\n\u001b[1;32m    429\u001b[0m             \u001b[0;31m#     toolbar.set_cursor(cursors.WAIT)\u001b[0m\u001b[0;34m\u001b[0m\u001b[0;34m\u001b[0m\u001b[0m\n\u001b[0;32m--> 430\u001b[0;31m             \u001b[0mself\u001b[0m\u001b[0;34m.\u001b[0m\u001b[0mfigure\u001b[0m\u001b[0;34m.\u001b[0m\u001b[0mdraw\u001b[0m\u001b[0;34m(\u001b[0m\u001b[0mself\u001b[0m\u001b[0;34m.\u001b[0m\u001b[0mrenderer\u001b[0m\u001b[0;34m)\u001b[0m\u001b[0;34m\u001b[0m\u001b[0m\n\u001b[0m\u001b[1;32m    431\u001b[0m         \u001b[0;32mfinally\u001b[0m\u001b[0;34m:\u001b[0m\u001b[0;34m\u001b[0m\u001b[0m\n\u001b[1;32m    432\u001b[0m             \u001b[0;31m# if toolbar:\u001b[0m\u001b[0;34m\u001b[0m\u001b[0;34m\u001b[0m\u001b[0m\n",
      "\u001b[0;32m/Users/michael/anaconda2/lib/python2.7/site-packages/matplotlib/artist.pyc\u001b[0m in \u001b[0;36mdraw_wrapper\u001b[0;34m(artist, renderer, *args, **kwargs)\u001b[0m\n\u001b[1;32m     53\u001b[0m                 \u001b[0mrenderer\u001b[0m\u001b[0;34m.\u001b[0m\u001b[0mstart_filter\u001b[0m\u001b[0;34m(\u001b[0m\u001b[0;34m)\u001b[0m\u001b[0;34m\u001b[0m\u001b[0m\n\u001b[1;32m     54\u001b[0m \u001b[0;34m\u001b[0m\u001b[0m\n\u001b[0;32m---> 55\u001b[0;31m             \u001b[0;32mreturn\u001b[0m \u001b[0mdraw\u001b[0m\u001b[0;34m(\u001b[0m\u001b[0martist\u001b[0m\u001b[0;34m,\u001b[0m \u001b[0mrenderer\u001b[0m\u001b[0;34m,\u001b[0m \u001b[0;34m*\u001b[0m\u001b[0margs\u001b[0m\u001b[0;34m,\u001b[0m \u001b[0;34m**\u001b[0m\u001b[0mkwargs\u001b[0m\u001b[0;34m)\u001b[0m\u001b[0;34m\u001b[0m\u001b[0m\n\u001b[0m\u001b[1;32m     56\u001b[0m         \u001b[0;32mfinally\u001b[0m\u001b[0;34m:\u001b[0m\u001b[0;34m\u001b[0m\u001b[0m\n\u001b[1;32m     57\u001b[0m             \u001b[0;32mif\u001b[0m \u001b[0martist\u001b[0m\u001b[0;34m.\u001b[0m\u001b[0mget_agg_filter\u001b[0m\u001b[0;34m(\u001b[0m\u001b[0;34m)\u001b[0m \u001b[0;32mis\u001b[0m \u001b[0;32mnot\u001b[0m \u001b[0mNone\u001b[0m\u001b[0;34m:\u001b[0m\u001b[0;34m\u001b[0m\u001b[0m\n",
      "\u001b[0;32m/Users/michael/anaconda2/lib/python2.7/site-packages/matplotlib/figure.pyc\u001b[0m in \u001b[0;36mdraw\u001b[0;34m(self, renderer)\u001b[0m\n\u001b[1;32m   1297\u001b[0m \u001b[0;34m\u001b[0m\u001b[0m\n\u001b[1;32m   1298\u001b[0m             mimage._draw_list_compositing_images(\n\u001b[0;32m-> 1299\u001b[0;31m                 renderer, self, artists, self.suppressComposite)\n\u001b[0m\u001b[1;32m   1300\u001b[0m \u001b[0;34m\u001b[0m\u001b[0m\n\u001b[1;32m   1301\u001b[0m             \u001b[0mrenderer\u001b[0m\u001b[0;34m.\u001b[0m\u001b[0mclose_group\u001b[0m\u001b[0;34m(\u001b[0m\u001b[0;34m'figure'\u001b[0m\u001b[0;34m)\u001b[0m\u001b[0;34m\u001b[0m\u001b[0m\n",
      "\u001b[0;32m/Users/michael/anaconda2/lib/python2.7/site-packages/matplotlib/image.pyc\u001b[0m in \u001b[0;36m_draw_list_compositing_images\u001b[0;34m(renderer, parent, artists, suppress_composite)\u001b[0m\n\u001b[1;32m    136\u001b[0m     \u001b[0;32mif\u001b[0m \u001b[0mnot_composite\u001b[0m \u001b[0;32mor\u001b[0m \u001b[0;32mnot\u001b[0m \u001b[0mhas_images\u001b[0m\u001b[0;34m:\u001b[0m\u001b[0;34m\u001b[0m\u001b[0m\n\u001b[1;32m    137\u001b[0m         \u001b[0;32mfor\u001b[0m \u001b[0ma\u001b[0m \u001b[0;32min\u001b[0m \u001b[0martists\u001b[0m\u001b[0;34m:\u001b[0m\u001b[0;34m\u001b[0m\u001b[0m\n\u001b[0;32m--> 138\u001b[0;31m             \u001b[0ma\u001b[0m\u001b[0;34m.\u001b[0m\u001b[0mdraw\u001b[0m\u001b[0;34m(\u001b[0m\u001b[0mrenderer\u001b[0m\u001b[0;34m)\u001b[0m\u001b[0;34m\u001b[0m\u001b[0m\n\u001b[0m\u001b[1;32m    139\u001b[0m     \u001b[0;32melse\u001b[0m\u001b[0;34m:\u001b[0m\u001b[0;34m\u001b[0m\u001b[0m\n\u001b[1;32m    140\u001b[0m         \u001b[0;31m# Composite any adjacent images together\u001b[0m\u001b[0;34m\u001b[0m\u001b[0;34m\u001b[0m\u001b[0m\n",
      "\u001b[0;32m/Users/michael/anaconda2/lib/python2.7/site-packages/matplotlib/artist.pyc\u001b[0m in \u001b[0;36mdraw_wrapper\u001b[0;34m(artist, renderer, *args, **kwargs)\u001b[0m\n\u001b[1;32m     53\u001b[0m                 \u001b[0mrenderer\u001b[0m\u001b[0;34m.\u001b[0m\u001b[0mstart_filter\u001b[0m\u001b[0;34m(\u001b[0m\u001b[0;34m)\u001b[0m\u001b[0;34m\u001b[0m\u001b[0m\n\u001b[1;32m     54\u001b[0m \u001b[0;34m\u001b[0m\u001b[0m\n\u001b[0;32m---> 55\u001b[0;31m             \u001b[0;32mreturn\u001b[0m \u001b[0mdraw\u001b[0m\u001b[0;34m(\u001b[0m\u001b[0martist\u001b[0m\u001b[0;34m,\u001b[0m \u001b[0mrenderer\u001b[0m\u001b[0;34m,\u001b[0m \u001b[0;34m*\u001b[0m\u001b[0margs\u001b[0m\u001b[0;34m,\u001b[0m \u001b[0;34m**\u001b[0m\u001b[0mkwargs\u001b[0m\u001b[0;34m)\u001b[0m\u001b[0;34m\u001b[0m\u001b[0m\n\u001b[0m\u001b[1;32m     56\u001b[0m         \u001b[0;32mfinally\u001b[0m\u001b[0;34m:\u001b[0m\u001b[0;34m\u001b[0m\u001b[0m\n\u001b[1;32m     57\u001b[0m             \u001b[0;32mif\u001b[0m \u001b[0martist\u001b[0m\u001b[0;34m.\u001b[0m\u001b[0mget_agg_filter\u001b[0m\u001b[0;34m(\u001b[0m\u001b[0;34m)\u001b[0m \u001b[0;32mis\u001b[0m \u001b[0;32mnot\u001b[0m \u001b[0mNone\u001b[0m\u001b[0;34m:\u001b[0m\u001b[0;34m\u001b[0m\u001b[0m\n",
      "\u001b[0;32m/Users/michael/anaconda2/lib/python2.7/site-packages/matplotlib/axes/_base.pyc\u001b[0m in \u001b[0;36mdraw\u001b[0;34m(self, renderer, inframe)\u001b[0m\n\u001b[1;32m   2435\u001b[0m             \u001b[0mrenderer\u001b[0m\u001b[0;34m.\u001b[0m\u001b[0mstop_rasterizing\u001b[0m\u001b[0;34m(\u001b[0m\u001b[0;34m)\u001b[0m\u001b[0;34m\u001b[0m\u001b[0m\n\u001b[1;32m   2436\u001b[0m \u001b[0;34m\u001b[0m\u001b[0m\n\u001b[0;32m-> 2437\u001b[0;31m         \u001b[0mmimage\u001b[0m\u001b[0;34m.\u001b[0m\u001b[0m_draw_list_compositing_images\u001b[0m\u001b[0;34m(\u001b[0m\u001b[0mrenderer\u001b[0m\u001b[0;34m,\u001b[0m \u001b[0mself\u001b[0m\u001b[0;34m,\u001b[0m \u001b[0martists\u001b[0m\u001b[0;34m)\u001b[0m\u001b[0;34m\u001b[0m\u001b[0m\n\u001b[0m\u001b[1;32m   2438\u001b[0m \u001b[0;34m\u001b[0m\u001b[0m\n\u001b[1;32m   2439\u001b[0m         \u001b[0mrenderer\u001b[0m\u001b[0;34m.\u001b[0m\u001b[0mclose_group\u001b[0m\u001b[0;34m(\u001b[0m\u001b[0;34m'axes'\u001b[0m\u001b[0;34m)\u001b[0m\u001b[0;34m\u001b[0m\u001b[0m\n",
      "\u001b[0;32m/Users/michael/anaconda2/lib/python2.7/site-packages/matplotlib/image.pyc\u001b[0m in \u001b[0;36m_draw_list_compositing_images\u001b[0;34m(renderer, parent, artists, suppress_composite)\u001b[0m\n\u001b[1;32m    136\u001b[0m     \u001b[0;32mif\u001b[0m \u001b[0mnot_composite\u001b[0m \u001b[0;32mor\u001b[0m \u001b[0;32mnot\u001b[0m \u001b[0mhas_images\u001b[0m\u001b[0;34m:\u001b[0m\u001b[0;34m\u001b[0m\u001b[0m\n\u001b[1;32m    137\u001b[0m         \u001b[0;32mfor\u001b[0m \u001b[0ma\u001b[0m \u001b[0;32min\u001b[0m \u001b[0martists\u001b[0m\u001b[0;34m:\u001b[0m\u001b[0;34m\u001b[0m\u001b[0m\n\u001b[0;32m--> 138\u001b[0;31m             \u001b[0ma\u001b[0m\u001b[0;34m.\u001b[0m\u001b[0mdraw\u001b[0m\u001b[0;34m(\u001b[0m\u001b[0mrenderer\u001b[0m\u001b[0;34m)\u001b[0m\u001b[0;34m\u001b[0m\u001b[0m\n\u001b[0m\u001b[1;32m    139\u001b[0m     \u001b[0;32melse\u001b[0m\u001b[0;34m:\u001b[0m\u001b[0;34m\u001b[0m\u001b[0m\n\u001b[1;32m    140\u001b[0m         \u001b[0;31m# Composite any adjacent images together\u001b[0m\u001b[0;34m\u001b[0m\u001b[0;34m\u001b[0m\u001b[0m\n",
      "\u001b[0;32m/Users/michael/anaconda2/lib/python2.7/site-packages/matplotlib/artist.pyc\u001b[0m in \u001b[0;36mdraw_wrapper\u001b[0;34m(artist, renderer, *args, **kwargs)\u001b[0m\n\u001b[1;32m     53\u001b[0m                 \u001b[0mrenderer\u001b[0m\u001b[0;34m.\u001b[0m\u001b[0mstart_filter\u001b[0m\u001b[0;34m(\u001b[0m\u001b[0;34m)\u001b[0m\u001b[0;34m\u001b[0m\u001b[0m\n\u001b[1;32m     54\u001b[0m \u001b[0;34m\u001b[0m\u001b[0m\n\u001b[0;32m---> 55\u001b[0;31m             \u001b[0;32mreturn\u001b[0m \u001b[0mdraw\u001b[0m\u001b[0;34m(\u001b[0m\u001b[0martist\u001b[0m\u001b[0;34m,\u001b[0m \u001b[0mrenderer\u001b[0m\u001b[0;34m,\u001b[0m \u001b[0;34m*\u001b[0m\u001b[0margs\u001b[0m\u001b[0;34m,\u001b[0m \u001b[0;34m**\u001b[0m\u001b[0mkwargs\u001b[0m\u001b[0;34m)\u001b[0m\u001b[0;34m\u001b[0m\u001b[0m\n\u001b[0m\u001b[1;32m     56\u001b[0m         \u001b[0;32mfinally\u001b[0m\u001b[0;34m:\u001b[0m\u001b[0;34m\u001b[0m\u001b[0m\n\u001b[1;32m     57\u001b[0m             \u001b[0;32mif\u001b[0m \u001b[0martist\u001b[0m\u001b[0;34m.\u001b[0m\u001b[0mget_agg_filter\u001b[0m\u001b[0;34m(\u001b[0m\u001b[0;34m)\u001b[0m \u001b[0;32mis\u001b[0m \u001b[0;32mnot\u001b[0m \u001b[0mNone\u001b[0m\u001b[0;34m:\u001b[0m\u001b[0;34m\u001b[0m\u001b[0m\n",
      "\u001b[0;32m/Users/michael/anaconda2/lib/python2.7/site-packages/matplotlib/axis.pyc\u001b[0m in \u001b[0;36mdraw\u001b[0;34m(self, renderer, *args, **kwargs)\u001b[0m\n\u001b[1;32m   1131\u001b[0m         \u001b[0mrenderer\u001b[0m\u001b[0;34m.\u001b[0m\u001b[0mopen_group\u001b[0m\u001b[0;34m(\u001b[0m\u001b[0m__name__\u001b[0m\u001b[0;34m)\u001b[0m\u001b[0;34m\u001b[0m\u001b[0m\n\u001b[1;32m   1132\u001b[0m \u001b[0;34m\u001b[0m\u001b[0m\n\u001b[0;32m-> 1133\u001b[0;31m         \u001b[0mticks_to_draw\u001b[0m \u001b[0;34m=\u001b[0m \u001b[0mself\u001b[0m\u001b[0;34m.\u001b[0m\u001b[0m_update_ticks\u001b[0m\u001b[0;34m(\u001b[0m\u001b[0mrenderer\u001b[0m\u001b[0;34m)\u001b[0m\u001b[0;34m\u001b[0m\u001b[0m\n\u001b[0m\u001b[1;32m   1134\u001b[0m         ticklabelBoxes, ticklabelBoxes2 = self._get_tick_bboxes(ticks_to_draw,\n\u001b[1;32m   1135\u001b[0m                                                                 renderer)\n",
      "\u001b[0;32m/Users/michael/anaconda2/lib/python2.7/site-packages/matplotlib/axis.pyc\u001b[0m in \u001b[0;36m_update_ticks\u001b[0;34m(self, renderer)\u001b[0m\n\u001b[1;32m    972\u001b[0m \u001b[0;34m\u001b[0m\u001b[0m\n\u001b[1;32m    973\u001b[0m         \u001b[0minterval\u001b[0m \u001b[0;34m=\u001b[0m \u001b[0mself\u001b[0m\u001b[0;34m.\u001b[0m\u001b[0mget_view_interval\u001b[0m\u001b[0;34m(\u001b[0m\u001b[0;34m)\u001b[0m\u001b[0;34m\u001b[0m\u001b[0m\n\u001b[0;32m--> 974\u001b[0;31m         \u001b[0mtick_tups\u001b[0m \u001b[0;34m=\u001b[0m \u001b[0mlist\u001b[0m\u001b[0;34m(\u001b[0m\u001b[0mself\u001b[0m\u001b[0;34m.\u001b[0m\u001b[0miter_ticks\u001b[0m\u001b[0;34m(\u001b[0m\u001b[0;34m)\u001b[0m\u001b[0;34m)\u001b[0m\u001b[0;34m\u001b[0m\u001b[0m\n\u001b[0m\u001b[1;32m    975\u001b[0m         \u001b[0;32mif\u001b[0m \u001b[0mself\u001b[0m\u001b[0;34m.\u001b[0m\u001b[0m_smart_bounds\u001b[0m \u001b[0;32mand\u001b[0m \u001b[0mtick_tups\u001b[0m\u001b[0;34m:\u001b[0m\u001b[0;34m\u001b[0m\u001b[0m\n\u001b[1;32m    976\u001b[0m             \u001b[0;31m# handle inverted limits\u001b[0m\u001b[0;34m\u001b[0m\u001b[0;34m\u001b[0m\u001b[0m\n",
      "\u001b[0;32m/Users/michael/anaconda2/lib/python2.7/site-packages/matplotlib/axis.pyc\u001b[0m in \u001b[0;36miter_ticks\u001b[0;34m(self)\u001b[0m\n\u001b[1;32m    915\u001b[0m         \u001b[0mIterate\u001b[0m \u001b[0mthrough\u001b[0m \u001b[0mall\u001b[0m \u001b[0mof\u001b[0m \u001b[0mthe\u001b[0m \u001b[0mmajor\u001b[0m \u001b[0;32mand\u001b[0m \u001b[0mminor\u001b[0m \u001b[0mticks\u001b[0m\u001b[0;34m.\u001b[0m\u001b[0;34m\u001b[0m\u001b[0m\n\u001b[1;32m    916\u001b[0m         \"\"\"\n\u001b[0;32m--> 917\u001b[0;31m         \u001b[0mmajorLocs\u001b[0m \u001b[0;34m=\u001b[0m \u001b[0mself\u001b[0m\u001b[0;34m.\u001b[0m\u001b[0mmajor\u001b[0m\u001b[0;34m.\u001b[0m\u001b[0mlocator\u001b[0m\u001b[0;34m(\u001b[0m\u001b[0;34m)\u001b[0m\u001b[0;34m\u001b[0m\u001b[0m\n\u001b[0m\u001b[1;32m    918\u001b[0m         \u001b[0mmajorTicks\u001b[0m \u001b[0;34m=\u001b[0m \u001b[0mself\u001b[0m\u001b[0;34m.\u001b[0m\u001b[0mget_major_ticks\u001b[0m\u001b[0;34m(\u001b[0m\u001b[0mlen\u001b[0m\u001b[0;34m(\u001b[0m\u001b[0mmajorLocs\u001b[0m\u001b[0;34m)\u001b[0m\u001b[0;34m)\u001b[0m\u001b[0;34m\u001b[0m\u001b[0m\n\u001b[1;32m    919\u001b[0m         \u001b[0mself\u001b[0m\u001b[0;34m.\u001b[0m\u001b[0mmajor\u001b[0m\u001b[0;34m.\u001b[0m\u001b[0mformatter\u001b[0m\u001b[0;34m.\u001b[0m\u001b[0mset_locs\u001b[0m\u001b[0;34m(\u001b[0m\u001b[0mmajorLocs\u001b[0m\u001b[0;34m)\u001b[0m\u001b[0;34m\u001b[0m\u001b[0m\n",
      "\u001b[0;32m/Users/michael/anaconda2/lib/python2.7/site-packages/matplotlib/dates.pyc\u001b[0m in \u001b[0;36m__call__\u001b[0;34m(self)\u001b[0m\n\u001b[1;32m   1095\u001b[0m     \u001b[0;32mdef\u001b[0m \u001b[0m__call__\u001b[0m\u001b[0;34m(\u001b[0m\u001b[0mself\u001b[0m\u001b[0;34m)\u001b[0m\u001b[0;34m:\u001b[0m\u001b[0;34m\u001b[0m\u001b[0m\n\u001b[1;32m   1096\u001b[0m         \u001b[0;34m'Return the locations of the ticks'\u001b[0m\u001b[0;34m\u001b[0m\u001b[0m\n\u001b[0;32m-> 1097\u001b[0;31m         \u001b[0mself\u001b[0m\u001b[0;34m.\u001b[0m\u001b[0mrefresh\u001b[0m\u001b[0;34m(\u001b[0m\u001b[0;34m)\u001b[0m\u001b[0;34m\u001b[0m\u001b[0m\n\u001b[0m\u001b[1;32m   1098\u001b[0m         \u001b[0;32mreturn\u001b[0m \u001b[0mself\u001b[0m\u001b[0;34m.\u001b[0m\u001b[0m_locator\u001b[0m\u001b[0;34m(\u001b[0m\u001b[0;34m)\u001b[0m\u001b[0;34m\u001b[0m\u001b[0m\n\u001b[1;32m   1099\u001b[0m \u001b[0;34m\u001b[0m\u001b[0m\n",
      "\u001b[0;32m/Users/michael/anaconda2/lib/python2.7/site-packages/matplotlib/dates.pyc\u001b[0m in \u001b[0;36mrefresh\u001b[0;34m(self)\u001b[0m\n\u001b[1;32m   1115\u001b[0m     \u001b[0;32mdef\u001b[0m \u001b[0mrefresh\u001b[0m\u001b[0;34m(\u001b[0m\u001b[0mself\u001b[0m\u001b[0;34m)\u001b[0m\u001b[0;34m:\u001b[0m\u001b[0;34m\u001b[0m\u001b[0m\n\u001b[1;32m   1116\u001b[0m         \u001b[0;34m'Refresh internal information based on current limits.'\u001b[0m\u001b[0;34m\u001b[0m\u001b[0m\n\u001b[0;32m-> 1117\u001b[0;31m         \u001b[0mdmin\u001b[0m\u001b[0;34m,\u001b[0m \u001b[0mdmax\u001b[0m \u001b[0;34m=\u001b[0m \u001b[0mself\u001b[0m\u001b[0;34m.\u001b[0m\u001b[0mviewlim_to_dt\u001b[0m\u001b[0;34m(\u001b[0m\u001b[0;34m)\u001b[0m\u001b[0;34m\u001b[0m\u001b[0m\n\u001b[0m\u001b[1;32m   1118\u001b[0m         \u001b[0mself\u001b[0m\u001b[0;34m.\u001b[0m\u001b[0m_locator\u001b[0m \u001b[0;34m=\u001b[0m \u001b[0mself\u001b[0m\u001b[0;34m.\u001b[0m\u001b[0mget_locator\u001b[0m\u001b[0;34m(\u001b[0m\u001b[0mdmin\u001b[0m\u001b[0;34m,\u001b[0m \u001b[0mdmax\u001b[0m\u001b[0;34m)\u001b[0m\u001b[0;34m\u001b[0m\u001b[0m\n\u001b[1;32m   1119\u001b[0m \u001b[0;34m\u001b[0m\u001b[0m\n",
      "\u001b[0;32m/Users/michael/anaconda2/lib/python2.7/site-packages/matplotlib/dates.pyc\u001b[0m in \u001b[0;36mviewlim_to_dt\u001b[0;34m(self)\u001b[0m\n\u001b[1;32m    873\u001b[0m             \u001b[0mvmin\u001b[0m\u001b[0;34m,\u001b[0m \u001b[0mvmax\u001b[0m \u001b[0;34m=\u001b[0m \u001b[0mvmax\u001b[0m\u001b[0;34m,\u001b[0m \u001b[0mvmin\u001b[0m\u001b[0;34m\u001b[0m\u001b[0m\n\u001b[1;32m    874\u001b[0m \u001b[0;34m\u001b[0m\u001b[0m\n\u001b[0;32m--> 875\u001b[0;31m         \u001b[0;32mreturn\u001b[0m \u001b[0mnum2date\u001b[0m\u001b[0;34m(\u001b[0m\u001b[0mvmin\u001b[0m\u001b[0;34m,\u001b[0m \u001b[0mself\u001b[0m\u001b[0;34m.\u001b[0m\u001b[0mtz\u001b[0m\u001b[0;34m)\u001b[0m\u001b[0;34m,\u001b[0m \u001b[0mnum2date\u001b[0m\u001b[0;34m(\u001b[0m\u001b[0mvmax\u001b[0m\u001b[0;34m,\u001b[0m \u001b[0mself\u001b[0m\u001b[0;34m.\u001b[0m\u001b[0mtz\u001b[0m\u001b[0;34m)\u001b[0m\u001b[0;34m\u001b[0m\u001b[0m\n\u001b[0m\u001b[1;32m    876\u001b[0m \u001b[0;34m\u001b[0m\u001b[0m\n\u001b[1;32m    877\u001b[0m     \u001b[0;32mdef\u001b[0m \u001b[0m_get_unit\u001b[0m\u001b[0;34m(\u001b[0m\u001b[0mself\u001b[0m\u001b[0;34m)\u001b[0m\u001b[0;34m:\u001b[0m\u001b[0;34m\u001b[0m\u001b[0m\n",
      "\u001b[0;32m/Users/michael/anaconda2/lib/python2.7/site-packages/matplotlib/dates.pyc\u001b[0m in \u001b[0;36mnum2date\u001b[0;34m(x, tz)\u001b[0m\n\u001b[1;32m    464\u001b[0m         \u001b[0mtz\u001b[0m \u001b[0;34m=\u001b[0m \u001b[0m_get_rc_timezone\u001b[0m\u001b[0;34m(\u001b[0m\u001b[0;34m)\u001b[0m\u001b[0;34m\u001b[0m\u001b[0m\n\u001b[1;32m    465\u001b[0m     \u001b[0;32mif\u001b[0m \u001b[0;32mnot\u001b[0m \u001b[0mcbook\u001b[0m\u001b[0;34m.\u001b[0m\u001b[0miterable\u001b[0m\u001b[0;34m(\u001b[0m\u001b[0mx\u001b[0m\u001b[0;34m)\u001b[0m\u001b[0;34m:\u001b[0m\u001b[0;34m\u001b[0m\u001b[0m\n\u001b[0;32m--> 466\u001b[0;31m         \u001b[0;32mreturn\u001b[0m \u001b[0m_from_ordinalf\u001b[0m\u001b[0;34m(\u001b[0m\u001b[0mx\u001b[0m\u001b[0;34m,\u001b[0m \u001b[0mtz\u001b[0m\u001b[0;34m)\u001b[0m\u001b[0;34m\u001b[0m\u001b[0m\n\u001b[0m\u001b[1;32m    467\u001b[0m     \u001b[0;32melse\u001b[0m\u001b[0;34m:\u001b[0m\u001b[0;34m\u001b[0m\u001b[0m\n\u001b[1;32m    468\u001b[0m         \u001b[0mx\u001b[0m \u001b[0;34m=\u001b[0m \u001b[0mnp\u001b[0m\u001b[0;34m.\u001b[0m\u001b[0masarray\u001b[0m\u001b[0;34m(\u001b[0m\u001b[0mx\u001b[0m\u001b[0;34m)\u001b[0m\u001b[0;34m\u001b[0m\u001b[0m\n",
      "\u001b[0;32m/Users/michael/anaconda2/lib/python2.7/site-packages/matplotlib/dates.pyc\u001b[0m in \u001b[0;36m_from_ordinalf\u001b[0;34m(x, tz)\u001b[0m\n\u001b[1;32m    277\u001b[0m \u001b[0;34m\u001b[0m\u001b[0m\n\u001b[1;32m    278\u001b[0m     \u001b[0mix\u001b[0m \u001b[0;34m=\u001b[0m \u001b[0mint\u001b[0m\u001b[0;34m(\u001b[0m\u001b[0mx\u001b[0m\u001b[0;34m)\u001b[0m\u001b[0;34m\u001b[0m\u001b[0m\n\u001b[0;32m--> 279\u001b[0;31m     \u001b[0mdt\u001b[0m \u001b[0;34m=\u001b[0m \u001b[0mdatetime\u001b[0m\u001b[0;34m.\u001b[0m\u001b[0mdatetime\u001b[0m\u001b[0;34m.\u001b[0m\u001b[0mfromordinal\u001b[0m\u001b[0;34m(\u001b[0m\u001b[0mix\u001b[0m\u001b[0;34m)\u001b[0m\u001b[0;34m.\u001b[0m\u001b[0mreplace\u001b[0m\u001b[0;34m(\u001b[0m\u001b[0mtzinfo\u001b[0m\u001b[0;34m=\u001b[0m\u001b[0mUTC\u001b[0m\u001b[0;34m)\u001b[0m\u001b[0;34m\u001b[0m\u001b[0m\n\u001b[0m\u001b[1;32m    280\u001b[0m \u001b[0;34m\u001b[0m\u001b[0m\n\u001b[1;32m    281\u001b[0m     \u001b[0mremainder\u001b[0m \u001b[0;34m=\u001b[0m \u001b[0mfloat\u001b[0m\u001b[0;34m(\u001b[0m\u001b[0mx\u001b[0m\u001b[0;34m)\u001b[0m \u001b[0;34m-\u001b[0m \u001b[0mix\u001b[0m\u001b[0;34m\u001b[0m\u001b[0m\n",
      "\u001b[0;31mValueError\u001b[0m: ordinal must be >= 1"
     ]
    },
    {
     "ename": "ValueError",
     "evalue": "ordinal must be >= 1",
     "output_type": "error",
     "traceback": [
      "\u001b[0;31m---------------------------------------------------------------------------\u001b[0m",
      "\u001b[0;31mValueError\u001b[0m                                Traceback (most recent call last)",
      "\u001b[0;32m/Users/michael/anaconda2/lib/python2.7/site-packages/IPython/core/formatters.pyc\u001b[0m in \u001b[0;36m__call__\u001b[0;34m(self, obj)\u001b[0m\n\u001b[1;32m    332\u001b[0m                 \u001b[0;32mpass\u001b[0m\u001b[0;34m\u001b[0m\u001b[0m\n\u001b[1;32m    333\u001b[0m             \u001b[0;32melse\u001b[0m\u001b[0;34m:\u001b[0m\u001b[0;34m\u001b[0m\u001b[0m\n\u001b[0;32m--> 334\u001b[0;31m                 \u001b[0;32mreturn\u001b[0m \u001b[0mprinter\u001b[0m\u001b[0;34m(\u001b[0m\u001b[0mobj\u001b[0m\u001b[0;34m)\u001b[0m\u001b[0;34m\u001b[0m\u001b[0m\n\u001b[0m\u001b[1;32m    335\u001b[0m             \u001b[0;31m# Finally look for special method names\u001b[0m\u001b[0;34m\u001b[0m\u001b[0;34m\u001b[0m\u001b[0m\n\u001b[1;32m    336\u001b[0m             \u001b[0mmethod\u001b[0m \u001b[0;34m=\u001b[0m \u001b[0mget_real_method\u001b[0m\u001b[0;34m(\u001b[0m\u001b[0mobj\u001b[0m\u001b[0;34m,\u001b[0m \u001b[0mself\u001b[0m\u001b[0;34m.\u001b[0m\u001b[0mprint_method\u001b[0m\u001b[0;34m)\u001b[0m\u001b[0;34m\u001b[0m\u001b[0m\n",
      "\u001b[0;32m/Users/michael/anaconda2/lib/python2.7/site-packages/IPython/core/pylabtools.pyc\u001b[0m in \u001b[0;36m<lambda>\u001b[0;34m(fig)\u001b[0m\n\u001b[1;32m    238\u001b[0m \u001b[0;34m\u001b[0m\u001b[0m\n\u001b[1;32m    239\u001b[0m     \u001b[0;32mif\u001b[0m \u001b[0;34m'png'\u001b[0m \u001b[0;32min\u001b[0m \u001b[0mformats\u001b[0m\u001b[0;34m:\u001b[0m\u001b[0;34m\u001b[0m\u001b[0m\n\u001b[0;32m--> 240\u001b[0;31m         \u001b[0mpng_formatter\u001b[0m\u001b[0;34m.\u001b[0m\u001b[0mfor_type\u001b[0m\u001b[0;34m(\u001b[0m\u001b[0mFigure\u001b[0m\u001b[0;34m,\u001b[0m \u001b[0;32mlambda\u001b[0m \u001b[0mfig\u001b[0m\u001b[0;34m:\u001b[0m \u001b[0mprint_figure\u001b[0m\u001b[0;34m(\u001b[0m\u001b[0mfig\u001b[0m\u001b[0;34m,\u001b[0m \u001b[0;34m'png'\u001b[0m\u001b[0;34m,\u001b[0m \u001b[0;34m**\u001b[0m\u001b[0mkwargs\u001b[0m\u001b[0;34m)\u001b[0m\u001b[0;34m)\u001b[0m\u001b[0;34m\u001b[0m\u001b[0m\n\u001b[0m\u001b[1;32m    241\u001b[0m     \u001b[0;32mif\u001b[0m \u001b[0;34m'retina'\u001b[0m \u001b[0;32min\u001b[0m \u001b[0mformats\u001b[0m \u001b[0;32mor\u001b[0m \u001b[0;34m'png2x'\u001b[0m \u001b[0;32min\u001b[0m \u001b[0mformats\u001b[0m\u001b[0;34m:\u001b[0m\u001b[0;34m\u001b[0m\u001b[0m\n\u001b[1;32m    242\u001b[0m         \u001b[0mpng_formatter\u001b[0m\u001b[0;34m.\u001b[0m\u001b[0mfor_type\u001b[0m\u001b[0;34m(\u001b[0m\u001b[0mFigure\u001b[0m\u001b[0;34m,\u001b[0m \u001b[0;32mlambda\u001b[0m \u001b[0mfig\u001b[0m\u001b[0;34m:\u001b[0m \u001b[0mretina_figure\u001b[0m\u001b[0;34m(\u001b[0m\u001b[0mfig\u001b[0m\u001b[0;34m,\u001b[0m \u001b[0;34m**\u001b[0m\u001b[0mkwargs\u001b[0m\u001b[0;34m)\u001b[0m\u001b[0;34m)\u001b[0m\u001b[0;34m\u001b[0m\u001b[0m\n",
      "\u001b[0;32m/Users/michael/anaconda2/lib/python2.7/site-packages/IPython/core/pylabtools.pyc\u001b[0m in \u001b[0;36mprint_figure\u001b[0;34m(fig, fmt, bbox_inches, **kwargs)\u001b[0m\n\u001b[1;32m    122\u001b[0m \u001b[0;34m\u001b[0m\u001b[0m\n\u001b[1;32m    123\u001b[0m     \u001b[0mbytes_io\u001b[0m \u001b[0;34m=\u001b[0m \u001b[0mBytesIO\u001b[0m\u001b[0;34m(\u001b[0m\u001b[0;34m)\u001b[0m\u001b[0;34m\u001b[0m\u001b[0m\n\u001b[0;32m--> 124\u001b[0;31m     \u001b[0mfig\u001b[0m\u001b[0;34m.\u001b[0m\u001b[0mcanvas\u001b[0m\u001b[0;34m.\u001b[0m\u001b[0mprint_figure\u001b[0m\u001b[0;34m(\u001b[0m\u001b[0mbytes_io\u001b[0m\u001b[0;34m,\u001b[0m \u001b[0;34m**\u001b[0m\u001b[0mkw\u001b[0m\u001b[0;34m)\u001b[0m\u001b[0;34m\u001b[0m\u001b[0m\n\u001b[0m\u001b[1;32m    125\u001b[0m     \u001b[0mdata\u001b[0m \u001b[0;34m=\u001b[0m \u001b[0mbytes_io\u001b[0m\u001b[0;34m.\u001b[0m\u001b[0mgetvalue\u001b[0m\u001b[0;34m(\u001b[0m\u001b[0;34m)\u001b[0m\u001b[0;34m\u001b[0m\u001b[0m\n\u001b[1;32m    126\u001b[0m     \u001b[0;32mif\u001b[0m \u001b[0mfmt\u001b[0m \u001b[0;34m==\u001b[0m \u001b[0;34m'svg'\u001b[0m\u001b[0;34m:\u001b[0m\u001b[0;34m\u001b[0m\u001b[0m\n",
      "\u001b[0;32m/Users/michael/anaconda2/lib/python2.7/site-packages/matplotlib/backend_bases.pyc\u001b[0m in \u001b[0;36mprint_figure\u001b[0;34m(self, filename, dpi, facecolor, edgecolor, orientation, format, **kwargs)\u001b[0m\n\u001b[1;32m   2214\u001b[0m                     \u001b[0morientation\u001b[0m\u001b[0;34m=\u001b[0m\u001b[0morientation\u001b[0m\u001b[0;34m,\u001b[0m\u001b[0;34m\u001b[0m\u001b[0m\n\u001b[1;32m   2215\u001b[0m                     \u001b[0mdryrun\u001b[0m\u001b[0;34m=\u001b[0m\u001b[0mTrue\u001b[0m\u001b[0;34m,\u001b[0m\u001b[0;34m\u001b[0m\u001b[0m\n\u001b[0;32m-> 2216\u001b[0;31m                     **kwargs)\n\u001b[0m\u001b[1;32m   2217\u001b[0m                 \u001b[0mrenderer\u001b[0m \u001b[0;34m=\u001b[0m \u001b[0mself\u001b[0m\u001b[0;34m.\u001b[0m\u001b[0mfigure\u001b[0m\u001b[0;34m.\u001b[0m\u001b[0m_cachedRenderer\u001b[0m\u001b[0;34m\u001b[0m\u001b[0m\n\u001b[1;32m   2218\u001b[0m                 \u001b[0mbbox_inches\u001b[0m \u001b[0;34m=\u001b[0m \u001b[0mself\u001b[0m\u001b[0;34m.\u001b[0m\u001b[0mfigure\u001b[0m\u001b[0;34m.\u001b[0m\u001b[0mget_tightbbox\u001b[0m\u001b[0;34m(\u001b[0m\u001b[0mrenderer\u001b[0m\u001b[0;34m)\u001b[0m\u001b[0;34m\u001b[0m\u001b[0m\n",
      "\u001b[0;32m/Users/michael/anaconda2/lib/python2.7/site-packages/matplotlib/backends/backend_agg.pyc\u001b[0m in \u001b[0;36mprint_png\u001b[0;34m(self, filename_or_obj, *args, **kwargs)\u001b[0m\n\u001b[1;32m    505\u001b[0m \u001b[0;34m\u001b[0m\u001b[0m\n\u001b[1;32m    506\u001b[0m     \u001b[0;32mdef\u001b[0m \u001b[0mprint_png\u001b[0m\u001b[0;34m(\u001b[0m\u001b[0mself\u001b[0m\u001b[0;34m,\u001b[0m \u001b[0mfilename_or_obj\u001b[0m\u001b[0;34m,\u001b[0m \u001b[0;34m*\u001b[0m\u001b[0margs\u001b[0m\u001b[0;34m,\u001b[0m \u001b[0;34m**\u001b[0m\u001b[0mkwargs\u001b[0m\u001b[0;34m)\u001b[0m\u001b[0;34m:\u001b[0m\u001b[0;34m\u001b[0m\u001b[0m\n\u001b[0;32m--> 507\u001b[0;31m         \u001b[0mFigureCanvasAgg\u001b[0m\u001b[0;34m.\u001b[0m\u001b[0mdraw\u001b[0m\u001b[0;34m(\u001b[0m\u001b[0mself\u001b[0m\u001b[0;34m)\u001b[0m\u001b[0;34m\u001b[0m\u001b[0m\n\u001b[0m\u001b[1;32m    508\u001b[0m         \u001b[0mrenderer\u001b[0m \u001b[0;34m=\u001b[0m \u001b[0mself\u001b[0m\u001b[0;34m.\u001b[0m\u001b[0mget_renderer\u001b[0m\u001b[0;34m(\u001b[0m\u001b[0;34m)\u001b[0m\u001b[0;34m\u001b[0m\u001b[0m\n\u001b[1;32m    509\u001b[0m         \u001b[0moriginal_dpi\u001b[0m \u001b[0;34m=\u001b[0m \u001b[0mrenderer\u001b[0m\u001b[0;34m.\u001b[0m\u001b[0mdpi\u001b[0m\u001b[0;34m\u001b[0m\u001b[0m\n",
      "\u001b[0;32m/Users/michael/anaconda2/lib/python2.7/site-packages/matplotlib/backends/backend_agg.pyc\u001b[0m in \u001b[0;36mdraw\u001b[0;34m(self)\u001b[0m\n\u001b[1;32m    428\u001b[0m             \u001b[0;31m# if toolbar:\u001b[0m\u001b[0;34m\u001b[0m\u001b[0;34m\u001b[0m\u001b[0m\n\u001b[1;32m    429\u001b[0m             \u001b[0;31m#     toolbar.set_cursor(cursors.WAIT)\u001b[0m\u001b[0;34m\u001b[0m\u001b[0;34m\u001b[0m\u001b[0m\n\u001b[0;32m--> 430\u001b[0;31m             \u001b[0mself\u001b[0m\u001b[0;34m.\u001b[0m\u001b[0mfigure\u001b[0m\u001b[0;34m.\u001b[0m\u001b[0mdraw\u001b[0m\u001b[0;34m(\u001b[0m\u001b[0mself\u001b[0m\u001b[0;34m.\u001b[0m\u001b[0mrenderer\u001b[0m\u001b[0;34m)\u001b[0m\u001b[0;34m\u001b[0m\u001b[0m\n\u001b[0m\u001b[1;32m    431\u001b[0m         \u001b[0;32mfinally\u001b[0m\u001b[0;34m:\u001b[0m\u001b[0;34m\u001b[0m\u001b[0m\n\u001b[1;32m    432\u001b[0m             \u001b[0;31m# if toolbar:\u001b[0m\u001b[0;34m\u001b[0m\u001b[0;34m\u001b[0m\u001b[0m\n",
      "\u001b[0;32m/Users/michael/anaconda2/lib/python2.7/site-packages/matplotlib/artist.pyc\u001b[0m in \u001b[0;36mdraw_wrapper\u001b[0;34m(artist, renderer, *args, **kwargs)\u001b[0m\n\u001b[1;32m     53\u001b[0m                 \u001b[0mrenderer\u001b[0m\u001b[0;34m.\u001b[0m\u001b[0mstart_filter\u001b[0m\u001b[0;34m(\u001b[0m\u001b[0;34m)\u001b[0m\u001b[0;34m\u001b[0m\u001b[0m\n\u001b[1;32m     54\u001b[0m \u001b[0;34m\u001b[0m\u001b[0m\n\u001b[0;32m---> 55\u001b[0;31m             \u001b[0;32mreturn\u001b[0m \u001b[0mdraw\u001b[0m\u001b[0;34m(\u001b[0m\u001b[0martist\u001b[0m\u001b[0;34m,\u001b[0m \u001b[0mrenderer\u001b[0m\u001b[0;34m,\u001b[0m \u001b[0;34m*\u001b[0m\u001b[0margs\u001b[0m\u001b[0;34m,\u001b[0m \u001b[0;34m**\u001b[0m\u001b[0mkwargs\u001b[0m\u001b[0;34m)\u001b[0m\u001b[0;34m\u001b[0m\u001b[0m\n\u001b[0m\u001b[1;32m     56\u001b[0m         \u001b[0;32mfinally\u001b[0m\u001b[0;34m:\u001b[0m\u001b[0;34m\u001b[0m\u001b[0m\n\u001b[1;32m     57\u001b[0m             \u001b[0;32mif\u001b[0m \u001b[0martist\u001b[0m\u001b[0;34m.\u001b[0m\u001b[0mget_agg_filter\u001b[0m\u001b[0;34m(\u001b[0m\u001b[0;34m)\u001b[0m \u001b[0;32mis\u001b[0m \u001b[0;32mnot\u001b[0m \u001b[0mNone\u001b[0m\u001b[0;34m:\u001b[0m\u001b[0;34m\u001b[0m\u001b[0m\n",
      "\u001b[0;32m/Users/michael/anaconda2/lib/python2.7/site-packages/matplotlib/figure.pyc\u001b[0m in \u001b[0;36mdraw\u001b[0;34m(self, renderer)\u001b[0m\n\u001b[1;32m   1297\u001b[0m \u001b[0;34m\u001b[0m\u001b[0m\n\u001b[1;32m   1298\u001b[0m             mimage._draw_list_compositing_images(\n\u001b[0;32m-> 1299\u001b[0;31m                 renderer, self, artists, self.suppressComposite)\n\u001b[0m\u001b[1;32m   1300\u001b[0m \u001b[0;34m\u001b[0m\u001b[0m\n\u001b[1;32m   1301\u001b[0m             \u001b[0mrenderer\u001b[0m\u001b[0;34m.\u001b[0m\u001b[0mclose_group\u001b[0m\u001b[0;34m(\u001b[0m\u001b[0;34m'figure'\u001b[0m\u001b[0;34m)\u001b[0m\u001b[0;34m\u001b[0m\u001b[0m\n",
      "\u001b[0;32m/Users/michael/anaconda2/lib/python2.7/site-packages/matplotlib/image.pyc\u001b[0m in \u001b[0;36m_draw_list_compositing_images\u001b[0;34m(renderer, parent, artists, suppress_composite)\u001b[0m\n\u001b[1;32m    136\u001b[0m     \u001b[0;32mif\u001b[0m \u001b[0mnot_composite\u001b[0m \u001b[0;32mor\u001b[0m \u001b[0;32mnot\u001b[0m \u001b[0mhas_images\u001b[0m\u001b[0;34m:\u001b[0m\u001b[0;34m\u001b[0m\u001b[0m\n\u001b[1;32m    137\u001b[0m         \u001b[0;32mfor\u001b[0m \u001b[0ma\u001b[0m \u001b[0;32min\u001b[0m \u001b[0martists\u001b[0m\u001b[0;34m:\u001b[0m\u001b[0;34m\u001b[0m\u001b[0m\n\u001b[0;32m--> 138\u001b[0;31m             \u001b[0ma\u001b[0m\u001b[0;34m.\u001b[0m\u001b[0mdraw\u001b[0m\u001b[0;34m(\u001b[0m\u001b[0mrenderer\u001b[0m\u001b[0;34m)\u001b[0m\u001b[0;34m\u001b[0m\u001b[0m\n\u001b[0m\u001b[1;32m    139\u001b[0m     \u001b[0;32melse\u001b[0m\u001b[0;34m:\u001b[0m\u001b[0;34m\u001b[0m\u001b[0m\n\u001b[1;32m    140\u001b[0m         \u001b[0;31m# Composite any adjacent images together\u001b[0m\u001b[0;34m\u001b[0m\u001b[0;34m\u001b[0m\u001b[0m\n",
      "\u001b[0;32m/Users/michael/anaconda2/lib/python2.7/site-packages/matplotlib/artist.pyc\u001b[0m in \u001b[0;36mdraw_wrapper\u001b[0;34m(artist, renderer, *args, **kwargs)\u001b[0m\n\u001b[1;32m     53\u001b[0m                 \u001b[0mrenderer\u001b[0m\u001b[0;34m.\u001b[0m\u001b[0mstart_filter\u001b[0m\u001b[0;34m(\u001b[0m\u001b[0;34m)\u001b[0m\u001b[0;34m\u001b[0m\u001b[0m\n\u001b[1;32m     54\u001b[0m \u001b[0;34m\u001b[0m\u001b[0m\n\u001b[0;32m---> 55\u001b[0;31m             \u001b[0;32mreturn\u001b[0m \u001b[0mdraw\u001b[0m\u001b[0;34m(\u001b[0m\u001b[0martist\u001b[0m\u001b[0;34m,\u001b[0m \u001b[0mrenderer\u001b[0m\u001b[0;34m,\u001b[0m \u001b[0;34m*\u001b[0m\u001b[0margs\u001b[0m\u001b[0;34m,\u001b[0m \u001b[0;34m**\u001b[0m\u001b[0mkwargs\u001b[0m\u001b[0;34m)\u001b[0m\u001b[0;34m\u001b[0m\u001b[0m\n\u001b[0m\u001b[1;32m     56\u001b[0m         \u001b[0;32mfinally\u001b[0m\u001b[0;34m:\u001b[0m\u001b[0;34m\u001b[0m\u001b[0m\n\u001b[1;32m     57\u001b[0m             \u001b[0;32mif\u001b[0m \u001b[0martist\u001b[0m\u001b[0;34m.\u001b[0m\u001b[0mget_agg_filter\u001b[0m\u001b[0;34m(\u001b[0m\u001b[0;34m)\u001b[0m \u001b[0;32mis\u001b[0m \u001b[0;32mnot\u001b[0m \u001b[0mNone\u001b[0m\u001b[0;34m:\u001b[0m\u001b[0;34m\u001b[0m\u001b[0m\n",
      "\u001b[0;32m/Users/michael/anaconda2/lib/python2.7/site-packages/matplotlib/axes/_base.pyc\u001b[0m in \u001b[0;36mdraw\u001b[0;34m(self, renderer, inframe)\u001b[0m\n\u001b[1;32m   2435\u001b[0m             \u001b[0mrenderer\u001b[0m\u001b[0;34m.\u001b[0m\u001b[0mstop_rasterizing\u001b[0m\u001b[0;34m(\u001b[0m\u001b[0;34m)\u001b[0m\u001b[0;34m\u001b[0m\u001b[0m\n\u001b[1;32m   2436\u001b[0m \u001b[0;34m\u001b[0m\u001b[0m\n\u001b[0;32m-> 2437\u001b[0;31m         \u001b[0mmimage\u001b[0m\u001b[0;34m.\u001b[0m\u001b[0m_draw_list_compositing_images\u001b[0m\u001b[0;34m(\u001b[0m\u001b[0mrenderer\u001b[0m\u001b[0;34m,\u001b[0m \u001b[0mself\u001b[0m\u001b[0;34m,\u001b[0m \u001b[0martists\u001b[0m\u001b[0;34m)\u001b[0m\u001b[0;34m\u001b[0m\u001b[0m\n\u001b[0m\u001b[1;32m   2438\u001b[0m \u001b[0;34m\u001b[0m\u001b[0m\n\u001b[1;32m   2439\u001b[0m         \u001b[0mrenderer\u001b[0m\u001b[0;34m.\u001b[0m\u001b[0mclose_group\u001b[0m\u001b[0;34m(\u001b[0m\u001b[0;34m'axes'\u001b[0m\u001b[0;34m)\u001b[0m\u001b[0;34m\u001b[0m\u001b[0m\n",
      "\u001b[0;32m/Users/michael/anaconda2/lib/python2.7/site-packages/matplotlib/image.pyc\u001b[0m in \u001b[0;36m_draw_list_compositing_images\u001b[0;34m(renderer, parent, artists, suppress_composite)\u001b[0m\n\u001b[1;32m    136\u001b[0m     \u001b[0;32mif\u001b[0m \u001b[0mnot_composite\u001b[0m \u001b[0;32mor\u001b[0m \u001b[0;32mnot\u001b[0m \u001b[0mhas_images\u001b[0m\u001b[0;34m:\u001b[0m\u001b[0;34m\u001b[0m\u001b[0m\n\u001b[1;32m    137\u001b[0m         \u001b[0;32mfor\u001b[0m \u001b[0ma\u001b[0m \u001b[0;32min\u001b[0m \u001b[0martists\u001b[0m\u001b[0;34m:\u001b[0m\u001b[0;34m\u001b[0m\u001b[0m\n\u001b[0;32m--> 138\u001b[0;31m             \u001b[0ma\u001b[0m\u001b[0;34m.\u001b[0m\u001b[0mdraw\u001b[0m\u001b[0;34m(\u001b[0m\u001b[0mrenderer\u001b[0m\u001b[0;34m)\u001b[0m\u001b[0;34m\u001b[0m\u001b[0m\n\u001b[0m\u001b[1;32m    139\u001b[0m     \u001b[0;32melse\u001b[0m\u001b[0;34m:\u001b[0m\u001b[0;34m\u001b[0m\u001b[0m\n\u001b[1;32m    140\u001b[0m         \u001b[0;31m# Composite any adjacent images together\u001b[0m\u001b[0;34m\u001b[0m\u001b[0;34m\u001b[0m\u001b[0m\n",
      "\u001b[0;32m/Users/michael/anaconda2/lib/python2.7/site-packages/matplotlib/artist.pyc\u001b[0m in \u001b[0;36mdraw_wrapper\u001b[0;34m(artist, renderer, *args, **kwargs)\u001b[0m\n\u001b[1;32m     53\u001b[0m                 \u001b[0mrenderer\u001b[0m\u001b[0;34m.\u001b[0m\u001b[0mstart_filter\u001b[0m\u001b[0;34m(\u001b[0m\u001b[0;34m)\u001b[0m\u001b[0;34m\u001b[0m\u001b[0m\n\u001b[1;32m     54\u001b[0m \u001b[0;34m\u001b[0m\u001b[0m\n\u001b[0;32m---> 55\u001b[0;31m             \u001b[0;32mreturn\u001b[0m \u001b[0mdraw\u001b[0m\u001b[0;34m(\u001b[0m\u001b[0martist\u001b[0m\u001b[0;34m,\u001b[0m \u001b[0mrenderer\u001b[0m\u001b[0;34m,\u001b[0m \u001b[0;34m*\u001b[0m\u001b[0margs\u001b[0m\u001b[0;34m,\u001b[0m \u001b[0;34m**\u001b[0m\u001b[0mkwargs\u001b[0m\u001b[0;34m)\u001b[0m\u001b[0;34m\u001b[0m\u001b[0m\n\u001b[0m\u001b[1;32m     56\u001b[0m         \u001b[0;32mfinally\u001b[0m\u001b[0;34m:\u001b[0m\u001b[0;34m\u001b[0m\u001b[0m\n\u001b[1;32m     57\u001b[0m             \u001b[0;32mif\u001b[0m \u001b[0martist\u001b[0m\u001b[0;34m.\u001b[0m\u001b[0mget_agg_filter\u001b[0m\u001b[0;34m(\u001b[0m\u001b[0;34m)\u001b[0m \u001b[0;32mis\u001b[0m \u001b[0;32mnot\u001b[0m \u001b[0mNone\u001b[0m\u001b[0;34m:\u001b[0m\u001b[0;34m\u001b[0m\u001b[0m\n",
      "\u001b[0;32m/Users/michael/anaconda2/lib/python2.7/site-packages/matplotlib/axis.pyc\u001b[0m in \u001b[0;36mdraw\u001b[0;34m(self, renderer, *args, **kwargs)\u001b[0m\n\u001b[1;32m   1131\u001b[0m         \u001b[0mrenderer\u001b[0m\u001b[0;34m.\u001b[0m\u001b[0mopen_group\u001b[0m\u001b[0;34m(\u001b[0m\u001b[0m__name__\u001b[0m\u001b[0;34m)\u001b[0m\u001b[0;34m\u001b[0m\u001b[0m\n\u001b[1;32m   1132\u001b[0m \u001b[0;34m\u001b[0m\u001b[0m\n\u001b[0;32m-> 1133\u001b[0;31m         \u001b[0mticks_to_draw\u001b[0m \u001b[0;34m=\u001b[0m \u001b[0mself\u001b[0m\u001b[0;34m.\u001b[0m\u001b[0m_update_ticks\u001b[0m\u001b[0;34m(\u001b[0m\u001b[0mrenderer\u001b[0m\u001b[0;34m)\u001b[0m\u001b[0;34m\u001b[0m\u001b[0m\n\u001b[0m\u001b[1;32m   1134\u001b[0m         ticklabelBoxes, ticklabelBoxes2 = self._get_tick_bboxes(ticks_to_draw,\n\u001b[1;32m   1135\u001b[0m                                                                 renderer)\n",
      "\u001b[0;32m/Users/michael/anaconda2/lib/python2.7/site-packages/matplotlib/axis.pyc\u001b[0m in \u001b[0;36m_update_ticks\u001b[0;34m(self, renderer)\u001b[0m\n\u001b[1;32m    972\u001b[0m \u001b[0;34m\u001b[0m\u001b[0m\n\u001b[1;32m    973\u001b[0m         \u001b[0minterval\u001b[0m \u001b[0;34m=\u001b[0m \u001b[0mself\u001b[0m\u001b[0;34m.\u001b[0m\u001b[0mget_view_interval\u001b[0m\u001b[0;34m(\u001b[0m\u001b[0;34m)\u001b[0m\u001b[0;34m\u001b[0m\u001b[0m\n\u001b[0;32m--> 974\u001b[0;31m         \u001b[0mtick_tups\u001b[0m \u001b[0;34m=\u001b[0m \u001b[0mlist\u001b[0m\u001b[0;34m(\u001b[0m\u001b[0mself\u001b[0m\u001b[0;34m.\u001b[0m\u001b[0miter_ticks\u001b[0m\u001b[0;34m(\u001b[0m\u001b[0;34m)\u001b[0m\u001b[0;34m)\u001b[0m\u001b[0;34m\u001b[0m\u001b[0m\n\u001b[0m\u001b[1;32m    975\u001b[0m         \u001b[0;32mif\u001b[0m \u001b[0mself\u001b[0m\u001b[0;34m.\u001b[0m\u001b[0m_smart_bounds\u001b[0m \u001b[0;32mand\u001b[0m \u001b[0mtick_tups\u001b[0m\u001b[0;34m:\u001b[0m\u001b[0;34m\u001b[0m\u001b[0m\n\u001b[1;32m    976\u001b[0m             \u001b[0;31m# handle inverted limits\u001b[0m\u001b[0;34m\u001b[0m\u001b[0;34m\u001b[0m\u001b[0m\n",
      "\u001b[0;32m/Users/michael/anaconda2/lib/python2.7/site-packages/matplotlib/axis.pyc\u001b[0m in \u001b[0;36miter_ticks\u001b[0;34m(self)\u001b[0m\n\u001b[1;32m    915\u001b[0m         \u001b[0mIterate\u001b[0m \u001b[0mthrough\u001b[0m \u001b[0mall\u001b[0m \u001b[0mof\u001b[0m \u001b[0mthe\u001b[0m \u001b[0mmajor\u001b[0m \u001b[0;32mand\u001b[0m \u001b[0mminor\u001b[0m \u001b[0mticks\u001b[0m\u001b[0;34m.\u001b[0m\u001b[0;34m\u001b[0m\u001b[0m\n\u001b[1;32m    916\u001b[0m         \"\"\"\n\u001b[0;32m--> 917\u001b[0;31m         \u001b[0mmajorLocs\u001b[0m \u001b[0;34m=\u001b[0m \u001b[0mself\u001b[0m\u001b[0;34m.\u001b[0m\u001b[0mmajor\u001b[0m\u001b[0;34m.\u001b[0m\u001b[0mlocator\u001b[0m\u001b[0;34m(\u001b[0m\u001b[0;34m)\u001b[0m\u001b[0;34m\u001b[0m\u001b[0m\n\u001b[0m\u001b[1;32m    918\u001b[0m         \u001b[0mmajorTicks\u001b[0m \u001b[0;34m=\u001b[0m \u001b[0mself\u001b[0m\u001b[0;34m.\u001b[0m\u001b[0mget_major_ticks\u001b[0m\u001b[0;34m(\u001b[0m\u001b[0mlen\u001b[0m\u001b[0;34m(\u001b[0m\u001b[0mmajorLocs\u001b[0m\u001b[0;34m)\u001b[0m\u001b[0;34m)\u001b[0m\u001b[0;34m\u001b[0m\u001b[0m\n\u001b[1;32m    919\u001b[0m         \u001b[0mself\u001b[0m\u001b[0;34m.\u001b[0m\u001b[0mmajor\u001b[0m\u001b[0;34m.\u001b[0m\u001b[0mformatter\u001b[0m\u001b[0;34m.\u001b[0m\u001b[0mset_locs\u001b[0m\u001b[0;34m(\u001b[0m\u001b[0mmajorLocs\u001b[0m\u001b[0;34m)\u001b[0m\u001b[0;34m\u001b[0m\u001b[0m\n",
      "\u001b[0;32m/Users/michael/anaconda2/lib/python2.7/site-packages/matplotlib/dates.pyc\u001b[0m in \u001b[0;36m__call__\u001b[0;34m(self)\u001b[0m\n\u001b[1;32m   1095\u001b[0m     \u001b[0;32mdef\u001b[0m \u001b[0m__call__\u001b[0m\u001b[0;34m(\u001b[0m\u001b[0mself\u001b[0m\u001b[0;34m)\u001b[0m\u001b[0;34m:\u001b[0m\u001b[0;34m\u001b[0m\u001b[0m\n\u001b[1;32m   1096\u001b[0m         \u001b[0;34m'Return the locations of the ticks'\u001b[0m\u001b[0;34m\u001b[0m\u001b[0m\n\u001b[0;32m-> 1097\u001b[0;31m         \u001b[0mself\u001b[0m\u001b[0;34m.\u001b[0m\u001b[0mrefresh\u001b[0m\u001b[0;34m(\u001b[0m\u001b[0;34m)\u001b[0m\u001b[0;34m\u001b[0m\u001b[0m\n\u001b[0m\u001b[1;32m   1098\u001b[0m         \u001b[0;32mreturn\u001b[0m \u001b[0mself\u001b[0m\u001b[0;34m.\u001b[0m\u001b[0m_locator\u001b[0m\u001b[0;34m(\u001b[0m\u001b[0;34m)\u001b[0m\u001b[0;34m\u001b[0m\u001b[0m\n\u001b[1;32m   1099\u001b[0m \u001b[0;34m\u001b[0m\u001b[0m\n",
      "\u001b[0;32m/Users/michael/anaconda2/lib/python2.7/site-packages/matplotlib/dates.pyc\u001b[0m in \u001b[0;36mrefresh\u001b[0;34m(self)\u001b[0m\n\u001b[1;32m   1115\u001b[0m     \u001b[0;32mdef\u001b[0m \u001b[0mrefresh\u001b[0m\u001b[0;34m(\u001b[0m\u001b[0mself\u001b[0m\u001b[0;34m)\u001b[0m\u001b[0;34m:\u001b[0m\u001b[0;34m\u001b[0m\u001b[0m\n\u001b[1;32m   1116\u001b[0m         \u001b[0;34m'Refresh internal information based on current limits.'\u001b[0m\u001b[0;34m\u001b[0m\u001b[0m\n\u001b[0;32m-> 1117\u001b[0;31m         \u001b[0mdmin\u001b[0m\u001b[0;34m,\u001b[0m \u001b[0mdmax\u001b[0m \u001b[0;34m=\u001b[0m \u001b[0mself\u001b[0m\u001b[0;34m.\u001b[0m\u001b[0mviewlim_to_dt\u001b[0m\u001b[0;34m(\u001b[0m\u001b[0;34m)\u001b[0m\u001b[0;34m\u001b[0m\u001b[0m\n\u001b[0m\u001b[1;32m   1118\u001b[0m         \u001b[0mself\u001b[0m\u001b[0;34m.\u001b[0m\u001b[0m_locator\u001b[0m \u001b[0;34m=\u001b[0m \u001b[0mself\u001b[0m\u001b[0;34m.\u001b[0m\u001b[0mget_locator\u001b[0m\u001b[0;34m(\u001b[0m\u001b[0mdmin\u001b[0m\u001b[0;34m,\u001b[0m \u001b[0mdmax\u001b[0m\u001b[0;34m)\u001b[0m\u001b[0;34m\u001b[0m\u001b[0m\n\u001b[1;32m   1119\u001b[0m \u001b[0;34m\u001b[0m\u001b[0m\n",
      "\u001b[0;32m/Users/michael/anaconda2/lib/python2.7/site-packages/matplotlib/dates.pyc\u001b[0m in \u001b[0;36mviewlim_to_dt\u001b[0;34m(self)\u001b[0m\n\u001b[1;32m    873\u001b[0m             \u001b[0mvmin\u001b[0m\u001b[0;34m,\u001b[0m \u001b[0mvmax\u001b[0m \u001b[0;34m=\u001b[0m \u001b[0mvmax\u001b[0m\u001b[0;34m,\u001b[0m \u001b[0mvmin\u001b[0m\u001b[0;34m\u001b[0m\u001b[0m\n\u001b[1;32m    874\u001b[0m \u001b[0;34m\u001b[0m\u001b[0m\n\u001b[0;32m--> 875\u001b[0;31m         \u001b[0;32mreturn\u001b[0m \u001b[0mnum2date\u001b[0m\u001b[0;34m(\u001b[0m\u001b[0mvmin\u001b[0m\u001b[0;34m,\u001b[0m \u001b[0mself\u001b[0m\u001b[0;34m.\u001b[0m\u001b[0mtz\u001b[0m\u001b[0;34m)\u001b[0m\u001b[0;34m,\u001b[0m \u001b[0mnum2date\u001b[0m\u001b[0;34m(\u001b[0m\u001b[0mvmax\u001b[0m\u001b[0;34m,\u001b[0m \u001b[0mself\u001b[0m\u001b[0;34m.\u001b[0m\u001b[0mtz\u001b[0m\u001b[0;34m)\u001b[0m\u001b[0;34m\u001b[0m\u001b[0m\n\u001b[0m\u001b[1;32m    876\u001b[0m \u001b[0;34m\u001b[0m\u001b[0m\n\u001b[1;32m    877\u001b[0m     \u001b[0;32mdef\u001b[0m \u001b[0m_get_unit\u001b[0m\u001b[0;34m(\u001b[0m\u001b[0mself\u001b[0m\u001b[0;34m)\u001b[0m\u001b[0;34m:\u001b[0m\u001b[0;34m\u001b[0m\u001b[0m\n",
      "\u001b[0;32m/Users/michael/anaconda2/lib/python2.7/site-packages/matplotlib/dates.pyc\u001b[0m in \u001b[0;36mnum2date\u001b[0;34m(x, tz)\u001b[0m\n\u001b[1;32m    464\u001b[0m         \u001b[0mtz\u001b[0m \u001b[0;34m=\u001b[0m \u001b[0m_get_rc_timezone\u001b[0m\u001b[0;34m(\u001b[0m\u001b[0;34m)\u001b[0m\u001b[0;34m\u001b[0m\u001b[0m\n\u001b[1;32m    465\u001b[0m     \u001b[0;32mif\u001b[0m \u001b[0;32mnot\u001b[0m \u001b[0mcbook\u001b[0m\u001b[0;34m.\u001b[0m\u001b[0miterable\u001b[0m\u001b[0;34m(\u001b[0m\u001b[0mx\u001b[0m\u001b[0;34m)\u001b[0m\u001b[0;34m:\u001b[0m\u001b[0;34m\u001b[0m\u001b[0m\n\u001b[0;32m--> 466\u001b[0;31m         \u001b[0;32mreturn\u001b[0m \u001b[0m_from_ordinalf\u001b[0m\u001b[0;34m(\u001b[0m\u001b[0mx\u001b[0m\u001b[0;34m,\u001b[0m \u001b[0mtz\u001b[0m\u001b[0;34m)\u001b[0m\u001b[0;34m\u001b[0m\u001b[0m\n\u001b[0m\u001b[1;32m    467\u001b[0m     \u001b[0;32melse\u001b[0m\u001b[0;34m:\u001b[0m\u001b[0;34m\u001b[0m\u001b[0m\n\u001b[1;32m    468\u001b[0m         \u001b[0mx\u001b[0m \u001b[0;34m=\u001b[0m \u001b[0mnp\u001b[0m\u001b[0;34m.\u001b[0m\u001b[0masarray\u001b[0m\u001b[0;34m(\u001b[0m\u001b[0mx\u001b[0m\u001b[0;34m)\u001b[0m\u001b[0;34m\u001b[0m\u001b[0m\n",
      "\u001b[0;32m/Users/michael/anaconda2/lib/python2.7/site-packages/matplotlib/dates.pyc\u001b[0m in \u001b[0;36m_from_ordinalf\u001b[0;34m(x, tz)\u001b[0m\n\u001b[1;32m    277\u001b[0m \u001b[0;34m\u001b[0m\u001b[0m\n\u001b[1;32m    278\u001b[0m     \u001b[0mix\u001b[0m \u001b[0;34m=\u001b[0m \u001b[0mint\u001b[0m\u001b[0;34m(\u001b[0m\u001b[0mx\u001b[0m\u001b[0;34m)\u001b[0m\u001b[0;34m\u001b[0m\u001b[0m\n\u001b[0;32m--> 279\u001b[0;31m     \u001b[0mdt\u001b[0m \u001b[0;34m=\u001b[0m \u001b[0mdatetime\u001b[0m\u001b[0;34m.\u001b[0m\u001b[0mdatetime\u001b[0m\u001b[0;34m.\u001b[0m\u001b[0mfromordinal\u001b[0m\u001b[0;34m(\u001b[0m\u001b[0mix\u001b[0m\u001b[0;34m)\u001b[0m\u001b[0;34m.\u001b[0m\u001b[0mreplace\u001b[0m\u001b[0;34m(\u001b[0m\u001b[0mtzinfo\u001b[0m\u001b[0;34m=\u001b[0m\u001b[0mUTC\u001b[0m\u001b[0;34m)\u001b[0m\u001b[0;34m\u001b[0m\u001b[0m\n\u001b[0m\u001b[1;32m    280\u001b[0m \u001b[0;34m\u001b[0m\u001b[0m\n\u001b[1;32m    281\u001b[0m     \u001b[0mremainder\u001b[0m \u001b[0;34m=\u001b[0m \u001b[0mfloat\u001b[0m\u001b[0;34m(\u001b[0m\u001b[0mx\u001b[0m\u001b[0;34m)\u001b[0m \u001b[0;34m-\u001b[0m \u001b[0mix\u001b[0m\u001b[0;34m\u001b[0m\u001b[0m\n",
      "\u001b[0;31mValueError\u001b[0m: ordinal must be >= 1"
     ]
    },
    {
     "data": {
      "text/plain": [
       "<matplotlib.figure.Figure at 0x1a1c1cb410>"
      ]
     },
     "metadata": {},
     "output_type": "display_data"
    }
   ],
   "source": [
    "returns = ratio.pct_change()[1:]\n",
    "print 'Max:', np.max(returns)\n",
    "print 'Min:', np.min(returns)\n",
    "print 'Skew:', stats.skew(returns)\n",
    "print 'Mean:', np.mean(returns)\n",
    "print 'Std:', np.std(returns)\n",
    "print \"Excess kurtosis of returns: \", stats.kurtosis(returns)\n",
    "\n",
    "\n",
    "plt.plot(returns)\n",
    "plt.xlabel('Time')\n",
    "plt.ylabel('Ratio returns');\n",
    "\n",
    "\n",
    "returnsClipped = stats.mstats.winsorize(returns, limits=0.05)\n",
    "print 'Max:', np.max(returnsClipped)\n",
    "print 'Min:', np.min(returnsClipped)\n",
    "print 'Skew:', stats.skew(returnsClipped)\n",
    "print 'Mean:', np.mean(returnsClipped)\n",
    "print 'Std:', np.std(returnsClipped)\n",
    "print \"Excess kurtosis of returns: \", stats.kurtosis(returnsClipped)\n",
    "\n",
    "plt.plot(returnsClipped)\n",
    "#plt.xlabel('Time')\n",
    "#plt.ylabel('Clipped ratio returns');\n",
    "\n",
    "\n",
    "\n",
    "\n",
    "\n",
    "\n",
    "\n",
    "\n",
    "#plt.hist(returns, 30);"
   ]
  },
  {
   "cell_type": "code",
   "execution_count": null,
   "metadata": {},
   "outputs": [],
   "source": [
    "# Use Box-Jenkins to determine ARIMA parameters"
   ]
  },
  {
   "cell_type": "markdown",
   "metadata": {},
   "source": [
    "###Example using tick data"
   ]
  },
  {
   "cell_type": "markdown",
   "metadata": {},
   "source": [
    "Sample trade ticks from 2011-11-01 to 2011-11-03 for a single security"
   ]
  },
  {
   "cell_type": "code",
   "execution_count": 5,
   "metadata": {},
   "outputs": [
    {
     "name": "stdout",
     "output_type": "stream",
     "text": [
      "Date,Time,Price,Volume,Exchange Code,Sales Condition,Correction Indicator,Sequence Number,Trade Stop Indicator,Source of Trade,MDS 127 / TRF (Trade Reporting Facility) (*),Exclude Record Flag,Filtered Price\r\n",
      "\n",
      "11/01/2011,08:04:56.364,104.55,100,P,T,00,196,N,C,,,\r\n",
      "\n"
     ]
    }
   ],
   "source": [
    "with open('data.csv', 'r') as fh:\n",
    "    print fh.readline() # headers\n",
    "    print fh.readline() # first row"
   ]
  },
  {
   "cell_type": "markdown",
   "metadata": {},
   "source": [
    "`parse_dates`: use a list or dict for flexible (possibly multi-column) date parsing"
   ]
  },
  {
   "cell_type": "code",
   "execution_count": 6,
   "metadata": {},
   "outputs": [
    {
     "data": {
      "text/plain": [
       "<class 'pandas.core.frame.DataFrame'>\n",
       "DatetimeIndex: 14632 entries, 2011-11-01 08:04:56.364000 to 2011-11-03 16:09:47.834000\n",
       "Data columns:\n",
       "Price                                           14632  non-null values\n",
       "Volume                                          14632  non-null values\n",
       "Exchange Code                                   14632  non-null values\n",
       "Sales Condition                                 14632  non-null values\n",
       "Correction Indicator                            14632  non-null values\n",
       "Sequence Number                                 14632  non-null values\n",
       "Trade Stop Indicator                            14632  non-null values\n",
       "Source of Trade                                 14632  non-null values\n",
       "MDS 127 / TRF (Trade Reporting Facility) (*)    2421  non-null values\n",
       "Exclude Record Flag                             28  non-null values\n",
       "Filtered Price                                  0  non-null values\n",
       "dtypes: float64(2), int64(3), object(6)"
      ]
     },
     "execution_count": 6,
     "metadata": {},
     "output_type": "execute_result"
    }
   ],
   "source": [
    "data = pd.read_csv('data.csv', \n",
    "                    parse_dates={'Timestamp': ['Date', 'Time']},\n",
    "                    index_col='Timestamp')\n",
    "data"
   ]
  },
  {
   "cell_type": "code",
   "execution_count": 7,
   "metadata": {},
   "outputs": [
    {
     "data": {
      "text/html": [
       "<div style=\"max-height:1000px;max-width:1500px;overflow:auto;\">\n",
       "<table border=\"1\" class=\"dataframe\">\n",
       "  <thead>\n",
       "    <tr style=\"text-align: right;\">\n",
       "      <th></th>\n",
       "      <th>Price</th>\n",
       "      <th>Volume</th>\n",
       "    </tr>\n",
       "    <tr>\n",
       "      <th>Timestamp</th>\n",
       "      <th></th>\n",
       "      <th></th>\n",
       "    </tr>\n",
       "  </thead>\n",
       "  <tbody>\n",
       "    <tr>\n",
       "      <td><strong>2011-11-01 08:04:56.364000</strong></td>\n",
       "      <td> 104.55</td>\n",
       "      <td>  100</td>\n",
       "    </tr>\n",
       "    <tr>\n",
       "      <td><strong>2011-11-01 08:53:07.459000</strong></td>\n",
       "      <td> 104.43</td>\n",
       "      <td>  150</td>\n",
       "    </tr>\n",
       "    <tr>\n",
       "      <td><strong>2011-11-01 08:53:09.284000</strong></td>\n",
       "      <td> 104.43</td>\n",
       "      <td>  100</td>\n",
       "    </tr>\n",
       "    <tr>\n",
       "      <td><strong>2011-11-01 08:54:03.921000</strong></td>\n",
       "      <td> 104.50</td>\n",
       "      <td>  100</td>\n",
       "    </tr>\n",
       "    <tr>\n",
       "      <td><strong>2011-11-01 08:58:06.162000</strong></td>\n",
       "      <td> 104.46</td>\n",
       "      <td> 1000</td>\n",
       "    </tr>\n",
       "  </tbody>\n",
       "</table>\n",
       "</div>"
      ],
      "text/plain": [
       "                             Price  Volume\n",
       "Timestamp                                 \n",
       "2011-11-01 08:04:56.364000  104.55     100\n",
       "2011-11-01 08:53:07.459000  104.43     150\n",
       "2011-11-01 08:53:09.284000  104.43     100\n",
       "2011-11-01 08:54:03.921000  104.50     100\n",
       "2011-11-01 08:58:06.162000  104.46    1000"
      ]
     },
     "execution_count": 7,
     "metadata": {},
     "output_type": "execute_result"
    }
   ],
   "source": [
    "ticks = data.ix[:, ['Price', 'Volume']]\n",
    "ticks.head()"
   ]
  },
  {
   "cell_type": "markdown",
   "metadata": {},
   "source": [
    "How stationary is stationary ?\n",
    "Stationary proces are described here https://en.wikipedia.org/wiki/Stationary_process.  \n",
    "For our purposes it's a time series whose mean and variance are constant over time."
   ]
  },
  {
   "cell_type": "markdown",
   "metadata": {},
   "source": [
    "####`resample`: regularization and frequency conversion"
   ]
  },
  {
   "cell_type": "code",
   "execution_count": 8,
   "metadata": {},
   "outputs": [
    {
     "data": {
      "text/plain": [
       "<class 'pandas.core.frame.DataFrame'>\n",
       "DatetimeIndex: 3366 entries, 2011-11-01 08:05:00 to 2011-11-03 16:10:00\n",
       "Freq: T\n",
       "Data columns:\n",
       "open     1104  non-null values\n",
       "high     1104  non-null values\n",
       "low      1104  non-null values\n",
       "close    1104  non-null values\n",
       "dtypes: float64(4)"
      ]
     },
     "execution_count": 8,
     "metadata": {},
     "output_type": "execute_result"
    }
   ],
   "source": [
    "bars = ticks.Price.resample('1min', how='ohlc')\n",
    "bars"
   ]
  },
  {
   "cell_type": "code",
   "execution_count": 9,
   "metadata": {},
   "outputs": [
    {
     "data": {
      "text/plain": [
       "count    1104.000000\n",
       "mean        0.017898\n",
       "std         0.018568\n",
       "min         0.000000\n",
       "25%         0.000875\n",
       "50%         0.013900\n",
       "75%         0.029000\n",
       "max         0.150000"
      ]
     },
     "execution_count": 9,
     "metadata": {},
     "output_type": "execute_result"
    }
   ],
   "source": [
    "minute_range = bars.high - bars.low\n",
    "minute_range.describe()"
   ]
  },
  {
   "cell_type": "code",
   "execution_count": 10,
   "metadata": {},
   "outputs": [
    {
     "data": {
      "text/plain": [
       "count    1104.000000\n",
       "mean        0.000003\n",
       "std         0.000191\n",
       "min        -0.001442\n",
       "25%        -0.000096\n",
       "50%         0.000000\n",
       "75%         0.000096\n",
       "max         0.000962"
      ]
     },
     "execution_count": 10,
     "metadata": {},
     "output_type": "execute_result"
    }
   ],
   "source": [
    "minute_return = bars.close / bars.open - 1\n",
    "minute_return.describe()"
   ]
  },
  {
   "cell_type": "markdown",
   "metadata": {},
   "source": [
    "Compute a VWAP using resample"
   ]
  },
  {
   "cell_type": "code",
   "execution_count": 11,
   "metadata": {},
   "outputs": [],
   "source": [
    "volume = ticks.Volume.resample('1min', how='sum')\n",
    "value = ticks.prod(axis=1).resample('1min', how='sum')\n",
    "vwap = value / volume"
   ]
  },
  {
   "cell_type": "markdown",
   "metadata": {},
   "source": [
    "####Convenient indexing for time series data"
   ]
  },
  {
   "cell_type": "code",
   "execution_count": 12,
   "metadata": {},
   "outputs": [
    {
     "data": {
      "text/plain": [
       "Timestamp\n",
       "2011-11-01 09:27:00           NaN\n",
       "2011-11-01 09:28:00           NaN\n",
       "2011-11-01 09:29:00    104.170000\n",
       "2011-11-01 09:30:00    103.300800\n",
       "2011-11-01 09:31:00    104.231368\n",
       "2011-11-01 09:32:00    104.236679\n",
       "Freq: T"
      ]
     },
     "execution_count": 12,
     "metadata": {},
     "output_type": "execute_result"
    }
   ],
   "source": [
    "vwap.ix['2011-11-01 09:27':'2011-11-01 09:32']"
   ]
  },
  {
   "cell_type": "markdown",
   "metadata": {},
   "source": [
    "####`at_time`: same (b)at_time (same bat channel)"
   ]
  },
  {
   "cell_type": "code",
   "execution_count": 13,
   "metadata": {},
   "outputs": [
    {
     "data": {
      "text/plain": [
       "Timestamp\n",
       "2011-11-01 09:30:00    103.3008\n",
       "2011-11-02 09:30:00    103.8600\n",
       "2011-11-03 09:30:00         NaN\n",
       "Name: open"
      ]
     },
     "execution_count": 13,
     "metadata": {},
     "output_type": "execute_result"
    }
   ],
   "source": [
    "bars.open.at_time('9:30')"
   ]
  },
  {
   "cell_type": "code",
   "execution_count": 14,
   "metadata": {},
   "outputs": [
    {
     "data": {
      "text/plain": [
       "Timestamp\n",
       "2011-11-01 16:00:00    104.56\n",
       "2011-11-02 16:00:00    104.32\n",
       "2011-11-03 16:00:00    103.82\n",
       "Name: close"
      ]
     },
     "execution_count": 14,
     "metadata": {},
     "output_type": "execute_result"
    }
   ],
   "source": [
    "bars.close.at_time('16:00')"
   ]
  },
  {
   "cell_type": "markdown",
   "metadata": {},
   "source": [
    "####`between_time`: intraday time range"
   ]
  },
  {
   "cell_type": "code",
   "execution_count": 15,
   "metadata": {},
   "outputs": [
    {
     "data": {
      "text/plain": [
       "Timestamp\n",
       "2011-11-01 10:00:00    104.145000\n",
       "2011-11-01 10:01:00    104.245387\n",
       "2011-11-01 10:02:00    104.170771\n",
       "2011-11-01 10:03:00    104.170000\n",
       "2011-11-01 10:04:00    104.160952\n",
       "2011-11-01 10:05:00    104.110870\n",
       "2011-11-01 10:06:00    104.093576\n",
       "2011-11-01 10:07:00    104.145132\n",
       "2011-11-01 10:08:00    104.157924\n",
       "2011-11-01 10:09:00    104.154646\n",
       "2011-11-01 10:10:00    104.150756\n",
       "2011-11-01 10:11:00    104.182591\n",
       "2011-11-01 10:12:00    104.116803\n",
       "2011-11-01 10:13:00    104.092174\n",
       "2011-11-01 10:14:00    104.067768\n",
       "2011-11-01 10:15:00    104.070000\n",
       "2011-11-01 10:16:00    104.073333\n",
       "2011-11-01 10:17:00    104.080906\n",
       "2011-11-01 10:18:00    104.082566\n",
       "2011-11-01 10:19:00    104.085140"
      ]
     },
     "execution_count": 15,
     "metadata": {},
     "output_type": "execute_result"
    }
   ],
   "source": [
    "filtered = vwap.between_time('10:00', '16:00')\n",
    "filtered.head(20)"
   ]
  },
  {
   "cell_type": "code",
   "execution_count": 16,
   "metadata": {},
   "outputs": [
    {
     "data": {
      "text/plain": [
       "Timestamp\n",
       "2011-11-01 10:00:00      200\n",
       "2011-11-01 10:01:00    18767\n",
       "2011-11-01 10:02:00    67287\n",
       "2011-11-01 10:03:00     2000\n",
       "2011-11-01 10:04:00     2100\n",
       "2011-11-01 10:05:00     2300\n",
       "2011-11-01 10:06:00    11509\n",
       "2011-11-01 10:07:00     3526\n",
       "2011-11-01 10:08:00      734\n",
       "2011-11-01 10:09:00     1106\n",
       "2011-11-01 10:10:00     1800\n",
       "2011-11-01 10:11:00     1760\n",
       "2011-11-01 10:12:00     2961\n",
       "2011-11-01 10:13:00     2300\n",
       "2011-11-01 10:14:00     5818\n",
       "2011-11-01 10:15:00      200\n",
       "2011-11-01 10:16:00      600\n",
       "2011-11-01 10:17:00     1040\n",
       "2011-11-01 10:18:00     1576\n",
       "2011-11-01 10:19:00     2813"
      ]
     },
     "execution_count": 16,
     "metadata": {},
     "output_type": "execute_result"
    }
   ],
   "source": [
    "vol = volume.between_time('10:00', '16:00')\n",
    "vol.head(20)"
   ]
  },
  {
   "cell_type": "markdown",
   "metadata": {},
   "source": [
    "####`fillna`: handling missing data"
   ]
  },
  {
   "cell_type": "code",
   "execution_count": 17,
   "metadata": {},
   "outputs": [
    {
     "data": {
      "text/plain": [
       "Timestamp\n",
       "2011-11-03 10:00:00           NaN\n",
       "2011-11-03 10:01:00    103.968667\n",
       "2011-11-03 10:02:00           NaN\n",
       "2011-11-03 10:03:00    103.997500\n",
       "2011-11-03 10:04:00    104.044295\n",
       "2011-11-03 10:05:00           NaN\n",
       "2011-11-03 10:06:00    104.135118\n",
       "2011-11-03 10:07:00    104.130000\n",
       "2011-11-03 10:08:00    104.120000\n",
       "2011-11-03 10:09:00    104.101250\n",
       "2011-11-03 10:10:00           NaN\n",
       "2011-11-03 10:11:00           NaN\n",
       "2011-11-03 10:12:00           NaN\n",
       "2011-11-03 10:13:00           NaN\n",
       "2011-11-03 10:14:00    104.086667\n",
       "2011-11-03 10:15:00    104.049200\n",
       "2011-11-03 10:16:00    104.028333\n",
       "2011-11-03 10:17:00    103.976438\n",
       "2011-11-03 10:18:00    103.912492\n",
       "2011-11-03 10:19:00           NaN"
      ]
     },
     "execution_count": 17,
     "metadata": {},
     "output_type": "execute_result"
    }
   ],
   "source": [
    "filtered.ix['2011-11-03':'2011-11-04'].head(20)"
   ]
  },
  {
   "cell_type": "code",
   "execution_count": 18,
   "metadata": {},
   "outputs": [
    {
     "data": {
      "text/plain": [
       "Timestamp\n",
       "2011-11-03 10:00:00    104.305099\n",
       "2011-11-03 10:01:00    103.968667\n",
       "2011-11-03 10:02:00    103.968667\n",
       "2011-11-03 10:03:00    103.997500\n",
       "2011-11-03 10:04:00    104.044295\n",
       "2011-11-03 10:05:00    104.044295\n",
       "2011-11-03 10:06:00    104.135118\n",
       "2011-11-03 10:07:00    104.130000\n",
       "2011-11-03 10:08:00    104.120000\n",
       "2011-11-03 10:09:00    104.101250\n",
       "2011-11-03 10:10:00    104.101250\n",
       "2011-11-03 10:11:00           NaN\n",
       "2011-11-03 10:12:00           NaN\n",
       "2011-11-03 10:13:00           NaN\n",
       "2011-11-03 10:14:00    104.086667\n",
       "2011-11-03 10:15:00    104.049200\n",
       "2011-11-03 10:16:00    104.028333\n",
       "2011-11-03 10:17:00    103.976438\n",
       "2011-11-03 10:18:00    103.912492\n",
       "2011-11-03 10:19:00    103.912492"
      ]
     },
     "execution_count": 18,
     "metadata": {},
     "output_type": "execute_result"
    }
   ],
   "source": [
    "filled = filtered.fillna(method='pad', limit=1)\n",
    "filled.ix['2011-11-03':'2011-11-04'].head(20)"
   ]
  },
  {
   "cell_type": "code",
   "execution_count": 19,
   "metadata": {},
   "outputs": [
    {
     "data": {
      "text/plain": [
       "Timestamp\n",
       "2011-11-01 10:00:00      200\n",
       "2011-11-01 10:01:00    18767\n",
       "2011-11-01 10:02:00    67287\n",
       "2011-11-01 10:03:00     2000\n",
       "2011-11-01 10:04:00     2100\n",
       "2011-11-01 10:05:00     2300\n",
       "2011-11-01 10:06:00    11509\n",
       "2011-11-01 10:07:00     3526\n",
       "2011-11-01 10:08:00      734\n",
       "2011-11-01 10:09:00     1106\n",
       "2011-11-01 10:10:00     1800\n",
       "2011-11-01 10:11:00     1760\n",
       "2011-11-01 10:12:00     2961\n",
       "2011-11-01 10:13:00     2300\n",
       "2011-11-01 10:14:00     5818\n",
       "2011-11-01 10:15:00      200\n",
       "2011-11-01 10:16:00      600\n",
       "2011-11-01 10:17:00     1040\n",
       "2011-11-01 10:18:00     1576\n",
       "2011-11-01 10:19:00     2813"
      ]
     },
     "execution_count": 19,
     "metadata": {},
     "output_type": "execute_result"
    }
   ],
   "source": [
    "vol = vol.fillna(0.)\n",
    "vol.head(20)"
   ]
  },
  {
   "cell_type": "markdown",
   "metadata": {},
   "source": [
    "####Simple plotting"
   ]
  },
  {
   "cell_type": "code",
   "execution_count": 20,
   "metadata": {},
   "outputs": [
    {
     "data": {
      "text/plain": [
       "(103.5, 104.5)"
      ]
     },
     "execution_count": 20,
     "metadata": {},
     "output_type": "execute_result"
    },
    {
     "data": {
      "image/svg+xml": [
       "<?xml version=\"1.0\" encoding=\"utf-8\" standalone=\"no\"?>\n",
       "<!DOCTYPE svg PUBLIC \"-//W3C//DTD SVG 1.1//EN\"\n",
       "  \"http://www.w3.org/Graphics/SVG/1.1/DTD/svg11.dtd\">\n",
       "<!-- Created with matplotlib (http://matplotlib.sourceforge.net/) -->\n",
       "<svg height=\"487pt\" version=\"1.1\" viewBox=\"0 0 616 487\" width=\"616pt\" xmlns=\"http://www.w3.org/2000/svg\" xmlns:xlink=\"http://www.w3.org/1999/xlink\">\n",
       " <defs>\n",
       "  <style type=\"text/css\">\n",
       "*{stroke-linecap:square;stroke-linejoin:round;}\n",
       "  </style>\n",
       " </defs>\n",
       " <g id=\"figure_1\">\n",
       "  <g id=\"patch_1\">\n",
       "   <path d=\"\n",
       "M0 487.042\n",
       "L616.897 487.042\n",
       "L616.897 0\n",
       "L0 0\n",
       "z\n",
       "\" style=\"fill:#ffffff;\"/>\n",
       "  </g>\n",
       "  <g id=\"axes_1\">\n",
       "   <g id=\"patch_2\">\n",
       "    <path d=\"\n",
       "M38.1688 453.6\n",
       "L596.169 453.6\n",
       "L596.169 7.2\n",
       "L38.1688 7.2\n",
       "z\n",
       "\" style=\"fill:#ffffff;\"/>\n",
       "   </g>\n",
       "   <g id=\"line2d_1\">\n",
       "    <path clip-path=\"url(#p2db28cb40c)\" d=\"\n",
       "M38.1688 94.2039\n",
       "L39.7188 244.387\n",
       "L41.2688 244.387\n",
       "L42.8188 231.516\n",
       "L44.3688 210.627\n",
       "L45.9188 210.627\n",
       "L47.4688 170.083\n",
       "L49.0188 172.368\n",
       "L50.5688 176.832\n",
       "L52.1188 185.202\n",
       "L53.6688 185.202\n",
       "M59.8688 191.712\n",
       "L61.4188 208.437\n",
       "L62.9688 217.752\n",
       "L64.5188 240.918\n",
       "L66.0688 269.463\n",
       "L67.6188 269.463\n",
       "L69.1688 288.432\n",
       "L70.7188 275.04\n",
       "L72.2688 266.709\n",
       "L73.8188 279.504\n",
       "L75.3688 276.826\n",
       "L76.9188 267.501\n",
       "L78.4688 270.576\n",
       "L80.0188 278.403\n",
       "L81.5688 285.321\n",
       "L83.1188 292.896\n",
       "L84.6688 282.055\n",
       "L86.2188 286.224\n",
       "L87.7688 297.93\n",
       "L89.3188 301.824\n",
       "L90.8688 300.642\n",
       "L92.4188 292.896\n",
       "L93.9688 294.384\n",
       "L95.5188 291.657\n",
       "L97.0688 301.824\n",
       "L100.169 292.896\n",
       "L101.719 297.79\n",
       "L103.269 317.225\n",
       "L104.819 320.897\n",
       "L106.369 333.072\n",
       "L107.919 323.913\n",
       "L109.469 342.744\n",
       "L111.019 355.888\n",
       "L112.569 355.888\n",
       "L114.119 333.072\n",
       "L115.669 336.475\n",
       "L117.219 324.144\n",
       "L118.769 321.153\n",
       "L120.319 319.68\n",
       "L121.869 316.778\n",
       "L123.419 310.931\n",
       "L124.969 310.752\n",
       "L128.069 310.752\n",
       "L129.619 292.896\n",
       "L131.169 290.531\n",
       "L132.719 284.013\n",
       "L134.269 289.548\n",
       "L135.819 263.568\n",
       "L137.369 241.808\n",
       "L138.919 239.328\n",
       "L140.469 236.343\n",
       "L142.019 239.328\n",
       "L143.569 238.225\n",
       "L145.119 250.301\n",
       "L146.669 246.334\n",
       "L148.219 241.154\n",
       "L149.769 257.184\n",
       "L151.319 246.024\n",
       "L152.869 243.473\n",
       "L154.419 257.184\n",
       "L155.969 257.742\n",
       "L157.519 266.093\n",
       "L159.069 270.996\n",
       "L160.619 270.576\n",
       "L162.169 275.97\n",
       "L163.719 269.088\n",
       "L165.269 269.088\n",
       "L166.819 261.648\n",
       "L168.369 271.226\n",
       "L169.919 271.226\n",
       "L171.469 265.414\n",
       "L173.019 249.531\n",
       "L174.569 248.266\n",
       "L176.119 243.792\n",
       "L177.669 243.792\n",
       "L179.219 246.339\n",
       "L180.769 232.453\n",
       "L182.319 244.091\n",
       "L183.869 242.882\n",
       "L185.419 242.882\n",
       "M190.069 240.221\n",
       "L191.619 229.507\n",
       "L193.169 219.984\n",
       "L194.719 219.984\n",
       "L196.269 222.158\n",
       "L197.819 229.098\n",
       "L199.369 230.4\n",
       "L200.919 239.633\n",
       "L202.469 239.633\n",
       "M208.669 238.301\n",
       "L210.219 248.256\n",
       "L211.769 256.83\n",
       "L213.319 243.792\n",
       "L214.869 242.856\n",
       "L216.419 248.739\n",
       "L217.969 251.596\n",
       "L219.519 243.792\n",
       "L221.069 243.792\n",
       "L222.619 230.4\n",
       "L224.169 231.293\n",
       "L225.719 230.4\n",
       "L227.269 231.412\n",
       "L228.819 235.413\n",
       "L230.369 230.661\n",
       "L231.919 234.864\n",
       "L233.469 229.309\n",
       "L235.019 235.102\n",
       "L236.569 246.026\n",
       "L238.119 253.836\n",
       "L239.669 256.546\n",
       "L241.219 256.372\n",
       "L244.319 249.238\n",
       "L245.869 250.562\n",
       "L247.419 259.097\n",
       "L248.969 248.894\n",
       "L250.519 246.024\n",
       "L252.069 243.792\n",
       "L253.619 246.334\n",
       "L255.169 253.916\n",
       "L256.719 252.72\n",
       "L258.269 255.15\n",
       "L259.819 247.22\n",
       "L261.369 260.532\n",
       "L262.919 270.341\n",
       "L264.469 270.576\n",
       "L266.019 270.13\n",
       "L269.119 279.676\n",
       "L270.669 279.676\n",
       "L272.219 266.112\n",
       "L273.769 264.326\n",
       "L275.319 265.916\n",
       "L276.869 265.916\n",
       "L278.419 255.22\n",
       "L279.969 257.184\n",
       "L281.519 256.927\n",
       "L283.069 260.809\n",
       "L286.169 243.826\n",
       "L287.719 246.375\n",
       "L289.269 239.328\n",
       "L290.819 237.306\n",
       "L292.369 237.306\n",
       "L295.469 243.792\n",
       "L297.019 248.256\n",
       "L298.569 248.256\n",
       "L300.119 268.708\n",
       "L301.669 278.73\n",
       "L303.219 283.475\n",
       "L304.769 275.04\n",
       "L306.319 273.612\n",
       "L307.869 279.504\n",
       "L309.419 279.504\n",
       "L310.969 307.776\n",
       "L312.519 299.861\n",
       "L314.069 301.824\n",
       "L315.619 299.961\n",
       "L317.169 292.896\n",
       "L318.719 291.513\n",
       "L320.269 291.513\n",
       "L321.819 286.591\n",
       "L323.369 292.896\n",
       "L324.919 304.103\n",
       "L326.469 303.252\n",
       "L328.019 309.264\n",
       "L329.569 302.098\n",
       "L331.119 300.187\n",
       "L332.669 295.209\n",
       "L334.219 302.051\n",
       "L335.769 310.752\n",
       "L337.319 303.135\n",
       "L340.419 284.013\n",
       "L341.969 301.824\n",
       "L343.519 298.344\n",
       "L345.069 296.223\n",
       "L346.619 296.223\n",
       "L348.169 293.324\n",
       "L349.719 288.477\n",
       "L351.269 288.477\n",
       "L352.819 283.968\n",
       "L354.369 292.003\n",
       "L355.919 275.933\n",
       "L357.469 284.047\n",
       "L359.019 279.504\n",
       "L360.569 288.432\n",
       "L363.669 283.901\n",
       "L365.219 278.534\n",
       "L366.769 279.504\n",
       "L368.319 288.432\n",
       "L369.869 279.504\n",
       "L371.419 284.013\n",
       "L372.969 284.013\n",
       "L374.519 279.78\n",
       "L376.069 285.456\n",
       "L377.619 288.432\n",
       "L379.169 292.896\n",
       "L380.719 296.11\n",
       "L382.269 302.445\n",
       "L383.819 300.671\n",
       "L385.369 302.62\n",
       "L386.919 297.384\n",
       "L388.469 297.486\n",
       "L390.019 297.934\n",
       "L391.569 307.845\n",
       "L393.119 312.995\n",
       "L394.669 316.332\n",
       "L396.219 318.787\n",
       "L397.769 319.457\n",
       "L400.869 302.535\n",
       "L402.419 297.36\n",
       "L403.969 288.432\n",
       "L405.519 288.432\n",
       "L407.069 279.504\n",
       "L408.619 295.128\n",
       "L410.169 297.36\n",
       "L411.719 289.548\n",
       "L414.819 270.576\n",
       "L416.369 272.719\n",
       "L417.919 269.324\n",
       "L419.469 270.576\n",
       "L421.019 264.237\n",
       "L422.569 270.841\n",
       "L424.119 270.612\n",
       "L425.669 279.504\n",
       "L427.219 279.504\n",
       "L428.769 281.054\n",
       "L430.319 281.054\n",
       "L431.869 278.968\n",
       "L433.419 287.986\n",
       "L434.969 288.432\n",
       "L436.519 299.175\n",
       "L438.069 297.197\n",
       "L439.619 297.36\n",
       "L441.169 295.889\n",
       "L442.719 283.851\n",
       "L444.269 280.351\n",
       "L445.819 273.056\n",
       "L447.369 275.488\n",
       "L448.919 267.617\n",
       "L450.469 289.666\n",
       "L452.019 284.861\n",
       "L453.569 300.336\n",
       "L455.119 301.824\n",
       "L456.669 301.824\n",
       "L458.219 307.538\n",
       "L459.769 301.824\n",
       "L461.319 309.76\n",
       "L462.869 315.216\n",
       "L464.419 319.71\n",
       "L465.969 312.716\n",
       "L467.519 313.728\n",
       "L469.069 313.728\n",
       "L470.619 306.288\n",
       "L472.169 297.36\n",
       "L473.719 307.517\n",
       "L475.269 307.517\n",
       "L476.819 309.069\n",
       "L478.369 306.288\n",
       "L479.919 306.288\n",
       "L481.469 299.448\n",
       "L484.569 299.518\n",
       "L486.119 300.217\n",
       "L487.669 297.806\n",
       "L489.219 297.806\n",
       "L490.769 304.45\n",
       "L492.319 301.824\n",
       "L493.869 297.105\n",
       "L495.419 297.105\n",
       "L496.969 301.983\n",
       "L498.519 301.983\n",
       "L500.069 310.752\n",
       "L501.619 310.397\n",
       "L503.169 312.616\n",
       "L504.719 319.68\n",
       "L506.269 318.787\n",
       "L507.819 303.308\n",
       "L509.369 302.27\n",
       "L510.919 302.27\n",
       "M514.019 301.824\n",
       "L515.569 302.462\n",
       "L517.119 301.925\n",
       "L518.669 300.983\n",
       "L520.219 299.22\n",
       "L521.769 301.824\n",
       "L523.319 301.824\n",
       "L524.869 310.767\n",
       "L526.419 308.074\n",
       "L527.969 310.705\n",
       "L529.519 310.705\n",
       "L531.069 299.68\n",
       "L532.619 299.68\n",
       "M537.269 286.456\n",
       "L538.819 292.896\n",
       "L540.369 288.432\n",
       "L541.919 292.216\n",
       "L543.469 297.91\n",
       "L545.019 293.789\n",
       "L546.569 298.613\n",
       "L548.119 306.288\n",
       "L549.669 301.824\n",
       "L551.219 305.679\n",
       "L552.769 304.95\n",
       "L554.319 307.776\n",
       "L555.869 306.991\n",
       "L557.419 299.466\n",
       "L558.969 300.652\n",
       "L560.519 300.652\n",
       "L562.069 299.291\n",
       "L563.619 301.779\n",
       "L565.169 299.146\n",
       "L566.719 302.183\n",
       "L569.819 284.191\n",
       "L571.369 287.603\n",
       "L572.919 301.824\n",
       "L574.469 301.937\n",
       "L576.019 294.384\n",
       "L577.569 292.896\n",
       "L579.119 293.93\n",
       "L580.669 293.93\n",
       "L582.219 298.678\n",
       "L583.769 297.315\n",
       "L586.869 288.432\n",
       "L588.419 290.402\n",
       "L589.969 295.155\n",
       "L591.519 306.288\n",
       "L593.069 304.1\n",
       "L594.619 307.86\n",
       "L596.169 305.803\n",
       "L596.169 305.803\" style=\"fill:none;stroke:#0000ff;\"/>\n",
       "   </g>\n",
       "   <g id=\"matplotlib.axis_1\">\n",
       "    <g id=\"xtick_1\">\n",
       "     <g id=\"line2d_2\">\n",
       "      <path clip-path=\"url(#p2db28cb40c)\" d=\"\n",
       "M38.1688 453.6\n",
       "L38.1688 7.2\" style=\"fill:none;stroke:#000000;stroke-dasharray:1.000000,3.000000;stroke-dashoffset:0.0;stroke-linecap:butt;stroke-width:0.5;\"/>\n",
       "     </g>\n",
       "     <g id=\"line2d_3\">\n",
       "      <defs>\n",
       "       <path d=\"\n",
       "M0 0\n",
       "L0 -4\" id=\"m29f7fa3b21\"/>\n",
       "      </defs>\n",
       "      <g>\n",
       "       <use style=\"stroke:#000000;stroke-linecap:butt;stroke-width:0.5;\" x=\"38.168750003\" xlink:href=\"#m29f7fa3b21\" y=\"453.6\"/>\n",
       "      </g>\n",
       "     </g>\n",
       "     <g id=\"line2d_4\">\n",
       "      <defs>\n",
       "       <path d=\"\n",
       "M0 0\n",
       "L0 4\" id=\"md0fc6de9e5\"/>\n",
       "      </defs>\n",
       "      <g>\n",
       "       <use style=\"stroke:#000000;stroke-linecap:butt;stroke-width:0.5;\" x=\"38.168750003\" xlink:href=\"#md0fc6de9e5\" y=\"7.2\"/>\n",
       "      </g>\n",
       "     </g>\n",
       "     <g id=\"text_1\">\n",
       "      <!-- 10:00 -->\n",
       "      <defs>\n",
       "       <path d=\"\n",
       "M11.7188 12.4062\n",
       "L22.0156 12.4062\n",
       "L22.0156 0\n",
       "L11.7188 0\n",
       "z\n",
       "\n",
       "M11.7188 51.7031\n",
       "L22.0156 51.7031\n",
       "L22.0156 39.3125\n",
       "L11.7188 39.3125\n",
       "z\n",
       "\" id=\"BitstreamVeraSans-Roman-3a\"/>\n",
       "       <path d=\"\n",
       "M31.7812 66.4062\n",
       "Q24.1719 66.4062 20.3281 58.9062\n",
       "Q16.5 51.4219 16.5 36.375\n",
       "Q16.5 21.3906 20.3281 13.8906\n",
       "Q24.1719 6.39062 31.7812 6.39062\n",
       "Q39.4531 6.39062 43.2812 13.8906\n",
       "Q47.125 21.3906 47.125 36.375\n",
       "Q47.125 51.4219 43.2812 58.9062\n",
       "Q39.4531 66.4062 31.7812 66.4062\n",
       "M31.7812 74.2188\n",
       "Q44.0469 74.2188 50.5156 64.5156\n",
       "Q56.9844 54.8281 56.9844 36.375\n",
       "Q56.9844 17.9688 50.5156 8.26562\n",
       "Q44.0469 -1.42188 31.7812 -1.42188\n",
       "Q19.5312 -1.42188 13.0625 8.26562\n",
       "Q6.59375 17.9688 6.59375 36.375\n",
       "Q6.59375 54.8281 13.0625 64.5156\n",
       "Q19.5312 74.2188 31.7812 74.2188\" id=\"BitstreamVeraSans-Roman-30\"/>\n",
       "       <path d=\"\n",
       "M12.4062 8.29688\n",
       "L28.5156 8.29688\n",
       "L28.5156 63.9219\n",
       "L10.9844 60.4062\n",
       "L10.9844 69.3906\n",
       "L28.4219 72.9062\n",
       "L38.2812 72.9062\n",
       "L38.2812 8.29688\n",
       "L54.3906 8.29688\n",
       "L54.3906 0\n",
       "L12.4062 0\n",
       "z\n",
       "\" id=\"BitstreamVeraSans-Roman-31\"/>\n",
       "      </defs>\n",
       "      <g transform=\"translate(24.640625003 465.021875)scale(0.1 -0.1)\">\n",
       "       <use xlink:href=\"#BitstreamVeraSans-Roman-31\"/>\n",
       "       <use x=\"63.623046875\" xlink:href=\"#BitstreamVeraSans-Roman-30\"/>\n",
       "       <use x=\"127.24609375\" xlink:href=\"#BitstreamVeraSans-Roman-3a\"/>\n",
       "       <use x=\"160.9375\" xlink:href=\"#BitstreamVeraSans-Roman-30\"/>\n",
       "       <use x=\"224.560546875\" xlink:href=\"#BitstreamVeraSans-Roman-30\"/>\n",
       "      </g>\n",
       "     </g>\n",
       "    </g>\n",
       "    <g id=\"xtick_2\">\n",
       "     <g id=\"line2d_5\">\n",
       "      <path clip-path=\"url(#p2db28cb40c)\" d=\"\n",
       "M596.169 453.6\n",
       "L596.169 7.2\" style=\"fill:none;stroke:#000000;stroke-dasharray:1.000000,3.000000;stroke-dashoffset:0.0;stroke-linecap:butt;stroke-width:0.5;\"/>\n",
       "     </g>\n",
       "     <g id=\"line2d_6\">\n",
       "      <defs>\n",
       "       <path d=\"\n",
       "M0 0\n",
       "L0 -4\" id=\"m29f7fa3b21\"/>\n",
       "      </defs>\n",
       "      <g>\n",
       "       <use style=\"stroke:#000000;stroke-linecap:butt;stroke-width:0.5;\" x=\"596.168750003\" xlink:href=\"#m29f7fa3b21\" y=\"453.6\"/>\n",
       "      </g>\n",
       "     </g>\n",
       "     <g id=\"line2d_7\">\n",
       "      <defs>\n",
       "       <path d=\"\n",
       "M0 0\n",
       "L0 4\" id=\"md0fc6de9e5\"/>\n",
       "      </defs>\n",
       "      <g>\n",
       "       <use style=\"stroke:#000000;stroke-linecap:butt;stroke-width:0.5;\" x=\"596.168750003\" xlink:href=\"#md0fc6de9e5\" y=\"7.2\"/>\n",
       "      </g>\n",
       "     </g>\n",
       "     <g id=\"text_2\">\n",
       "      <!-- 16:00 -->\n",
       "      <defs>\n",
       "       <path d=\"\n",
       "M33.0156 40.375\n",
       "Q26.375 40.375 22.4844 35.8281\n",
       "Q18.6094 31.2969 18.6094 23.3906\n",
       "Q18.6094 15.5312 22.4844 10.9531\n",
       "Q26.375 6.39062 33.0156 6.39062\n",
       "Q39.6562 6.39062 43.5312 10.9531\n",
       "Q47.4062 15.5312 47.4062 23.3906\n",
       "Q47.4062 31.2969 43.5312 35.8281\n",
       "Q39.6562 40.375 33.0156 40.375\n",
       "M52.5938 71.2969\n",
       "L52.5938 62.3125\n",
       "Q48.875 64.0625 45.0938 64.9844\n",
       "Q41.3125 65.9219 37.5938 65.9219\n",
       "Q27.8281 65.9219 22.6719 59.3281\n",
       "Q17.5312 52.7344 16.7969 39.4062\n",
       "Q19.6719 43.6562 24.0156 45.9219\n",
       "Q28.375 48.1875 33.5938 48.1875\n",
       "Q44.5781 48.1875 50.9531 41.5156\n",
       "Q57.3281 34.8594 57.3281 23.3906\n",
       "Q57.3281 12.1562 50.6875 5.35938\n",
       "Q44.0469 -1.42188 33.0156 -1.42188\n",
       "Q20.3594 -1.42188 13.6719 8.26562\n",
       "Q6.98438 17.9688 6.98438 36.375\n",
       "Q6.98438 53.6562 15.1875 63.9375\n",
       "Q23.3906 74.2188 37.2031 74.2188\n",
       "Q40.9219 74.2188 44.7031 73.4844\n",
       "Q48.4844 72.75 52.5938 71.2969\" id=\"BitstreamVeraSans-Roman-36\"/>\n",
       "      </defs>\n",
       "      <g transform=\"translate(582.640625003 465.021875)scale(0.1 -0.1)\">\n",
       "       <use xlink:href=\"#BitstreamVeraSans-Roman-31\"/>\n",
       "       <use x=\"63.623046875\" xlink:href=\"#BitstreamVeraSans-Roman-36\"/>\n",
       "       <use x=\"127.24609375\" xlink:href=\"#BitstreamVeraSans-Roman-3a\"/>\n",
       "       <use x=\"160.9375\" xlink:href=\"#BitstreamVeraSans-Roman-30\"/>\n",
       "       <use x=\"224.560546875\" xlink:href=\"#BitstreamVeraSans-Roman-30\"/>\n",
       "      </g>\n",
       "     </g>\n",
       "    </g>\n",
       "    <g id=\"xtick_3\">\n",
       "     <g id=\"line2d_8\">\n",
       "      <defs>\n",
       "       <path d=\"\n",
       "M0 0\n",
       "L0 -2\" id=\"m7455f29b5b\"/>\n",
       "      </defs>\n",
       "      <g>\n",
       "       <use style=\"stroke:#000000;stroke-linecap:butt;stroke-width:0.5;\" x=\"38.168750003\" xlink:href=\"#m7455f29b5b\" y=\"453.6\"/>\n",
       "      </g>\n",
       "     </g>\n",
       "     <g id=\"line2d_9\">\n",
       "      <defs>\n",
       "       <path d=\"\n",
       "M0 0\n",
       "L0 2\" id=\"m4204cc0ca2\"/>\n",
       "      </defs>\n",
       "      <g>\n",
       "       <use style=\"stroke:#000000;stroke-linecap:butt;stroke-width:0.5;\" x=\"38.168750003\" xlink:href=\"#m4204cc0ca2\" y=\"7.2\"/>\n",
       "      </g>\n",
       "     </g>\n",
       "    </g>\n",
       "    <g id=\"xtick_4\">\n",
       "     <g id=\"line2d_10\">\n",
       "      <defs>\n",
       "       <path d=\"\n",
       "M0 0\n",
       "L0 -2\" id=\"m7455f29b5b\"/>\n",
       "      </defs>\n",
       "      <g>\n",
       "       <use style=\"stroke:#000000;stroke-linecap:butt;stroke-width:0.5;\" x=\"131.168750003\" xlink:href=\"#m7455f29b5b\" y=\"453.6\"/>\n",
       "      </g>\n",
       "     </g>\n",
       "     <g id=\"line2d_11\">\n",
       "      <defs>\n",
       "       <path d=\"\n",
       "M0 0\n",
       "L0 2\" id=\"m4204cc0ca2\"/>\n",
       "      </defs>\n",
       "      <g>\n",
       "       <use style=\"stroke:#000000;stroke-linecap:butt;stroke-width:0.5;\" x=\"131.168750003\" xlink:href=\"#m4204cc0ca2\" y=\"7.2\"/>\n",
       "      </g>\n",
       "     </g>\n",
       "     <g id=\"text_3\">\n",
       "      <!-- 11:00 -->\n",
       "      <g transform=\"translate(117.640625003 465.021875)scale(0.1 -0.1)\">\n",
       "       <use xlink:href=\"#BitstreamVeraSans-Roman-31\"/>\n",
       "       <use x=\"63.623046875\" xlink:href=\"#BitstreamVeraSans-Roman-31\"/>\n",
       "       <use x=\"127.24609375\" xlink:href=\"#BitstreamVeraSans-Roman-3a\"/>\n",
       "       <use x=\"160.9375\" xlink:href=\"#BitstreamVeraSans-Roman-30\"/>\n",
       "       <use x=\"224.560546875\" xlink:href=\"#BitstreamVeraSans-Roman-30\"/>\n",
       "      </g>\n",
       "     </g>\n",
       "    </g>\n",
       "    <g id=\"xtick_5\">\n",
       "     <g id=\"line2d_12\">\n",
       "      <defs>\n",
       "       <path d=\"\n",
       "M0 0\n",
       "L0 -2\" id=\"m7455f29b5b\"/>\n",
       "      </defs>\n",
       "      <g>\n",
       "       <use style=\"stroke:#000000;stroke-linecap:butt;stroke-width:0.5;\" x=\"224.168750003\" xlink:href=\"#m7455f29b5b\" y=\"453.6\"/>\n",
       "      </g>\n",
       "     </g>\n",
       "     <g id=\"line2d_13\">\n",
       "      <defs>\n",
       "       <path d=\"\n",
       "M0 0\n",
       "L0 2\" id=\"m4204cc0ca2\"/>\n",
       "      </defs>\n",
       "      <g>\n",
       "       <use style=\"stroke:#000000;stroke-linecap:butt;stroke-width:0.5;\" x=\"224.168750003\" xlink:href=\"#m4204cc0ca2\" y=\"7.2\"/>\n",
       "      </g>\n",
       "     </g>\n",
       "     <g id=\"text_4\">\n",
       "      <!-- 12:00 -->\n",
       "      <defs>\n",
       "       <path d=\"\n",
       "M19.1875 8.29688\n",
       "L53.6094 8.29688\n",
       "L53.6094 0\n",
       "L7.32812 0\n",
       "L7.32812 8.29688\n",
       "Q12.9375 14.1094 22.625 23.8906\n",
       "Q32.3281 33.6875 34.8125 36.5312\n",
       "Q39.5469 41.8438 41.4219 45.5312\n",
       "Q43.3125 49.2188 43.3125 52.7812\n",
       "Q43.3125 58.5938 39.2344 62.25\n",
       "Q35.1562 65.9219 28.6094 65.9219\n",
       "Q23.9688 65.9219 18.8125 64.3125\n",
       "Q13.6719 62.7031 7.8125 59.4219\n",
       "L7.8125 69.3906\n",
       "Q13.7656 71.7812 18.9375 73\n",
       "Q24.125 74.2188 28.4219 74.2188\n",
       "Q39.75 74.2188 46.4844 68.5469\n",
       "Q53.2188 62.8906 53.2188 53.4219\n",
       "Q53.2188 48.9219 51.5312 44.8906\n",
       "Q49.8594 40.875 45.4062 35.4062\n",
       "Q44.1875 33.9844 37.6406 27.2188\n",
       "Q31.1094 20.4531 19.1875 8.29688\" id=\"BitstreamVeraSans-Roman-32\"/>\n",
       "      </defs>\n",
       "      <g transform=\"translate(210.640625003 465.021875)scale(0.1 -0.1)\">\n",
       "       <use xlink:href=\"#BitstreamVeraSans-Roman-31\"/>\n",
       "       <use x=\"63.623046875\" xlink:href=\"#BitstreamVeraSans-Roman-32\"/>\n",
       "       <use x=\"127.24609375\" xlink:href=\"#BitstreamVeraSans-Roman-3a\"/>\n",
       "       <use x=\"160.9375\" xlink:href=\"#BitstreamVeraSans-Roman-30\"/>\n",
       "       <use x=\"224.560546875\" xlink:href=\"#BitstreamVeraSans-Roman-30\"/>\n",
       "      </g>\n",
       "     </g>\n",
       "    </g>\n",
       "    <g id=\"xtick_6\">\n",
       "     <g id=\"line2d_14\">\n",
       "      <defs>\n",
       "       <path d=\"\n",
       "M0 0\n",
       "L0 -2\" id=\"m7455f29b5b\"/>\n",
       "      </defs>\n",
       "      <g>\n",
       "       <use style=\"stroke:#000000;stroke-linecap:butt;stroke-width:0.5;\" x=\"317.168750003\" xlink:href=\"#m7455f29b5b\" y=\"453.6\"/>\n",
       "      </g>\n",
       "     </g>\n",
       "     <g id=\"line2d_15\">\n",
       "      <defs>\n",
       "       <path d=\"\n",
       "M0 0\n",
       "L0 2\" id=\"m4204cc0ca2\"/>\n",
       "      </defs>\n",
       "      <g>\n",
       "       <use style=\"stroke:#000000;stroke-linecap:butt;stroke-width:0.5;\" x=\"317.168750003\" xlink:href=\"#m4204cc0ca2\" y=\"7.2\"/>\n",
       "      </g>\n",
       "     </g>\n",
       "     <g id=\"text_5\">\n",
       "      <!-- 13:00 -->\n",
       "      <defs>\n",
       "       <path d=\"\n",
       "M40.5781 39.3125\n",
       "Q47.6562 37.7969 51.625 33\n",
       "Q55.6094 28.2188 55.6094 21.1875\n",
       "Q55.6094 10.4062 48.1875 4.48438\n",
       "Q40.7656 -1.42188 27.0938 -1.42188\n",
       "Q22.5156 -1.42188 17.6562 -0.515625\n",
       "Q12.7969 0.390625 7.625 2.20312\n",
       "L7.625 11.7188\n",
       "Q11.7188 9.32812 16.5938 8.10938\n",
       "Q21.4844 6.89062 26.8125 6.89062\n",
       "Q36.0781 6.89062 40.9375 10.5469\n",
       "Q45.7969 14.2031 45.7969 21.1875\n",
       "Q45.7969 27.6406 41.2812 31.2656\n",
       "Q36.7656 34.9062 28.7188 34.9062\n",
       "L20.2188 34.9062\n",
       "L20.2188 43.0156\n",
       "L29.1094 43.0156\n",
       "Q36.375 43.0156 40.2344 45.9219\n",
       "Q44.0938 48.8281 44.0938 54.2969\n",
       "Q44.0938 59.9062 40.1094 62.9062\n",
       "Q36.1406 65.9219 28.7188 65.9219\n",
       "Q24.6562 65.9219 20.0156 65.0312\n",
       "Q15.375 64.1562 9.8125 62.3125\n",
       "L9.8125 71.0938\n",
       "Q15.4375 72.6562 20.3438 73.4375\n",
       "Q25.25 74.2188 29.5938 74.2188\n",
       "Q40.8281 74.2188 47.3594 69.1094\n",
       "Q53.9062 64.0156 53.9062 55.3281\n",
       "Q53.9062 49.2656 50.4375 45.0938\n",
       "Q46.9688 40.9219 40.5781 39.3125\" id=\"BitstreamVeraSans-Roman-33\"/>\n",
       "      </defs>\n",
       "      <g transform=\"translate(303.640625003 465.021875)scale(0.1 -0.1)\">\n",
       "       <use xlink:href=\"#BitstreamVeraSans-Roman-31\"/>\n",
       "       <use x=\"63.623046875\" xlink:href=\"#BitstreamVeraSans-Roman-33\"/>\n",
       "       <use x=\"127.24609375\" xlink:href=\"#BitstreamVeraSans-Roman-3a\"/>\n",
       "       <use x=\"160.9375\" xlink:href=\"#BitstreamVeraSans-Roman-30\"/>\n",
       "       <use x=\"224.560546875\" xlink:href=\"#BitstreamVeraSans-Roman-30\"/>\n",
       "      </g>\n",
       "     </g>\n",
       "    </g>\n",
       "    <g id=\"xtick_7\">\n",
       "     <g id=\"line2d_16\">\n",
       "      <defs>\n",
       "       <path d=\"\n",
       "M0 0\n",
       "L0 -2\" id=\"m7455f29b5b\"/>\n",
       "      </defs>\n",
       "      <g>\n",
       "       <use style=\"stroke:#000000;stroke-linecap:butt;stroke-width:0.5;\" x=\"410.168750003\" xlink:href=\"#m7455f29b5b\" y=\"453.6\"/>\n",
       "      </g>\n",
       "     </g>\n",
       "     <g id=\"line2d_17\">\n",
       "      <defs>\n",
       "       <path d=\"\n",
       "M0 0\n",
       "L0 2\" id=\"m4204cc0ca2\"/>\n",
       "      </defs>\n",
       "      <g>\n",
       "       <use style=\"stroke:#000000;stroke-linecap:butt;stroke-width:0.5;\" x=\"410.168750003\" xlink:href=\"#m4204cc0ca2\" y=\"7.2\"/>\n",
       "      </g>\n",
       "     </g>\n",
       "     <g id=\"text_6\">\n",
       "      <!-- 14:00 -->\n",
       "      <defs>\n",
       "       <path d=\"\n",
       "M37.7969 64.3125\n",
       "L12.8906 25.3906\n",
       "L37.7969 25.3906\n",
       "z\n",
       "\n",
       "M35.2031 72.9062\n",
       "L47.6094 72.9062\n",
       "L47.6094 25.3906\n",
       "L58.0156 25.3906\n",
       "L58.0156 17.1875\n",
       "L47.6094 17.1875\n",
       "L47.6094 0\n",
       "L37.7969 0\n",
       "L37.7969 17.1875\n",
       "L4.89062 17.1875\n",
       "L4.89062 26.7031\n",
       "z\n",
       "\" id=\"BitstreamVeraSans-Roman-34\"/>\n",
       "      </defs>\n",
       "      <g transform=\"translate(396.640625003 465.021875)scale(0.1 -0.1)\">\n",
       "       <use xlink:href=\"#BitstreamVeraSans-Roman-31\"/>\n",
       "       <use x=\"63.623046875\" xlink:href=\"#BitstreamVeraSans-Roman-34\"/>\n",
       "       <use x=\"127.24609375\" xlink:href=\"#BitstreamVeraSans-Roman-3a\"/>\n",
       "       <use x=\"160.9375\" xlink:href=\"#BitstreamVeraSans-Roman-30\"/>\n",
       "       <use x=\"224.560546875\" xlink:href=\"#BitstreamVeraSans-Roman-30\"/>\n",
       "      </g>\n",
       "     </g>\n",
       "    </g>\n",
       "    <g id=\"xtick_8\">\n",
       "     <g id=\"line2d_18\">\n",
       "      <defs>\n",
       "       <path d=\"\n",
       "M0 0\n",
       "L0 -2\" id=\"m7455f29b5b\"/>\n",
       "      </defs>\n",
       "      <g>\n",
       "       <use style=\"stroke:#000000;stroke-linecap:butt;stroke-width:0.5;\" x=\"503.168750003\" xlink:href=\"#m7455f29b5b\" y=\"453.6\"/>\n",
       "      </g>\n",
       "     </g>\n",
       "     <g id=\"line2d_19\">\n",
       "      <defs>\n",
       "       <path d=\"\n",
       "M0 0\n",
       "L0 2\" id=\"m4204cc0ca2\"/>\n",
       "      </defs>\n",
       "      <g>\n",
       "       <use style=\"stroke:#000000;stroke-linecap:butt;stroke-width:0.5;\" x=\"503.168750003\" xlink:href=\"#m4204cc0ca2\" y=\"7.2\"/>\n",
       "      </g>\n",
       "     </g>\n",
       "     <g id=\"text_7\">\n",
       "      <!-- 15:00 -->\n",
       "      <defs>\n",
       "       <path d=\"\n",
       "M10.7969 72.9062\n",
       "L49.5156 72.9062\n",
       "L49.5156 64.5938\n",
       "L19.8281 64.5938\n",
       "L19.8281 46.7344\n",
       "Q21.9688 47.4688 24.1094 47.8281\n",
       "Q26.2656 48.1875 28.4219 48.1875\n",
       "Q40.625 48.1875 47.75 41.5\n",
       "Q54.8906 34.8125 54.8906 23.3906\n",
       "Q54.8906 11.625 47.5625 5.09375\n",
       "Q40.2344 -1.42188 26.9062 -1.42188\n",
       "Q22.3125 -1.42188 17.5469 -0.640625\n",
       "Q12.7969 0.140625 7.71875 1.70312\n",
       "L7.71875 11.625\n",
       "Q12.1094 9.23438 16.7969 8.0625\n",
       "Q21.4844 6.89062 26.7031 6.89062\n",
       "Q35.1562 6.89062 40.0781 11.3281\n",
       "Q45.0156 15.7656 45.0156 23.3906\n",
       "Q45.0156 31 40.0781 35.4375\n",
       "Q35.1562 39.8906 26.7031 39.8906\n",
       "Q22.75 39.8906 18.8125 39.0156\n",
       "Q14.8906 38.1406 10.7969 36.2812\n",
       "z\n",
       "\" id=\"BitstreamVeraSans-Roman-35\"/>\n",
       "      </defs>\n",
       "      <g transform=\"translate(489.640625003 465.021875)scale(0.1 -0.1)\">\n",
       "       <use xlink:href=\"#BitstreamVeraSans-Roman-31\"/>\n",
       "       <use x=\"63.623046875\" xlink:href=\"#BitstreamVeraSans-Roman-35\"/>\n",
       "       <use x=\"127.24609375\" xlink:href=\"#BitstreamVeraSans-Roman-3a\"/>\n",
       "       <use x=\"160.9375\" xlink:href=\"#BitstreamVeraSans-Roman-30\"/>\n",
       "       <use x=\"224.560546875\" xlink:href=\"#BitstreamVeraSans-Roman-30\"/>\n",
       "      </g>\n",
       "     </g>\n",
       "    </g>\n",
       "    <g id=\"xtick_9\">\n",
       "     <g id=\"line2d_20\">\n",
       "      <defs>\n",
       "       <path d=\"\n",
       "M0 0\n",
       "L0 -2\" id=\"m7455f29b5b\"/>\n",
       "      </defs>\n",
       "      <g>\n",
       "       <use style=\"stroke:#000000;stroke-linecap:butt;stroke-width:0.5;\" x=\"596.168750003\" xlink:href=\"#m7455f29b5b\" y=\"453.6\"/>\n",
       "      </g>\n",
       "     </g>\n",
       "     <g id=\"line2d_21\">\n",
       "      <defs>\n",
       "       <path d=\"\n",
       "M0 0\n",
       "L0 2\" id=\"m4204cc0ca2\"/>\n",
       "      </defs>\n",
       "      <g>\n",
       "       <use style=\"stroke:#000000;stroke-linecap:butt;stroke-width:0.5;\" x=\"596.168750003\" xlink:href=\"#m4204cc0ca2\" y=\"7.2\"/>\n",
       "      </g>\n",
       "     </g>\n",
       "    </g>\n",
       "    <g id=\"text_8\">\n",
       "     <!-- Timestamp -->\n",
       "     <defs>\n",
       "      <path d=\"\n",
       "M52 44.1875\n",
       "Q55.375 50.25 60.0625 53.125\n",
       "Q64.75 56 71.0938 56\n",
       "Q79.6406 56 84.2812 50.0156\n",
       "Q88.9219 44.0469 88.9219 33.0156\n",
       "L88.9219 0\n",
       "L79.8906 0\n",
       "L79.8906 32.7188\n",
       "Q79.8906 40.5781 77.0938 44.375\n",
       "Q74.3125 48.1875 68.6094 48.1875\n",
       "Q61.625 48.1875 57.5625 43.5469\n",
       "Q53.5156 38.9219 53.5156 30.9062\n",
       "L53.5156 0\n",
       "L44.4844 0\n",
       "L44.4844 32.7188\n",
       "Q44.4844 40.625 41.7031 44.4062\n",
       "Q38.9219 48.1875 33.1094 48.1875\n",
       "Q26.2188 48.1875 22.1562 43.5312\n",
       "Q18.1094 38.875 18.1094 30.9062\n",
       "L18.1094 0\n",
       "L9.07812 0\n",
       "L9.07812 54.6875\n",
       "L18.1094 54.6875\n",
       "L18.1094 46.1875\n",
       "Q21.1875 51.2188 25.4844 53.6094\n",
       "Q29.7812 56 35.6875 56\n",
       "Q41.6562 56 45.8281 52.9688\n",
       "Q50 49.9531 52 44.1875\" id=\"BitstreamVeraSans-Roman-6d\"/>\n",
       "      <path d=\"\n",
       "M9.42188 54.6875\n",
       "L18.4062 54.6875\n",
       "L18.4062 0\n",
       "L9.42188 0\n",
       "z\n",
       "\n",
       "M9.42188 75.9844\n",
       "L18.4062 75.9844\n",
       "L18.4062 64.5938\n",
       "L9.42188 64.5938\n",
       "z\n",
       "\" id=\"BitstreamVeraSans-Roman-69\"/>\n",
       "      <path d=\"\n",
       "M56.2031 29.5938\n",
       "L56.2031 25.2031\n",
       "L14.8906 25.2031\n",
       "Q15.4844 15.9219 20.4844 11.0625\n",
       "Q25.4844 6.20312 34.4219 6.20312\n",
       "Q39.5938 6.20312 44.4531 7.46875\n",
       "Q49.3125 8.73438 54.1094 11.2812\n",
       "L54.1094 2.78125\n",
       "Q49.2656 0.734375 44.1875 -0.34375\n",
       "Q39.1094 -1.42188 33.8906 -1.42188\n",
       "Q20.7969 -1.42188 13.1562 6.1875\n",
       "Q5.51562 13.8125 5.51562 26.8125\n",
       "Q5.51562 40.2344 12.7656 48.1094\n",
       "Q20.0156 56 32.3281 56\n",
       "Q43.3594 56 49.7812 48.8906\n",
       "Q56.2031 41.7969 56.2031 29.5938\n",
       "M47.2188 32.2344\n",
       "Q47.125 39.5938 43.0938 43.9844\n",
       "Q39.0625 48.3906 32.4219 48.3906\n",
       "Q24.9062 48.3906 20.3906 44.1406\n",
       "Q15.875 39.8906 15.1875 32.1719\n",
       "z\n",
       "\" id=\"BitstreamVeraSans-Roman-65\"/>\n",
       "      <path d=\"\n",
       "M-0.296875 72.9062\n",
       "L61.375 72.9062\n",
       "L61.375 64.5938\n",
       "L35.5 64.5938\n",
       "L35.5 0\n",
       "L25.5938 0\n",
       "L25.5938 64.5938\n",
       "L-0.296875 64.5938\n",
       "z\n",
       "\" id=\"BitstreamVeraSans-Roman-54\"/>\n",
       "      <path d=\"\n",
       "M18.3125 70.2188\n",
       "L18.3125 54.6875\n",
       "L36.8125 54.6875\n",
       "L36.8125 47.7031\n",
       "L18.3125 47.7031\n",
       "L18.3125 18.0156\n",
       "Q18.3125 11.3281 20.1406 9.42188\n",
       "Q21.9688 7.51562 27.5938 7.51562\n",
       "L36.8125 7.51562\n",
       "L36.8125 0\n",
       "L27.5938 0\n",
       "Q17.1875 0 13.2344 3.875\n",
       "Q9.28125 7.76562 9.28125 18.0156\n",
       "L9.28125 47.7031\n",
       "L2.6875 47.7031\n",
       "L2.6875 54.6875\n",
       "L9.28125 54.6875\n",
       "L9.28125 70.2188\n",
       "z\n",
       "\" id=\"BitstreamVeraSans-Roman-74\"/>\n",
       "      <path d=\"\n",
       "M34.2812 27.4844\n",
       "Q23.3906 27.4844 19.1875 25\n",
       "Q14.9844 22.5156 14.9844 16.5\n",
       "Q14.9844 11.7188 18.1406 8.90625\n",
       "Q21.2969 6.10938 26.7031 6.10938\n",
       "Q34.1875 6.10938 38.7031 11.4062\n",
       "Q43.2188 16.7031 43.2188 25.4844\n",
       "L43.2188 27.4844\n",
       "z\n",
       "\n",
       "M52.2031 31.2031\n",
       "L52.2031 0\n",
       "L43.2188 0\n",
       "L43.2188 8.29688\n",
       "Q40.1406 3.32812 35.5469 0.953125\n",
       "Q30.9531 -1.42188 24.3125 -1.42188\n",
       "Q15.9219 -1.42188 10.9531 3.29688\n",
       "Q6 8.01562 6 15.9219\n",
       "Q6 25.1406 12.1719 29.8281\n",
       "Q18.3594 34.5156 30.6094 34.5156\n",
       "L43.2188 34.5156\n",
       "L43.2188 35.4062\n",
       "Q43.2188 41.6094 39.1406 45\n",
       "Q35.0625 48.3906 27.6875 48.3906\n",
       "Q23 48.3906 18.5469 47.2656\n",
       "Q14.1094 46.1406 10.0156 43.8906\n",
       "L10.0156 52.2031\n",
       "Q14.9375 54.1094 19.5781 55.0469\n",
       "Q24.2188 56 28.6094 56\n",
       "Q40.4844 56 46.3438 49.8438\n",
       "Q52.2031 43.7031 52.2031 31.2031\" id=\"BitstreamVeraSans-Roman-61\"/>\n",
       "      <path d=\"\n",
       "M44.2812 53.0781\n",
       "L44.2812 44.5781\n",
       "Q40.4844 46.5312 36.375 47.5\n",
       "Q32.2812 48.4844 27.875 48.4844\n",
       "Q21.1875 48.4844 17.8438 46.4375\n",
       "Q14.5 44.3906 14.5 40.2812\n",
       "Q14.5 37.1562 16.8906 35.375\n",
       "Q19.2812 33.5938 26.5156 31.9844\n",
       "L29.5938 31.2969\n",
       "Q39.1562 29.25 43.1875 25.5156\n",
       "Q47.2188 21.7812 47.2188 15.0938\n",
       "Q47.2188 7.46875 41.1875 3.01562\n",
       "Q35.1562 -1.42188 24.6094 -1.42188\n",
       "Q20.2188 -1.42188 15.4531 -0.5625\n",
       "Q10.6875 0.296875 5.42188 2\n",
       "L5.42188 11.2812\n",
       "Q10.4062 8.6875 15.2344 7.39062\n",
       "Q20.0625 6.10938 24.8125 6.10938\n",
       "Q31.1562 6.10938 34.5625 8.28125\n",
       "Q37.9844 10.4531 37.9844 14.4062\n",
       "Q37.9844 18.0625 35.5156 20.0156\n",
       "Q33.0625 21.9688 24.7031 23.7812\n",
       "L21.5781 24.5156\n",
       "Q13.2344 26.2656 9.51562 29.9062\n",
       "Q5.8125 33.5469 5.8125 39.8906\n",
       "Q5.8125 47.6094 11.2812 51.7969\n",
       "Q16.75 56 26.8125 56\n",
       "Q31.7812 56 36.1719 55.2656\n",
       "Q40.5781 54.5469 44.2812 53.0781\" id=\"BitstreamVeraSans-Roman-73\"/>\n",
       "      <path d=\"\n",
       "M18.1094 8.20312\n",
       "L18.1094 -20.7969\n",
       "L9.07812 -20.7969\n",
       "L9.07812 54.6875\n",
       "L18.1094 54.6875\n",
       "L18.1094 46.3906\n",
       "Q20.9531 51.2656 25.2656 53.625\n",
       "Q29.5938 56 35.5938 56\n",
       "Q45.5625 56 51.7812 48.0938\n",
       "Q58.0156 40.1875 58.0156 27.2969\n",
       "Q58.0156 14.4062 51.7812 6.48438\n",
       "Q45.5625 -1.42188 35.5938 -1.42188\n",
       "Q29.5938 -1.42188 25.2656 0.953125\n",
       "Q20.9531 3.32812 18.1094 8.20312\n",
       "M48.6875 27.2969\n",
       "Q48.6875 37.2031 44.6094 42.8438\n",
       "Q40.5312 48.4844 33.4062 48.4844\n",
       "Q26.2656 48.4844 22.1875 42.8438\n",
       "Q18.1094 37.2031 18.1094 27.2969\n",
       "Q18.1094 17.3906 22.1875 11.75\n",
       "Q26.2656 6.10938 33.4062 6.10938\n",
       "Q40.5312 6.10938 44.6094 11.75\n",
       "Q48.6875 17.3906 48.6875 27.2969\" id=\"BitstreamVeraSans-Roman-70\"/>\n",
       "     </defs>\n",
       "     <g transform=\"translate(289.5203125 477.7625)scale(0.1 -0.1)\">\n",
       "      <use xlink:href=\"#BitstreamVeraSans-Roman-54\"/>\n",
       "      <use x=\"57.958984375\" xlink:href=\"#BitstreamVeraSans-Roman-69\"/>\n",
       "      <use x=\"85.7421875\" xlink:href=\"#BitstreamVeraSans-Roman-6d\"/>\n",
       "      <use x=\"183.154296875\" xlink:href=\"#BitstreamVeraSans-Roman-65\"/>\n",
       "      <use x=\"244.677734375\" xlink:href=\"#BitstreamVeraSans-Roman-73\"/>\n",
       "      <use x=\"296.77734375\" xlink:href=\"#BitstreamVeraSans-Roman-74\"/>\n",
       "      <use x=\"335.986328125\" xlink:href=\"#BitstreamVeraSans-Roman-61\"/>\n",
       "      <use x=\"397.265625\" xlink:href=\"#BitstreamVeraSans-Roman-6d\"/>\n",
       "      <use x=\"494.677734375\" xlink:href=\"#BitstreamVeraSans-Roman-70\"/>\n",
       "     </g>\n",
       "    </g>\n",
       "   </g>\n",
       "   <g id=\"matplotlib.axis_2\">\n",
       "    <g id=\"ytick_1\">\n",
       "     <g id=\"line2d_22\">\n",
       "      <path clip-path=\"url(#p2db28cb40c)\" d=\"\n",
       "M38.1688 408.96\n",
       "L596.169 408.96\" style=\"fill:none;stroke:#000000;stroke-dasharray:1.000000,3.000000;stroke-dashoffset:0.0;stroke-linecap:butt;stroke-width:0.5;\"/>\n",
       "     </g>\n",
       "     <g id=\"line2d_23\">\n",
       "      <defs>\n",
       "       <path d=\"\n",
       "M0 0\n",
       "L4 0\" id=\"mf3cb6a75f1\"/>\n",
       "      </defs>\n",
       "      <g>\n",
       "       <use style=\"stroke:#000000;stroke-linecap:butt;stroke-width:0.5;\" x=\"38.16875\" xlink:href=\"#mf3cb6a75f1\" y=\"408.96\"/>\n",
       "      </g>\n",
       "     </g>\n",
       "     <g id=\"line2d_24\">\n",
       "      <defs>\n",
       "       <path d=\"\n",
       "M0 0\n",
       "L-4 0\" id=\"mcb8f5e803c\"/>\n",
       "      </defs>\n",
       "      <g>\n",
       "       <use style=\"stroke:#000000;stroke-linecap:butt;stroke-width:0.5;\" x=\"596.16875\" xlink:href=\"#mcb8f5e803c\" y=\"408.96\"/>\n",
       "      </g>\n",
       "     </g>\n",
       "     <g id=\"text_9\">\n",
       "      <!-- 103.6 -->\n",
       "      <defs>\n",
       "       <path d=\"\n",
       "M10.6875 12.4062\n",
       "L21 12.4062\n",
       "L21 0\n",
       "L10.6875 0\n",
       "z\n",
       "\" id=\"BitstreamVeraSans-Roman-2e\"/>\n",
       "      </defs>\n",
       "      <g transform=\"translate(7.26875 412.59984375)scale(0.1 -0.1)\">\n",
       "       <use xlink:href=\"#BitstreamVeraSans-Roman-31\"/>\n",
       "       <use x=\"63.623046875\" xlink:href=\"#BitstreamVeraSans-Roman-30\"/>\n",
       "       <use x=\"127.24609375\" xlink:href=\"#BitstreamVeraSans-Roman-33\"/>\n",
       "       <use x=\"190.869140625\" xlink:href=\"#BitstreamVeraSans-Roman-2e\"/>\n",
       "       <use x=\"222.65625\" xlink:href=\"#BitstreamVeraSans-Roman-36\"/>\n",
       "      </g>\n",
       "     </g>\n",
       "    </g>\n",
       "    <g id=\"ytick_2\">\n",
       "     <g id=\"line2d_25\">\n",
       "      <path clip-path=\"url(#p2db28cb40c)\" d=\"\n",
       "M38.1688 319.68\n",
       "L596.169 319.68\" style=\"fill:none;stroke:#000000;stroke-dasharray:1.000000,3.000000;stroke-dashoffset:0.0;stroke-linecap:butt;stroke-width:0.5;\"/>\n",
       "     </g>\n",
       "     <g id=\"line2d_26\">\n",
       "      <defs>\n",
       "       <path d=\"\n",
       "M0 0\n",
       "L4 0\" id=\"mf3cb6a75f1\"/>\n",
       "      </defs>\n",
       "      <g>\n",
       "       <use style=\"stroke:#000000;stroke-linecap:butt;stroke-width:0.5;\" x=\"38.16875\" xlink:href=\"#mf3cb6a75f1\" y=\"319.68\"/>\n",
       "      </g>\n",
       "     </g>\n",
       "     <g id=\"line2d_27\">\n",
       "      <defs>\n",
       "       <path d=\"\n",
       "M0 0\n",
       "L-4 0\" id=\"mcb8f5e803c\"/>\n",
       "      </defs>\n",
       "      <g>\n",
       "       <use style=\"stroke:#000000;stroke-linecap:butt;stroke-width:0.5;\" x=\"596.16875\" xlink:href=\"#mcb8f5e803c\" y=\"319.68\"/>\n",
       "      </g>\n",
       "     </g>\n",
       "     <g id=\"text_10\">\n",
       "      <!-- 103.8 -->\n",
       "      <defs>\n",
       "       <path d=\"\n",
       "M31.7812 34.625\n",
       "Q24.75 34.625 20.7188 30.8594\n",
       "Q16.7031 27.0938 16.7031 20.5156\n",
       "Q16.7031 13.9219 20.7188 10.1562\n",
       "Q24.75 6.39062 31.7812 6.39062\n",
       "Q38.8125 6.39062 42.8594 10.1719\n",
       "Q46.9219 13.9688 46.9219 20.5156\n",
       "Q46.9219 27.0938 42.8906 30.8594\n",
       "Q38.875 34.625 31.7812 34.625\n",
       "M21.9219 38.8125\n",
       "Q15.5781 40.375 12.0312 44.7188\n",
       "Q8.5 49.0781 8.5 55.3281\n",
       "Q8.5 64.0625 14.7188 69.1406\n",
       "Q20.9531 74.2188 31.7812 74.2188\n",
       "Q42.6719 74.2188 48.875 69.1406\n",
       "Q55.0781 64.0625 55.0781 55.3281\n",
       "Q55.0781 49.0781 51.5312 44.7188\n",
       "Q48 40.375 41.7031 38.8125\n",
       "Q48.8281 37.1562 52.7969 32.3125\n",
       "Q56.7812 27.4844 56.7812 20.5156\n",
       "Q56.7812 9.90625 50.3125 4.23438\n",
       "Q43.8438 -1.42188 31.7812 -1.42188\n",
       "Q19.7344 -1.42188 13.25 4.23438\n",
       "Q6.78125 9.90625 6.78125 20.5156\n",
       "Q6.78125 27.4844 10.7812 32.3125\n",
       "Q14.7969 37.1562 21.9219 38.8125\n",
       "M18.3125 54.3906\n",
       "Q18.3125 48.7344 21.8438 45.5625\n",
       "Q25.3906 42.3906 31.7812 42.3906\n",
       "Q38.1406 42.3906 41.7188 45.5625\n",
       "Q45.3125 48.7344 45.3125 54.3906\n",
       "Q45.3125 60.0625 41.7188 63.2344\n",
       "Q38.1406 66.4062 31.7812 66.4062\n",
       "Q25.3906 66.4062 21.8438 63.2344\n",
       "Q18.3125 60.0625 18.3125 54.3906\" id=\"BitstreamVeraSans-Roman-38\"/>\n",
       "      </defs>\n",
       "      <g transform=\"translate(7.3234375 323.31984375)scale(0.1 -0.1)\">\n",
       "       <use xlink:href=\"#BitstreamVeraSans-Roman-31\"/>\n",
       "       <use x=\"63.623046875\" xlink:href=\"#BitstreamVeraSans-Roman-30\"/>\n",
       "       <use x=\"127.24609375\" xlink:href=\"#BitstreamVeraSans-Roman-33\"/>\n",
       "       <use x=\"190.869140625\" xlink:href=\"#BitstreamVeraSans-Roman-2e\"/>\n",
       "       <use x=\"222.65625\" xlink:href=\"#BitstreamVeraSans-Roman-38\"/>\n",
       "      </g>\n",
       "     </g>\n",
       "    </g>\n",
       "    <g id=\"ytick_3\">\n",
       "     <g id=\"line2d_28\">\n",
       "      <path clip-path=\"url(#p2db28cb40c)\" d=\"\n",
       "M38.1688 230.4\n",
       "L596.169 230.4\" style=\"fill:none;stroke:#000000;stroke-dasharray:1.000000,3.000000;stroke-dashoffset:0.0;stroke-linecap:butt;stroke-width:0.5;\"/>\n",
       "     </g>\n",
       "     <g id=\"line2d_29\">\n",
       "      <defs>\n",
       "       <path d=\"\n",
       "M0 0\n",
       "L4 0\" id=\"mf3cb6a75f1\"/>\n",
       "      </defs>\n",
       "      <g>\n",
       "       <use style=\"stroke:#000000;stroke-linecap:butt;stroke-width:0.5;\" x=\"38.16875\" xlink:href=\"#mf3cb6a75f1\" y=\"230.4\"/>\n",
       "      </g>\n",
       "     </g>\n",
       "     <g id=\"line2d_30\">\n",
       "      <defs>\n",
       "       <path d=\"\n",
       "M0 0\n",
       "L-4 0\" id=\"mcb8f5e803c\"/>\n",
       "      </defs>\n",
       "      <g>\n",
       "       <use style=\"stroke:#000000;stroke-linecap:butt;stroke-width:0.5;\" x=\"596.16875\" xlink:href=\"#mcb8f5e803c\" y=\"230.4\"/>\n",
       "      </g>\n",
       "     </g>\n",
       "     <g id=\"text_11\">\n",
       "      <!-- 104.0 -->\n",
       "      <g transform=\"translate(7.303125 234.03984375)scale(0.1 -0.1)\">\n",
       "       <use xlink:href=\"#BitstreamVeraSans-Roman-31\"/>\n",
       "       <use x=\"63.623046875\" xlink:href=\"#BitstreamVeraSans-Roman-30\"/>\n",
       "       <use x=\"127.24609375\" xlink:href=\"#BitstreamVeraSans-Roman-34\"/>\n",
       "       <use x=\"190.869140625\" xlink:href=\"#BitstreamVeraSans-Roman-2e\"/>\n",
       "       <use x=\"222.65625\" xlink:href=\"#BitstreamVeraSans-Roman-30\"/>\n",
       "      </g>\n",
       "     </g>\n",
       "    </g>\n",
       "    <g id=\"ytick_4\">\n",
       "     <g id=\"line2d_31\">\n",
       "      <path clip-path=\"url(#p2db28cb40c)\" d=\"\n",
       "M38.1688 141.12\n",
       "L596.169 141.12\" style=\"fill:none;stroke:#000000;stroke-dasharray:1.000000,3.000000;stroke-dashoffset:0.0;stroke-linecap:butt;stroke-width:0.5;\"/>\n",
       "     </g>\n",
       "     <g id=\"line2d_32\">\n",
       "      <defs>\n",
       "       <path d=\"\n",
       "M0 0\n",
       "L4 0\" id=\"mf3cb6a75f1\"/>\n",
       "      </defs>\n",
       "      <g>\n",
       "       <use style=\"stroke:#000000;stroke-linecap:butt;stroke-width:0.5;\" x=\"38.16875\" xlink:href=\"#mf3cb6a75f1\" y=\"141.12\"/>\n",
       "      </g>\n",
       "     </g>\n",
       "     <g id=\"line2d_33\">\n",
       "      <defs>\n",
       "       <path d=\"\n",
       "M0 0\n",
       "L-4 0\" id=\"mcb8f5e803c\"/>\n",
       "      </defs>\n",
       "      <g>\n",
       "       <use style=\"stroke:#000000;stroke-linecap:butt;stroke-width:0.5;\" x=\"596.16875\" xlink:href=\"#mcb8f5e803c\" y=\"141.12\"/>\n",
       "      </g>\n",
       "     </g>\n",
       "     <g id=\"text_12\">\n",
       "      <!-- 104.2 -->\n",
       "      <g transform=\"translate(7.640625 144.75984375)scale(0.1 -0.1)\">\n",
       "       <use xlink:href=\"#BitstreamVeraSans-Roman-31\"/>\n",
       "       <use x=\"63.623046875\" xlink:href=\"#BitstreamVeraSans-Roman-30\"/>\n",
       "       <use x=\"127.24609375\" xlink:href=\"#BitstreamVeraSans-Roman-34\"/>\n",
       "       <use x=\"190.869140625\" xlink:href=\"#BitstreamVeraSans-Roman-2e\"/>\n",
       "       <use x=\"222.65625\" xlink:href=\"#BitstreamVeraSans-Roman-32\"/>\n",
       "      </g>\n",
       "     </g>\n",
       "    </g>\n",
       "    <g id=\"ytick_5\">\n",
       "     <g id=\"line2d_34\">\n",
       "      <path clip-path=\"url(#p2db28cb40c)\" d=\"\n",
       "M38.1688 51.84\n",
       "L596.169 51.84\" style=\"fill:none;stroke:#000000;stroke-dasharray:1.000000,3.000000;stroke-dashoffset:0.0;stroke-linecap:butt;stroke-width:0.5;\"/>\n",
       "     </g>\n",
       "     <g id=\"line2d_35\">\n",
       "      <defs>\n",
       "       <path d=\"\n",
       "M0 0\n",
       "L4 0\" id=\"mf3cb6a75f1\"/>\n",
       "      </defs>\n",
       "      <g>\n",
       "       <use style=\"stroke:#000000;stroke-linecap:butt;stroke-width:0.5;\" x=\"38.16875\" xlink:href=\"#mf3cb6a75f1\" y=\"51.84\"/>\n",
       "      </g>\n",
       "     </g>\n",
       "     <g id=\"line2d_36\">\n",
       "      <defs>\n",
       "       <path d=\"\n",
       "M0 0\n",
       "L-4 0\" id=\"mcb8f5e803c\"/>\n",
       "      </defs>\n",
       "      <g>\n",
       "       <use style=\"stroke:#000000;stroke-linecap:butt;stroke-width:0.5;\" x=\"596.16875\" xlink:href=\"#mcb8f5e803c\" y=\"51.84\"/>\n",
       "      </g>\n",
       "     </g>\n",
       "     <g id=\"text_13\">\n",
       "      <!-- 104.4 -->\n",
       "      <g transform=\"translate(7.2 55.47984375)scale(0.1 -0.1)\">\n",
       "       <use xlink:href=\"#BitstreamVeraSans-Roman-31\"/>\n",
       "       <use x=\"63.623046875\" xlink:href=\"#BitstreamVeraSans-Roman-30\"/>\n",
       "       <use x=\"127.24609375\" xlink:href=\"#BitstreamVeraSans-Roman-34\"/>\n",
       "       <use x=\"190.869140625\" xlink:href=\"#BitstreamVeraSans-Roman-2e\"/>\n",
       "       <use x=\"222.65625\" xlink:href=\"#BitstreamVeraSans-Roman-34\"/>\n",
       "      </g>\n",
       "     </g>\n",
       "    </g>\n",
       "   </g>\n",
       "   <g id=\"patch_3\">\n",
       "    <path d=\"\n",
       "M38.1688 7.2\n",
       "L596.169 7.2\" style=\"fill:none;stroke:#000000;\"/>\n",
       "   </g>\n",
       "   <g id=\"patch_4\">\n",
       "    <path d=\"\n",
       "M596.169 453.6\n",
       "L596.169 7.2\" style=\"fill:none;stroke:#000000;\"/>\n",
       "   </g>\n",
       "   <g id=\"patch_5\">\n",
       "    <path d=\"\n",
       "M38.1688 453.6\n",
       "L596.169 453.6\" style=\"fill:none;stroke:#000000;\"/>\n",
       "   </g>\n",
       "   <g id=\"patch_6\">\n",
       "    <path d=\"\n",
       "M38.1688 453.6\n",
       "L38.1688 7.2\" style=\"fill:none;stroke:#000000;\"/>\n",
       "   </g>\n",
       "  </g>\n",
       " </g>\n",
       " <defs>\n",
       "  <clipPath id=\"p2db28cb40c\">\n",
       "   <rect height=\"446.4\" width=\"558.0\" x=\"38.16875\" y=\"7.2\"/>\n",
       "  </clipPath>\n",
       " </defs>\n",
       "</svg>\n"
      ],
      "text/plain": [
       "<matplotlib.figure.Figure at 0x10ad61b90>"
      ]
     },
     "metadata": {},
     "output_type": "display_data"
    }
   ],
   "source": [
    "filled.ix['2011-11-03':'2011-11-04'].plot()\n",
    "plt.ylim(103.5, 104.5)"
   ]
  },
  {
   "cell_type": "code",
   "execution_count": 21,
   "metadata": {
    "collapsed": true
   },
   "outputs": [
    {
     "data": {
      "text/plain": [
       "<matplotlib.axes.AxesSubplot at 0x10d6ba690>"
      ]
     },
     "execution_count": 21,
     "metadata": {},
     "output_type": "execute_result"
    },
    {
     "data": {
      "image/svg+xml": [
       "<?xml version=\"1.0\" encoding=\"utf-8\" standalone=\"no\"?>\n",
       "<!DOCTYPE svg PUBLIC \"-//W3C//DTD SVG 1.1//EN\"\n",
       "  \"http://www.w3.org/Graphics/SVG/1.1/DTD/svg11.dtd\">\n",
       "<!-- Created with matplotlib (http://matplotlib.sourceforge.net/) -->\n",
       "<svg height=\"490pt\" version=\"1.1\" viewBox=\"0 0 643 490\" width=\"643pt\" xmlns=\"http://www.w3.org/2000/svg\" xmlns:xlink=\"http://www.w3.org/1999/xlink\">\n",
       " <defs>\n",
       "  <style type=\"text/css\">\n",
       "*{stroke-linecap:square;stroke-linejoin:round;}\n",
       "  </style>\n",
       " </defs>\n",
       " <g id=\"figure_1\">\n",
       "  <g id=\"patch_1\">\n",
       "   <path d=\"\n",
       "M0 490.824\n",
       "L643.781 490.824\n",
       "L643.781 0\n",
       "L0 0\n",
       "z\n",
       "\" style=\"fill:#ffffff;\"/>\n",
       "  </g>\n",
       "  <g id=\"axes_1\">\n",
       "   <g id=\"patch_2\">\n",
       "    <path d=\"\n",
       "M38.1688 457.382\n",
       "L596.169 457.382\n",
       "L596.169 10.982\n",
       "L38.1688 10.982\n",
       "z\n",
       "\" style=\"fill:#ffffff;\"/>\n",
       "   </g>\n",
       "   <g id=\"line2d_1\">\n",
       "    <path clip-path=\"url(#pc9e4b33faf)\" d=\"\n",
       "M42.8188 235.298\n",
       "L44.3688 214.409\n",
       "M47.4688 173.866\n",
       "L49.0188 176.15\n",
       "L50.5688 180.614\n",
       "L52.1188 188.984\n",
       "M59.8688 195.494\n",
       "L61.4188 212.219\n",
       "L62.9688 221.534\n",
       "L64.5188 244.7\n",
       "L66.0688 273.245\n",
       "M69.1688 292.214\n",
       "L70.7188 278.822\n",
       "L72.2688 270.491\n",
       "L73.8188 283.286\n",
       "L75.3688 280.608\n",
       "L76.9188 271.283\n",
       "L78.4688 274.358\n",
       "L80.0188 282.185\n",
       "L81.5688 289.103\n",
       "L83.1188 296.678\n",
       "L84.6688 285.837\n",
       "L86.2188 290.006\n",
       "L87.7688 301.712\n",
       "L89.3188 305.606\n",
       "L90.8688 304.424\n",
       "L92.4188 296.678\n",
       "L93.9688 298.166\n",
       "L95.5188 295.439\n",
       "L97.0688 305.606\n",
       "L100.169 296.678\n",
       "L101.719 301.572\n",
       "L103.269 321.007\n",
       "L104.819 324.679\n",
       "L106.369 336.854\n",
       "L107.919 327.695\n",
       "L109.469 346.526\n",
       "L111.019 359.67\n",
       "M114.119 336.854\n",
       "L115.669 340.257\n",
       "L117.219 327.926\n",
       "L118.769 324.935\n",
       "L120.319 323.462\n",
       "L121.869 320.56\n",
       "L123.419 314.713\n",
       "L124.969 314.534\n",
       "M128.069 314.534\n",
       "L129.619 296.678\n",
       "L131.169 294.313\n",
       "L132.719 287.795\n",
       "L134.269 293.33\n",
       "L135.819 267.35\n",
       "L137.369 245.59\n",
       "L138.919 243.11\n",
       "L140.469 240.125\n",
       "L142.019 243.11\n",
       "L143.569 242.007\n",
       "L145.119 254.083\n",
       "L146.669 250.116\n",
       "L148.219 244.936\n",
       "L149.769 260.966\n",
       "L151.319 249.806\n",
       "L152.869 247.255\n",
       "L154.419 260.966\n",
       "L155.969 261.524\n",
       "L157.519 269.875\n",
       "L159.069 274.778\n",
       "L160.619 274.358\n",
       "L162.169 279.752\n",
       "L163.719 272.87\n",
       "M166.819 265.43\n",
       "L168.369 275.008\n",
       "M171.469 269.196\n",
       "L173.019 253.313\n",
       "L174.569 252.048\n",
       "L176.119 247.574\n",
       "M179.219 250.122\n",
       "L180.769 236.235\n",
       "L182.319 247.873\n",
       "L183.869 246.664\n",
       "M190.069 244.003\n",
       "L191.619 233.289\n",
       "L193.169 223.766\n",
       "M196.269 225.94\n",
       "L197.819 232.88\n",
       "L199.369 234.182\n",
       "L200.919 243.415\n",
       "M208.669 242.083\n",
       "L210.219 252.038\n",
       "L211.769 260.612\n",
       "L213.319 247.574\n",
       "L214.869 246.638\n",
       "L216.419 252.521\n",
       "L217.969 255.378\n",
       "L219.519 247.574\n",
       "M222.619 234.182\n",
       "L224.169 235.075\n",
       "L225.719 234.182\n",
       "L227.269 235.194\n",
       "L228.819 239.195\n",
       "L230.369 234.443\n",
       "L231.919 238.646\n",
       "L233.469 233.091\n",
       "L235.019 238.884\n",
       "L236.569 249.808\n",
       "L238.119 257.618\n",
       "L239.669 260.328\n",
       "L241.219 260.154\n",
       "L244.319 253.02\n",
       "L245.869 254.344\n",
       "L247.419 262.879\n",
       "L248.969 252.676\n",
       "L250.519 249.806\n",
       "L252.069 247.574\n",
       "L253.619 250.116\n",
       "L255.169 257.698\n",
       "L256.719 256.502\n",
       "L258.269 258.932\n",
       "L259.819 251.002\n",
       "L261.369 264.314\n",
       "L262.919 274.123\n",
       "L264.469 274.358\n",
       "L266.019 273.912\n",
       "L269.119 283.458\n",
       "M272.219 269.894\n",
       "L273.769 268.108\n",
       "L275.319 269.698\n",
       "M278.419 259.002\n",
       "L279.969 260.966\n",
       "L281.519 260.709\n",
       "L283.069 264.591\n",
       "L286.169 247.608\n",
       "L287.719 250.157\n",
       "L289.269 243.11\n",
       "L290.819 241.088\n",
       "M293.919 244.375\n",
       "L295.469 247.574\n",
       "L297.019 252.038\n",
       "M300.119 272.49\n",
       "L301.669 282.512\n",
       "L303.219 287.257\n",
       "L304.769 278.822\n",
       "L306.319 277.394\n",
       "L307.869 283.286\n",
       "M310.969 311.558\n",
       "L312.519 303.643\n",
       "L314.069 305.606\n",
       "L315.619 303.743\n",
       "L317.169 296.678\n",
       "L318.719 295.295\n",
       "M321.819 290.373\n",
       "L323.369 296.678\n",
       "L324.919 307.885\n",
       "L326.469 307.035\n",
       "L328.019 313.046\n",
       "L329.569 305.88\n",
       "L331.119 303.969\n",
       "L332.669 298.991\n",
       "L334.219 305.833\n",
       "L335.769 314.534\n",
       "L337.319 306.917\n",
       "L340.419 287.795\n",
       "L341.969 305.606\n",
       "L343.519 302.126\n",
       "L345.069 300.005\n",
       "M348.169 297.106\n",
       "L349.719 292.259\n",
       "M352.819 287.75\n",
       "L354.369 295.785\n",
       "L355.919 279.715\n",
       "L357.469 287.829\n",
       "L359.019 283.286\n",
       "L360.569 292.214\n",
       "L363.669 287.683\n",
       "L365.219 282.316\n",
       "L366.769 283.286\n",
       "L368.319 292.214\n",
       "L369.869 283.286\n",
       "L371.419 287.795\n",
       "M374.519 283.563\n",
       "L376.069 289.238\n",
       "L377.619 292.214\n",
       "L379.169 296.678\n",
       "L380.719 299.892\n",
       "L382.269 306.227\n",
       "L383.819 304.453\n",
       "L385.369 306.402\n",
       "L386.919 301.166\n",
       "L388.469 301.268\n",
       "L390.019 301.716\n",
       "L391.569 311.627\n",
       "L393.119 316.777\n",
       "L394.669 320.114\n",
       "L396.219 322.569\n",
       "L397.769 323.239\n",
       "L400.869 306.317\n",
       "L402.419 301.142\n",
       "L403.969 292.214\n",
       "M407.069 283.286\n",
       "L408.619 298.91\n",
       "L410.169 301.142\n",
       "L411.719 293.33\n",
       "L414.819 274.358\n",
       "L416.369 276.501\n",
       "L417.919 273.106\n",
       "L419.469 274.358\n",
       "L421.019 268.019\n",
       "L422.569 274.623\n",
       "L424.119 274.394\n",
       "L425.669 283.286\n",
       "L427.219 283.286\n",
       "L428.769 284.836\n",
       "M431.869 282.75\n",
       "L433.419 291.768\n",
       "L434.969 292.214\n",
       "L436.519 302.957\n",
       "L438.069 300.98\n",
       "L439.619 301.142\n",
       "L441.169 299.671\n",
       "L442.719 287.633\n",
       "L444.269 284.133\n",
       "L445.819 276.838\n",
       "L447.369 279.27\n",
       "L448.919 271.399\n",
       "L450.469 293.448\n",
       "L452.019 288.643\n",
       "L453.569 304.118\n",
       "L455.119 305.606\n",
       "M458.219 311.32\n",
       "L459.769 305.606\n",
       "L461.319 313.542\n",
       "L462.869 318.998\n",
       "L464.419 323.492\n",
       "L465.969 316.498\n",
       "L467.519 317.51\n",
       "M470.619 310.07\n",
       "L472.169 301.142\n",
       "L473.719 311.299\n",
       "M476.819 312.851\n",
       "L478.369 310.07\n",
       "M481.469 303.23\n",
       "L483.019 303.3\n",
       "M486.119 303.999\n",
       "L487.669 301.588\n",
       "M490.769 308.232\n",
       "L492.319 305.606\n",
       "L493.869 300.887\n",
       "M500.069 314.534\n",
       "L501.619 314.179\n",
       "L503.169 316.398\n",
       "L504.719 323.462\n",
       "L506.269 322.569\n",
       "L507.819 307.09\n",
       "L509.369 306.052\n",
       "M514.019 305.606\n",
       "L515.569 306.244\n",
       "L517.119 305.707\n",
       "L518.669 304.765\n",
       "L520.219 303.002\n",
       "L521.769 305.606\n",
       "L523.319 305.606\n",
       "L524.869 314.549\n",
       "L526.419 311.856\n",
       "L527.969 314.487\n",
       "M537.269 290.238\n",
       "L538.819 296.678\n",
       "L540.369 292.214\n",
       "L541.919 295.998\n",
       "L543.469 301.692\n",
       "L545.019 297.571\n",
       "L546.569 302.395\n",
       "L548.119 310.07\n",
       "L549.669 305.606\n",
       "L551.219 309.461\n",
       "L552.769 308.732\n",
       "L554.319 311.558\n",
       "L555.869 310.773\n",
       "L557.419 303.248\n",
       "L558.969 304.434\n",
       "M562.069 303.073\n",
       "L563.619 305.561\n",
       "L565.169 302.928\n",
       "L566.719 305.965\n",
       "L569.819 287.973\n",
       "L571.369 291.385\n",
       "L572.919 305.606\n",
       "L574.469 305.719\n",
       "L576.019 298.166\n",
       "L577.569 296.678\n",
       "L579.119 297.712\n",
       "M582.219 302.46\n",
       "L583.769 301.097\n",
       "L586.869 292.214\n",
       "L588.419 294.184\n",
       "L589.969 298.937\n",
       "L591.519 310.07\n",
       "L593.069 307.882\n",
       "L594.619 311.642\n",
       "L596.169 309.585\n",
       "L597.719 323.357\n",
       "L597.719 323.357\" style=\"fill:none;stroke:#0000ff;\"/>\n",
       "   </g>\n",
       "   <g id=\"matplotlib.axis_1\">\n",
       "    <g id=\"xtick_1\">\n",
       "     <g id=\"line2d_2\">\n",
       "      <path clip-path=\"url(#pc9e4b33faf)\" d=\"\n",
       "M38.1688 457.382\n",
       "L38.1688 10.982\" style=\"fill:none;stroke:#000000;stroke-dasharray:1.000000,3.000000;stroke-dashoffset:0.0;stroke-linecap:butt;stroke-width:0.5;\"/>\n",
       "     </g>\n",
       "     <g id=\"line2d_3\">\n",
       "      <defs>\n",
       "       <path d=\"\n",
       "M0 0\n",
       "L0 -4\" id=\"m29f7fa3b21\"/>\n",
       "      </defs>\n",
       "      <g>\n",
       "       <use style=\"stroke:#000000;stroke-linecap:butt;stroke-width:0.5;\" x=\"38.168750003\" xlink:href=\"#m29f7fa3b21\" y=\"457.38203125\"/>\n",
       "      </g>\n",
       "     </g>\n",
       "     <g id=\"line2d_4\">\n",
       "      <defs>\n",
       "       <path d=\"\n",
       "M0 0\n",
       "L0 4\" id=\"md0fc6de9e5\"/>\n",
       "      </defs>\n",
       "      <g>\n",
       "       <use style=\"stroke:#000000;stroke-linecap:butt;stroke-width:0.5;\" x=\"38.168750003\" xlink:href=\"#md0fc6de9e5\" y=\"10.98203125\"/>\n",
       "      </g>\n",
       "     </g>\n",
       "     <g id=\"text_1\">\n",
       "      <!-- 10:00 -->\n",
       "      <defs>\n",
       "       <path d=\"\n",
       "M11.7188 12.4062\n",
       "L22.0156 12.4062\n",
       "L22.0156 0\n",
       "L11.7188 0\n",
       "z\n",
       "\n",
       "M11.7188 51.7031\n",
       "L22.0156 51.7031\n",
       "L22.0156 39.3125\n",
       "L11.7188 39.3125\n",
       "z\n",
       "\" id=\"BitstreamVeraSans-Roman-3a\"/>\n",
       "       <path d=\"\n",
       "M31.7812 66.4062\n",
       "Q24.1719 66.4062 20.3281 58.9062\n",
       "Q16.5 51.4219 16.5 36.375\n",
       "Q16.5 21.3906 20.3281 13.8906\n",
       "Q24.1719 6.39062 31.7812 6.39062\n",
       "Q39.4531 6.39062 43.2812 13.8906\n",
       "Q47.125 21.3906 47.125 36.375\n",
       "Q47.125 51.4219 43.2812 58.9062\n",
       "Q39.4531 66.4062 31.7812 66.4062\n",
       "M31.7812 74.2188\n",
       "Q44.0469 74.2188 50.5156 64.5156\n",
       "Q56.9844 54.8281 56.9844 36.375\n",
       "Q56.9844 17.9688 50.5156 8.26562\n",
       "Q44.0469 -1.42188 31.7812 -1.42188\n",
       "Q19.5312 -1.42188 13.0625 8.26562\n",
       "Q6.59375 17.9688 6.59375 36.375\n",
       "Q6.59375 54.8281 13.0625 64.5156\n",
       "Q19.5312 74.2188 31.7812 74.2188\" id=\"BitstreamVeraSans-Roman-30\"/>\n",
       "       <path d=\"\n",
       "M12.4062 8.29688\n",
       "L28.5156 8.29688\n",
       "L28.5156 63.9219\n",
       "L10.9844 60.4062\n",
       "L10.9844 69.3906\n",
       "L28.4219 72.9062\n",
       "L38.2812 72.9062\n",
       "L38.2812 8.29688\n",
       "L54.3906 8.29688\n",
       "L54.3906 0\n",
       "L12.4062 0\n",
       "z\n",
       "\" id=\"BitstreamVeraSans-Roman-31\"/>\n",
       "      </defs>\n",
       "      <g transform=\"translate(24.640625003 468.80390625)scale(0.1 -0.1)\">\n",
       "       <use xlink:href=\"#BitstreamVeraSans-Roman-31\"/>\n",
       "       <use x=\"63.623046875\" xlink:href=\"#BitstreamVeraSans-Roman-30\"/>\n",
       "       <use x=\"127.24609375\" xlink:href=\"#BitstreamVeraSans-Roman-3a\"/>\n",
       "       <use x=\"160.9375\" xlink:href=\"#BitstreamVeraSans-Roman-30\"/>\n",
       "       <use x=\"224.560546875\" xlink:href=\"#BitstreamVeraSans-Roman-30\"/>\n",
       "      </g>\n",
       "     </g>\n",
       "    </g>\n",
       "    <g id=\"xtick_2\">\n",
       "     <g id=\"line2d_5\">\n",
       "      <path clip-path=\"url(#pc9e4b33faf)\" d=\"\n",
       "M596.169 457.382\n",
       "L596.169 10.982\" style=\"fill:none;stroke:#000000;stroke-dasharray:1.000000,3.000000;stroke-dashoffset:0.0;stroke-linecap:butt;stroke-width:0.5;\"/>\n",
       "     </g>\n",
       "     <g id=\"line2d_6\">\n",
       "      <defs>\n",
       "       <path d=\"\n",
       "M0 0\n",
       "L0 -4\" id=\"m29f7fa3b21\"/>\n",
       "      </defs>\n",
       "      <g>\n",
       "       <use style=\"stroke:#000000;stroke-linecap:butt;stroke-width:0.5;\" x=\"596.168750003\" xlink:href=\"#m29f7fa3b21\" y=\"457.38203125\"/>\n",
       "      </g>\n",
       "     </g>\n",
       "     <g id=\"line2d_7\">\n",
       "      <defs>\n",
       "       <path d=\"\n",
       "M0 0\n",
       "L0 4\" id=\"md0fc6de9e5\"/>\n",
       "      </defs>\n",
       "      <g>\n",
       "       <use style=\"stroke:#000000;stroke-linecap:butt;stroke-width:0.5;\" x=\"596.168750003\" xlink:href=\"#md0fc6de9e5\" y=\"10.98203125\"/>\n",
       "      </g>\n",
       "     </g>\n",
       "     <g id=\"text_2\">\n",
       "      <!-- 16:00 -->\n",
       "      <defs>\n",
       "       <path d=\"\n",
       "M33.0156 40.375\n",
       "Q26.375 40.375 22.4844 35.8281\n",
       "Q18.6094 31.2969 18.6094 23.3906\n",
       "Q18.6094 15.5312 22.4844 10.9531\n",
       "Q26.375 6.39062 33.0156 6.39062\n",
       "Q39.6562 6.39062 43.5312 10.9531\n",
       "Q47.4062 15.5312 47.4062 23.3906\n",
       "Q47.4062 31.2969 43.5312 35.8281\n",
       "Q39.6562 40.375 33.0156 40.375\n",
       "M52.5938 71.2969\n",
       "L52.5938 62.3125\n",
       "Q48.875 64.0625 45.0938 64.9844\n",
       "Q41.3125 65.9219 37.5938 65.9219\n",
       "Q27.8281 65.9219 22.6719 59.3281\n",
       "Q17.5312 52.7344 16.7969 39.4062\n",
       "Q19.6719 43.6562 24.0156 45.9219\n",
       "Q28.375 48.1875 33.5938 48.1875\n",
       "Q44.5781 48.1875 50.9531 41.5156\n",
       "Q57.3281 34.8594 57.3281 23.3906\n",
       "Q57.3281 12.1562 50.6875 5.35938\n",
       "Q44.0469 -1.42188 33.0156 -1.42188\n",
       "Q20.3594 -1.42188 13.6719 8.26562\n",
       "Q6.98438 17.9688 6.98438 36.375\n",
       "Q6.98438 53.6562 15.1875 63.9375\n",
       "Q23.3906 74.2188 37.2031 74.2188\n",
       "Q40.9219 74.2188 44.7031 73.4844\n",
       "Q48.4844 72.75 52.5938 71.2969\" id=\"BitstreamVeraSans-Roman-36\"/>\n",
       "      </defs>\n",
       "      <g transform=\"translate(582.640625003 468.80390625)scale(0.1 -0.1)\">\n",
       "       <use xlink:href=\"#BitstreamVeraSans-Roman-31\"/>\n",
       "       <use x=\"63.623046875\" xlink:href=\"#BitstreamVeraSans-Roman-36\"/>\n",
       "       <use x=\"127.24609375\" xlink:href=\"#BitstreamVeraSans-Roman-3a\"/>\n",
       "       <use x=\"160.9375\" xlink:href=\"#BitstreamVeraSans-Roman-30\"/>\n",
       "       <use x=\"224.560546875\" xlink:href=\"#BitstreamVeraSans-Roman-30\"/>\n",
       "      </g>\n",
       "     </g>\n",
       "    </g>\n",
       "    <g id=\"xtick_3\">\n",
       "     <g id=\"line2d_8\">\n",
       "      <defs>\n",
       "       <path d=\"\n",
       "M0 0\n",
       "L0 -2\" id=\"m7455f29b5b\"/>\n",
       "      </defs>\n",
       "      <g>\n",
       "       <use style=\"stroke:#000000;stroke-linecap:butt;stroke-width:0.5;\" x=\"38.168750003\" xlink:href=\"#m7455f29b5b\" y=\"457.38203125\"/>\n",
       "      </g>\n",
       "     </g>\n",
       "     <g id=\"line2d_9\">\n",
       "      <defs>\n",
       "       <path d=\"\n",
       "M0 0\n",
       "L0 2\" id=\"m4204cc0ca2\"/>\n",
       "      </defs>\n",
       "      <g>\n",
       "       <use style=\"stroke:#000000;stroke-linecap:butt;stroke-width:0.5;\" x=\"38.168750003\" xlink:href=\"#m4204cc0ca2\" y=\"10.98203125\"/>\n",
       "      </g>\n",
       "     </g>\n",
       "    </g>\n",
       "    <g id=\"xtick_4\">\n",
       "     <g id=\"line2d_10\">\n",
       "      <defs>\n",
       "       <path d=\"\n",
       "M0 0\n",
       "L0 -2\" id=\"m7455f29b5b\"/>\n",
       "      </defs>\n",
       "      <g>\n",
       "       <use style=\"stroke:#000000;stroke-linecap:butt;stroke-width:0.5;\" x=\"131.168750003\" xlink:href=\"#m7455f29b5b\" y=\"457.38203125\"/>\n",
       "      </g>\n",
       "     </g>\n",
       "     <g id=\"line2d_11\">\n",
       "      <defs>\n",
       "       <path d=\"\n",
       "M0 0\n",
       "L0 2\" id=\"m4204cc0ca2\"/>\n",
       "      </defs>\n",
       "      <g>\n",
       "       <use style=\"stroke:#000000;stroke-linecap:butt;stroke-width:0.5;\" x=\"131.168750003\" xlink:href=\"#m4204cc0ca2\" y=\"10.98203125\"/>\n",
       "      </g>\n",
       "     </g>\n",
       "     <g id=\"text_3\">\n",
       "      <!-- 11:00 -->\n",
       "      <g transform=\"translate(117.640625003 468.80390625)scale(0.1 -0.1)\">\n",
       "       <use xlink:href=\"#BitstreamVeraSans-Roman-31\"/>\n",
       "       <use x=\"63.623046875\" xlink:href=\"#BitstreamVeraSans-Roman-31\"/>\n",
       "       <use x=\"127.24609375\" xlink:href=\"#BitstreamVeraSans-Roman-3a\"/>\n",
       "       <use x=\"160.9375\" xlink:href=\"#BitstreamVeraSans-Roman-30\"/>\n",
       "       <use x=\"224.560546875\" xlink:href=\"#BitstreamVeraSans-Roman-30\"/>\n",
       "      </g>\n",
       "     </g>\n",
       "    </g>\n",
       "    <g id=\"xtick_5\">\n",
       "     <g id=\"line2d_12\">\n",
       "      <defs>\n",
       "       <path d=\"\n",
       "M0 0\n",
       "L0 -2\" id=\"m7455f29b5b\"/>\n",
       "      </defs>\n",
       "      <g>\n",
       "       <use style=\"stroke:#000000;stroke-linecap:butt;stroke-width:0.5;\" x=\"224.168750003\" xlink:href=\"#m7455f29b5b\" y=\"457.38203125\"/>\n",
       "      </g>\n",
       "     </g>\n",
       "     <g id=\"line2d_13\">\n",
       "      <defs>\n",
       "       <path d=\"\n",
       "M0 0\n",
       "L0 2\" id=\"m4204cc0ca2\"/>\n",
       "      </defs>\n",
       "      <g>\n",
       "       <use style=\"stroke:#000000;stroke-linecap:butt;stroke-width:0.5;\" x=\"224.168750003\" xlink:href=\"#m4204cc0ca2\" y=\"10.98203125\"/>\n",
       "      </g>\n",
       "     </g>\n",
       "     <g id=\"text_4\">\n",
       "      <!-- 12:00 -->\n",
       "      <defs>\n",
       "       <path d=\"\n",
       "M19.1875 8.29688\n",
       "L53.6094 8.29688\n",
       "L53.6094 0\n",
       "L7.32812 0\n",
       "L7.32812 8.29688\n",
       "Q12.9375 14.1094 22.625 23.8906\n",
       "Q32.3281 33.6875 34.8125 36.5312\n",
       "Q39.5469 41.8438 41.4219 45.5312\n",
       "Q43.3125 49.2188 43.3125 52.7812\n",
       "Q43.3125 58.5938 39.2344 62.25\n",
       "Q35.1562 65.9219 28.6094 65.9219\n",
       "Q23.9688 65.9219 18.8125 64.3125\n",
       "Q13.6719 62.7031 7.8125 59.4219\n",
       "L7.8125 69.3906\n",
       "Q13.7656 71.7812 18.9375 73\n",
       "Q24.125 74.2188 28.4219 74.2188\n",
       "Q39.75 74.2188 46.4844 68.5469\n",
       "Q53.2188 62.8906 53.2188 53.4219\n",
       "Q53.2188 48.9219 51.5312 44.8906\n",
       "Q49.8594 40.875 45.4062 35.4062\n",
       "Q44.1875 33.9844 37.6406 27.2188\n",
       "Q31.1094 20.4531 19.1875 8.29688\" id=\"BitstreamVeraSans-Roman-32\"/>\n",
       "      </defs>\n",
       "      <g transform=\"translate(210.640625003 468.80390625)scale(0.1 -0.1)\">\n",
       "       <use xlink:href=\"#BitstreamVeraSans-Roman-31\"/>\n",
       "       <use x=\"63.623046875\" xlink:href=\"#BitstreamVeraSans-Roman-32\"/>\n",
       "       <use x=\"127.24609375\" xlink:href=\"#BitstreamVeraSans-Roman-3a\"/>\n",
       "       <use x=\"160.9375\" xlink:href=\"#BitstreamVeraSans-Roman-30\"/>\n",
       "       <use x=\"224.560546875\" xlink:href=\"#BitstreamVeraSans-Roman-30\"/>\n",
       "      </g>\n",
       "     </g>\n",
       "    </g>\n",
       "    <g id=\"xtick_6\">\n",
       "     <g id=\"line2d_14\">\n",
       "      <defs>\n",
       "       <path d=\"\n",
       "M0 0\n",
       "L0 -2\" id=\"m7455f29b5b\"/>\n",
       "      </defs>\n",
       "      <g>\n",
       "       <use style=\"stroke:#000000;stroke-linecap:butt;stroke-width:0.5;\" x=\"317.168750003\" xlink:href=\"#m7455f29b5b\" y=\"457.38203125\"/>\n",
       "      </g>\n",
       "     </g>\n",
       "     <g id=\"line2d_15\">\n",
       "      <defs>\n",
       "       <path d=\"\n",
       "M0 0\n",
       "L0 2\" id=\"m4204cc0ca2\"/>\n",
       "      </defs>\n",
       "      <g>\n",
       "       <use style=\"stroke:#000000;stroke-linecap:butt;stroke-width:0.5;\" x=\"317.168750003\" xlink:href=\"#m4204cc0ca2\" y=\"10.98203125\"/>\n",
       "      </g>\n",
       "     </g>\n",
       "     <g id=\"text_5\">\n",
       "      <!-- 13:00 -->\n",
       "      <defs>\n",
       "       <path d=\"\n",
       "M40.5781 39.3125\n",
       "Q47.6562 37.7969 51.625 33\n",
       "Q55.6094 28.2188 55.6094 21.1875\n",
       "Q55.6094 10.4062 48.1875 4.48438\n",
       "Q40.7656 -1.42188 27.0938 -1.42188\n",
       "Q22.5156 -1.42188 17.6562 -0.515625\n",
       "Q12.7969 0.390625 7.625 2.20312\n",
       "L7.625 11.7188\n",
       "Q11.7188 9.32812 16.5938 8.10938\n",
       "Q21.4844 6.89062 26.8125 6.89062\n",
       "Q36.0781 6.89062 40.9375 10.5469\n",
       "Q45.7969 14.2031 45.7969 21.1875\n",
       "Q45.7969 27.6406 41.2812 31.2656\n",
       "Q36.7656 34.9062 28.7188 34.9062\n",
       "L20.2188 34.9062\n",
       "L20.2188 43.0156\n",
       "L29.1094 43.0156\n",
       "Q36.375 43.0156 40.2344 45.9219\n",
       "Q44.0938 48.8281 44.0938 54.2969\n",
       "Q44.0938 59.9062 40.1094 62.9062\n",
       "Q36.1406 65.9219 28.7188 65.9219\n",
       "Q24.6562 65.9219 20.0156 65.0312\n",
       "Q15.375 64.1562 9.8125 62.3125\n",
       "L9.8125 71.0938\n",
       "Q15.4375 72.6562 20.3438 73.4375\n",
       "Q25.25 74.2188 29.5938 74.2188\n",
       "Q40.8281 74.2188 47.3594 69.1094\n",
       "Q53.9062 64.0156 53.9062 55.3281\n",
       "Q53.9062 49.2656 50.4375 45.0938\n",
       "Q46.9688 40.9219 40.5781 39.3125\" id=\"BitstreamVeraSans-Roman-33\"/>\n",
       "      </defs>\n",
       "      <g transform=\"translate(303.640625003 468.80390625)scale(0.1 -0.1)\">\n",
       "       <use xlink:href=\"#BitstreamVeraSans-Roman-31\"/>\n",
       "       <use x=\"63.623046875\" xlink:href=\"#BitstreamVeraSans-Roman-33\"/>\n",
       "       <use x=\"127.24609375\" xlink:href=\"#BitstreamVeraSans-Roman-3a\"/>\n",
       "       <use x=\"160.9375\" xlink:href=\"#BitstreamVeraSans-Roman-30\"/>\n",
       "       <use x=\"224.560546875\" xlink:href=\"#BitstreamVeraSans-Roman-30\"/>\n",
       "      </g>\n",
       "     </g>\n",
       "    </g>\n",
       "    <g id=\"xtick_7\">\n",
       "     <g id=\"line2d_16\">\n",
       "      <defs>\n",
       "       <path d=\"\n",
       "M0 0\n",
       "L0 -2\" id=\"m7455f29b5b\"/>\n",
       "      </defs>\n",
       "      <g>\n",
       "       <use style=\"stroke:#000000;stroke-linecap:butt;stroke-width:0.5;\" x=\"410.168750003\" xlink:href=\"#m7455f29b5b\" y=\"457.38203125\"/>\n",
       "      </g>\n",
       "     </g>\n",
       "     <g id=\"line2d_17\">\n",
       "      <defs>\n",
       "       <path d=\"\n",
       "M0 0\n",
       "L0 2\" id=\"m4204cc0ca2\"/>\n",
       "      </defs>\n",
       "      <g>\n",
       "       <use style=\"stroke:#000000;stroke-linecap:butt;stroke-width:0.5;\" x=\"410.168750003\" xlink:href=\"#m4204cc0ca2\" y=\"10.98203125\"/>\n",
       "      </g>\n",
       "     </g>\n",
       "     <g id=\"text_6\">\n",
       "      <!-- 14:00 -->\n",
       "      <defs>\n",
       "       <path d=\"\n",
       "M37.7969 64.3125\n",
       "L12.8906 25.3906\n",
       "L37.7969 25.3906\n",
       "z\n",
       "\n",
       "M35.2031 72.9062\n",
       "L47.6094 72.9062\n",
       "L47.6094 25.3906\n",
       "L58.0156 25.3906\n",
       "L58.0156 17.1875\n",
       "L47.6094 17.1875\n",
       "L47.6094 0\n",
       "L37.7969 0\n",
       "L37.7969 17.1875\n",
       "L4.89062 17.1875\n",
       "L4.89062 26.7031\n",
       "z\n",
       "\" id=\"BitstreamVeraSans-Roman-34\"/>\n",
       "      </defs>\n",
       "      <g transform=\"translate(396.640625003 468.80390625)scale(0.1 -0.1)\">\n",
       "       <use xlink:href=\"#BitstreamVeraSans-Roman-31\"/>\n",
       "       <use x=\"63.623046875\" xlink:href=\"#BitstreamVeraSans-Roman-34\"/>\n",
       "       <use x=\"127.24609375\" xlink:href=\"#BitstreamVeraSans-Roman-3a\"/>\n",
       "       <use x=\"160.9375\" xlink:href=\"#BitstreamVeraSans-Roman-30\"/>\n",
       "       <use x=\"224.560546875\" xlink:href=\"#BitstreamVeraSans-Roman-30\"/>\n",
       "      </g>\n",
       "     </g>\n",
       "    </g>\n",
       "    <g id=\"xtick_8\">\n",
       "     <g id=\"line2d_18\">\n",
       "      <defs>\n",
       "       <path d=\"\n",
       "M0 0\n",
       "L0 -2\" id=\"m7455f29b5b\"/>\n",
       "      </defs>\n",
       "      <g>\n",
       "       <use style=\"stroke:#000000;stroke-linecap:butt;stroke-width:0.5;\" x=\"503.168750003\" xlink:href=\"#m7455f29b5b\" y=\"457.38203125\"/>\n",
       "      </g>\n",
       "     </g>\n",
       "     <g id=\"line2d_19\">\n",
       "      <defs>\n",
       "       <path d=\"\n",
       "M0 0\n",
       "L0 2\" id=\"m4204cc0ca2\"/>\n",
       "      </defs>\n",
       "      <g>\n",
       "       <use style=\"stroke:#000000;stroke-linecap:butt;stroke-width:0.5;\" x=\"503.168750003\" xlink:href=\"#m4204cc0ca2\" y=\"10.98203125\"/>\n",
       "      </g>\n",
       "     </g>\n",
       "     <g id=\"text_7\">\n",
       "      <!-- 15:00 -->\n",
       "      <defs>\n",
       "       <path d=\"\n",
       "M10.7969 72.9062\n",
       "L49.5156 72.9062\n",
       "L49.5156 64.5938\n",
       "L19.8281 64.5938\n",
       "L19.8281 46.7344\n",
       "Q21.9688 47.4688 24.1094 47.8281\n",
       "Q26.2656 48.1875 28.4219 48.1875\n",
       "Q40.625 48.1875 47.75 41.5\n",
       "Q54.8906 34.8125 54.8906 23.3906\n",
       "Q54.8906 11.625 47.5625 5.09375\n",
       "Q40.2344 -1.42188 26.9062 -1.42188\n",
       "Q22.3125 -1.42188 17.5469 -0.640625\n",
       "Q12.7969 0.140625 7.71875 1.70312\n",
       "L7.71875 11.625\n",
       "Q12.1094 9.23438 16.7969 8.0625\n",
       "Q21.4844 6.89062 26.7031 6.89062\n",
       "Q35.1562 6.89062 40.0781 11.3281\n",
       "Q45.0156 15.7656 45.0156 23.3906\n",
       "Q45.0156 31 40.0781 35.4375\n",
       "Q35.1562 39.8906 26.7031 39.8906\n",
       "Q22.75 39.8906 18.8125 39.0156\n",
       "Q14.8906 38.1406 10.7969 36.2812\n",
       "z\n",
       "\" id=\"BitstreamVeraSans-Roman-35\"/>\n",
       "      </defs>\n",
       "      <g transform=\"translate(489.640625003 468.80390625)scale(0.1 -0.1)\">\n",
       "       <use xlink:href=\"#BitstreamVeraSans-Roman-31\"/>\n",
       "       <use x=\"63.623046875\" xlink:href=\"#BitstreamVeraSans-Roman-35\"/>\n",
       "       <use x=\"127.24609375\" xlink:href=\"#BitstreamVeraSans-Roman-3a\"/>\n",
       "       <use x=\"160.9375\" xlink:href=\"#BitstreamVeraSans-Roman-30\"/>\n",
       "       <use x=\"224.560546875\" xlink:href=\"#BitstreamVeraSans-Roman-30\"/>\n",
       "      </g>\n",
       "     </g>\n",
       "    </g>\n",
       "    <g id=\"xtick_9\">\n",
       "     <g id=\"line2d_20\">\n",
       "      <defs>\n",
       "       <path d=\"\n",
       "M0 0\n",
       "L0 -2\" id=\"m7455f29b5b\"/>\n",
       "      </defs>\n",
       "      <g>\n",
       "       <use style=\"stroke:#000000;stroke-linecap:butt;stroke-width:0.5;\" x=\"596.168750003\" xlink:href=\"#m7455f29b5b\" y=\"457.38203125\"/>\n",
       "      </g>\n",
       "     </g>\n",
       "     <g id=\"line2d_21\">\n",
       "      <defs>\n",
       "       <path d=\"\n",
       "M0 0\n",
       "L0 2\" id=\"m4204cc0ca2\"/>\n",
       "      </defs>\n",
       "      <g>\n",
       "       <use style=\"stroke:#000000;stroke-linecap:butt;stroke-width:0.5;\" x=\"596.168750003\" xlink:href=\"#m4204cc0ca2\" y=\"10.98203125\"/>\n",
       "      </g>\n",
       "     </g>\n",
       "    </g>\n",
       "    <g id=\"text_8\">\n",
       "     <!-- Timestamp -->\n",
       "     <defs>\n",
       "      <path d=\"\n",
       "M52 44.1875\n",
       "Q55.375 50.25 60.0625 53.125\n",
       "Q64.75 56 71.0938 56\n",
       "Q79.6406 56 84.2812 50.0156\n",
       "Q88.9219 44.0469 88.9219 33.0156\n",
       "L88.9219 0\n",
       "L79.8906 0\n",
       "L79.8906 32.7188\n",
       "Q79.8906 40.5781 77.0938 44.375\n",
       "Q74.3125 48.1875 68.6094 48.1875\n",
       "Q61.625 48.1875 57.5625 43.5469\n",
       "Q53.5156 38.9219 53.5156 30.9062\n",
       "L53.5156 0\n",
       "L44.4844 0\n",
       "L44.4844 32.7188\n",
       "Q44.4844 40.625 41.7031 44.4062\n",
       "Q38.9219 48.1875 33.1094 48.1875\n",
       "Q26.2188 48.1875 22.1562 43.5312\n",
       "Q18.1094 38.875 18.1094 30.9062\n",
       "L18.1094 0\n",
       "L9.07812 0\n",
       "L9.07812 54.6875\n",
       "L18.1094 54.6875\n",
       "L18.1094 46.1875\n",
       "Q21.1875 51.2188 25.4844 53.6094\n",
       "Q29.7812 56 35.6875 56\n",
       "Q41.6562 56 45.8281 52.9688\n",
       "Q50 49.9531 52 44.1875\" id=\"BitstreamVeraSans-Roman-6d\"/>\n",
       "      <path d=\"\n",
       "M9.42188 54.6875\n",
       "L18.4062 54.6875\n",
       "L18.4062 0\n",
       "L9.42188 0\n",
       "z\n",
       "\n",
       "M9.42188 75.9844\n",
       "L18.4062 75.9844\n",
       "L18.4062 64.5938\n",
       "L9.42188 64.5938\n",
       "z\n",
       "\" id=\"BitstreamVeraSans-Roman-69\"/>\n",
       "      <path d=\"\n",
       "M56.2031 29.5938\n",
       "L56.2031 25.2031\n",
       "L14.8906 25.2031\n",
       "Q15.4844 15.9219 20.4844 11.0625\n",
       "Q25.4844 6.20312 34.4219 6.20312\n",
       "Q39.5938 6.20312 44.4531 7.46875\n",
       "Q49.3125 8.73438 54.1094 11.2812\n",
       "L54.1094 2.78125\n",
       "Q49.2656 0.734375 44.1875 -0.34375\n",
       "Q39.1094 -1.42188 33.8906 -1.42188\n",
       "Q20.7969 -1.42188 13.1562 6.1875\n",
       "Q5.51562 13.8125 5.51562 26.8125\n",
       "Q5.51562 40.2344 12.7656 48.1094\n",
       "Q20.0156 56 32.3281 56\n",
       "Q43.3594 56 49.7812 48.8906\n",
       "Q56.2031 41.7969 56.2031 29.5938\n",
       "M47.2188 32.2344\n",
       "Q47.125 39.5938 43.0938 43.9844\n",
       "Q39.0625 48.3906 32.4219 48.3906\n",
       "Q24.9062 48.3906 20.3906 44.1406\n",
       "Q15.875 39.8906 15.1875 32.1719\n",
       "z\n",
       "\" id=\"BitstreamVeraSans-Roman-65\"/>\n",
       "      <path d=\"\n",
       "M-0.296875 72.9062\n",
       "L61.375 72.9062\n",
       "L61.375 64.5938\n",
       "L35.5 64.5938\n",
       "L35.5 0\n",
       "L25.5938 0\n",
       "L25.5938 64.5938\n",
       "L-0.296875 64.5938\n",
       "z\n",
       "\" id=\"BitstreamVeraSans-Roman-54\"/>\n",
       "      <path d=\"\n",
       "M18.3125 70.2188\n",
       "L18.3125 54.6875\n",
       "L36.8125 54.6875\n",
       "L36.8125 47.7031\n",
       "L18.3125 47.7031\n",
       "L18.3125 18.0156\n",
       "Q18.3125 11.3281 20.1406 9.42188\n",
       "Q21.9688 7.51562 27.5938 7.51562\n",
       "L36.8125 7.51562\n",
       "L36.8125 0\n",
       "L27.5938 0\n",
       "Q17.1875 0 13.2344 3.875\n",
       "Q9.28125 7.76562 9.28125 18.0156\n",
       "L9.28125 47.7031\n",
       "L2.6875 47.7031\n",
       "L2.6875 54.6875\n",
       "L9.28125 54.6875\n",
       "L9.28125 70.2188\n",
       "z\n",
       "\" id=\"BitstreamVeraSans-Roman-74\"/>\n",
       "      <path d=\"\n",
       "M34.2812 27.4844\n",
       "Q23.3906 27.4844 19.1875 25\n",
       "Q14.9844 22.5156 14.9844 16.5\n",
       "Q14.9844 11.7188 18.1406 8.90625\n",
       "Q21.2969 6.10938 26.7031 6.10938\n",
       "Q34.1875 6.10938 38.7031 11.4062\n",
       "Q43.2188 16.7031 43.2188 25.4844\n",
       "L43.2188 27.4844\n",
       "z\n",
       "\n",
       "M52.2031 31.2031\n",
       "L52.2031 0\n",
       "L43.2188 0\n",
       "L43.2188 8.29688\n",
       "Q40.1406 3.32812 35.5469 0.953125\n",
       "Q30.9531 -1.42188 24.3125 -1.42188\n",
       "Q15.9219 -1.42188 10.9531 3.29688\n",
       "Q6 8.01562 6 15.9219\n",
       "Q6 25.1406 12.1719 29.8281\n",
       "Q18.3594 34.5156 30.6094 34.5156\n",
       "L43.2188 34.5156\n",
       "L43.2188 35.4062\n",
       "Q43.2188 41.6094 39.1406 45\n",
       "Q35.0625 48.3906 27.6875 48.3906\n",
       "Q23 48.3906 18.5469 47.2656\n",
       "Q14.1094 46.1406 10.0156 43.8906\n",
       "L10.0156 52.2031\n",
       "Q14.9375 54.1094 19.5781 55.0469\n",
       "Q24.2188 56 28.6094 56\n",
       "Q40.4844 56 46.3438 49.8438\n",
       "Q52.2031 43.7031 52.2031 31.2031\" id=\"BitstreamVeraSans-Roman-61\"/>\n",
       "      <path d=\"\n",
       "M44.2812 53.0781\n",
       "L44.2812 44.5781\n",
       "Q40.4844 46.5312 36.375 47.5\n",
       "Q32.2812 48.4844 27.875 48.4844\n",
       "Q21.1875 48.4844 17.8438 46.4375\n",
       "Q14.5 44.3906 14.5 40.2812\n",
       "Q14.5 37.1562 16.8906 35.375\n",
       "Q19.2812 33.5938 26.5156 31.9844\n",
       "L29.5938 31.2969\n",
       "Q39.1562 29.25 43.1875 25.5156\n",
       "Q47.2188 21.7812 47.2188 15.0938\n",
       "Q47.2188 7.46875 41.1875 3.01562\n",
       "Q35.1562 -1.42188 24.6094 -1.42188\n",
       "Q20.2188 -1.42188 15.4531 -0.5625\n",
       "Q10.6875 0.296875 5.42188 2\n",
       "L5.42188 11.2812\n",
       "Q10.4062 8.6875 15.2344 7.39062\n",
       "Q20.0625 6.10938 24.8125 6.10938\n",
       "Q31.1562 6.10938 34.5625 8.28125\n",
       "Q37.9844 10.4531 37.9844 14.4062\n",
       "Q37.9844 18.0625 35.5156 20.0156\n",
       "Q33.0625 21.9688 24.7031 23.7812\n",
       "L21.5781 24.5156\n",
       "Q13.2344 26.2656 9.51562 29.9062\n",
       "Q5.8125 33.5469 5.8125 39.8906\n",
       "Q5.8125 47.6094 11.2812 51.7969\n",
       "Q16.75 56 26.8125 56\n",
       "Q31.7812 56 36.1719 55.2656\n",
       "Q40.5781 54.5469 44.2812 53.0781\" id=\"BitstreamVeraSans-Roman-73\"/>\n",
       "      <path d=\"\n",
       "M18.1094 8.20312\n",
       "L18.1094 -20.7969\n",
       "L9.07812 -20.7969\n",
       "L9.07812 54.6875\n",
       "L18.1094 54.6875\n",
       "L18.1094 46.3906\n",
       "Q20.9531 51.2656 25.2656 53.625\n",
       "Q29.5938 56 35.5938 56\n",
       "Q45.5625 56 51.7812 48.0938\n",
       "Q58.0156 40.1875 58.0156 27.2969\n",
       "Q58.0156 14.4062 51.7812 6.48438\n",
       "Q45.5625 -1.42188 35.5938 -1.42188\n",
       "Q29.5938 -1.42188 25.2656 0.953125\n",
       "Q20.9531 3.32812 18.1094 8.20312\n",
       "M48.6875 27.2969\n",
       "Q48.6875 37.2031 44.6094 42.8438\n",
       "Q40.5312 48.4844 33.4062 48.4844\n",
       "Q26.2656 48.4844 22.1875 42.8438\n",
       "Q18.1094 37.2031 18.1094 27.2969\n",
       "Q18.1094 17.3906 22.1875 11.75\n",
       "Q26.2656 6.10938 33.4062 6.10938\n",
       "Q40.5312 6.10938 44.6094 11.75\n",
       "Q48.6875 17.3906 48.6875 27.2969\" id=\"BitstreamVeraSans-Roman-70\"/>\n",
       "     </defs>\n",
       "     <g transform=\"translate(289.5203125 481.54453125)scale(0.1 -0.1)\">\n",
       "      <use xlink:href=\"#BitstreamVeraSans-Roman-54\"/>\n",
       "      <use x=\"57.958984375\" xlink:href=\"#BitstreamVeraSans-Roman-69\"/>\n",
       "      <use x=\"85.7421875\" xlink:href=\"#BitstreamVeraSans-Roman-6d\"/>\n",
       "      <use x=\"183.154296875\" xlink:href=\"#BitstreamVeraSans-Roman-65\"/>\n",
       "      <use x=\"244.677734375\" xlink:href=\"#BitstreamVeraSans-Roman-73\"/>\n",
       "      <use x=\"296.77734375\" xlink:href=\"#BitstreamVeraSans-Roman-74\"/>\n",
       "      <use x=\"335.986328125\" xlink:href=\"#BitstreamVeraSans-Roman-61\"/>\n",
       "      <use x=\"397.265625\" xlink:href=\"#BitstreamVeraSans-Roman-6d\"/>\n",
       "      <use x=\"494.677734375\" xlink:href=\"#BitstreamVeraSans-Roman-70\"/>\n",
       "     </g>\n",
       "    </g>\n",
       "   </g>\n",
       "   <g id=\"matplotlib.axis_2\">\n",
       "    <g id=\"ytick_1\">\n",
       "     <g id=\"line2d_22\">\n",
       "      <path clip-path=\"url(#pc9e4b33faf)\" d=\"\n",
       "M38.1688 412.742\n",
       "L596.169 412.742\" style=\"fill:none;stroke:#000000;stroke-dasharray:1.000000,3.000000;stroke-dashoffset:0.0;stroke-linecap:butt;stroke-width:0.5;\"/>\n",
       "     </g>\n",
       "     <g id=\"line2d_23\">\n",
       "      <defs>\n",
       "       <path d=\"\n",
       "M0 0\n",
       "L4 0\" id=\"mf3cb6a75f1\"/>\n",
       "      </defs>\n",
       "      <g>\n",
       "       <use style=\"stroke:#000000;stroke-linecap:butt;stroke-width:0.5;\" x=\"38.16875\" xlink:href=\"#mf3cb6a75f1\" y=\"412.74203125\"/>\n",
       "      </g>\n",
       "     </g>\n",
       "     <g id=\"text_9\">\n",
       "      <!-- 103.6 -->\n",
       "      <defs>\n",
       "       <path d=\"\n",
       "M10.6875 12.4062\n",
       "L21 12.4062\n",
       "L21 0\n",
       "L10.6875 0\n",
       "z\n",
       "\" id=\"BitstreamVeraSans-Roman-2e\"/>\n",
       "      </defs>\n",
       "      <g transform=\"translate(7.26875 416.381875)scale(0.1 -0.1)\">\n",
       "       <use xlink:href=\"#BitstreamVeraSans-Roman-31\"/>\n",
       "       <use x=\"63.623046875\" xlink:href=\"#BitstreamVeraSans-Roman-30\"/>\n",
       "       <use x=\"127.24609375\" xlink:href=\"#BitstreamVeraSans-Roman-33\"/>\n",
       "       <use x=\"190.869140625\" xlink:href=\"#BitstreamVeraSans-Roman-2e\"/>\n",
       "       <use x=\"222.65625\" xlink:href=\"#BitstreamVeraSans-Roman-36\"/>\n",
       "      </g>\n",
       "     </g>\n",
       "    </g>\n",
       "    <g id=\"ytick_2\">\n",
       "     <g id=\"line2d_24\">\n",
       "      <path clip-path=\"url(#pc9e4b33faf)\" d=\"\n",
       "M38.1688 323.462\n",
       "L596.169 323.462\" style=\"fill:none;stroke:#000000;stroke-dasharray:1.000000,3.000000;stroke-dashoffset:0.0;stroke-linecap:butt;stroke-width:0.5;\"/>\n",
       "     </g>\n",
       "     <g id=\"line2d_25\">\n",
       "      <defs>\n",
       "       <path d=\"\n",
       "M0 0\n",
       "L4 0\" id=\"mf3cb6a75f1\"/>\n",
       "      </defs>\n",
       "      <g>\n",
       "       <use style=\"stroke:#000000;stroke-linecap:butt;stroke-width:0.5;\" x=\"38.16875\" xlink:href=\"#mf3cb6a75f1\" y=\"323.46203125\"/>\n",
       "      </g>\n",
       "     </g>\n",
       "     <g id=\"text_10\">\n",
       "      <!-- 103.8 -->\n",
       "      <defs>\n",
       "       <path d=\"\n",
       "M31.7812 34.625\n",
       "Q24.75 34.625 20.7188 30.8594\n",
       "Q16.7031 27.0938 16.7031 20.5156\n",
       "Q16.7031 13.9219 20.7188 10.1562\n",
       "Q24.75 6.39062 31.7812 6.39062\n",
       "Q38.8125 6.39062 42.8594 10.1719\n",
       "Q46.9219 13.9688 46.9219 20.5156\n",
       "Q46.9219 27.0938 42.8906 30.8594\n",
       "Q38.875 34.625 31.7812 34.625\n",
       "M21.9219 38.8125\n",
       "Q15.5781 40.375 12.0312 44.7188\n",
       "Q8.5 49.0781 8.5 55.3281\n",
       "Q8.5 64.0625 14.7188 69.1406\n",
       "Q20.9531 74.2188 31.7812 74.2188\n",
       "Q42.6719 74.2188 48.875 69.1406\n",
       "Q55.0781 64.0625 55.0781 55.3281\n",
       "Q55.0781 49.0781 51.5312 44.7188\n",
       "Q48 40.375 41.7031 38.8125\n",
       "Q48.8281 37.1562 52.7969 32.3125\n",
       "Q56.7812 27.4844 56.7812 20.5156\n",
       "Q56.7812 9.90625 50.3125 4.23438\n",
       "Q43.8438 -1.42188 31.7812 -1.42188\n",
       "Q19.7344 -1.42188 13.25 4.23438\n",
       "Q6.78125 9.90625 6.78125 20.5156\n",
       "Q6.78125 27.4844 10.7812 32.3125\n",
       "Q14.7969 37.1562 21.9219 38.8125\n",
       "M18.3125 54.3906\n",
       "Q18.3125 48.7344 21.8438 45.5625\n",
       "Q25.3906 42.3906 31.7812 42.3906\n",
       "Q38.1406 42.3906 41.7188 45.5625\n",
       "Q45.3125 48.7344 45.3125 54.3906\n",
       "Q45.3125 60.0625 41.7188 63.2344\n",
       "Q38.1406 66.4062 31.7812 66.4062\n",
       "Q25.3906 66.4062 21.8438 63.2344\n",
       "Q18.3125 60.0625 18.3125 54.3906\" id=\"BitstreamVeraSans-Roman-38\"/>\n",
       "      </defs>\n",
       "      <g transform=\"translate(7.3234375 327.101875)scale(0.1 -0.1)\">\n",
       "       <use xlink:href=\"#BitstreamVeraSans-Roman-31\"/>\n",
       "       <use x=\"63.623046875\" xlink:href=\"#BitstreamVeraSans-Roman-30\"/>\n",
       "       <use x=\"127.24609375\" xlink:href=\"#BitstreamVeraSans-Roman-33\"/>\n",
       "       <use x=\"190.869140625\" xlink:href=\"#BitstreamVeraSans-Roman-2e\"/>\n",
       "       <use x=\"222.65625\" xlink:href=\"#BitstreamVeraSans-Roman-38\"/>\n",
       "      </g>\n",
       "     </g>\n",
       "    </g>\n",
       "    <g id=\"ytick_3\">\n",
       "     <g id=\"line2d_26\">\n",
       "      <path clip-path=\"url(#pc9e4b33faf)\" d=\"\n",
       "M38.1688 234.182\n",
       "L596.169 234.182\" style=\"fill:none;stroke:#000000;stroke-dasharray:1.000000,3.000000;stroke-dashoffset:0.0;stroke-linecap:butt;stroke-width:0.5;\"/>\n",
       "     </g>\n",
       "     <g id=\"line2d_27\">\n",
       "      <defs>\n",
       "       <path d=\"\n",
       "M0 0\n",
       "L4 0\" id=\"mf3cb6a75f1\"/>\n",
       "      </defs>\n",
       "      <g>\n",
       "       <use style=\"stroke:#000000;stroke-linecap:butt;stroke-width:0.5;\" x=\"38.16875\" xlink:href=\"#mf3cb6a75f1\" y=\"234.18203125\"/>\n",
       "      </g>\n",
       "     </g>\n",
       "     <g id=\"text_11\">\n",
       "      <!-- 104.0 -->\n",
       "      <g transform=\"translate(7.303125 237.821875)scale(0.1 -0.1)\">\n",
       "       <use xlink:href=\"#BitstreamVeraSans-Roman-31\"/>\n",
       "       <use x=\"63.623046875\" xlink:href=\"#BitstreamVeraSans-Roman-30\"/>\n",
       "       <use x=\"127.24609375\" xlink:href=\"#BitstreamVeraSans-Roman-34\"/>\n",
       "       <use x=\"190.869140625\" xlink:href=\"#BitstreamVeraSans-Roman-2e\"/>\n",
       "       <use x=\"222.65625\" xlink:href=\"#BitstreamVeraSans-Roman-30\"/>\n",
       "      </g>\n",
       "     </g>\n",
       "    </g>\n",
       "    <g id=\"ytick_4\">\n",
       "     <g id=\"line2d_28\">\n",
       "      <path clip-path=\"url(#pc9e4b33faf)\" d=\"\n",
       "M38.1688 144.902\n",
       "L596.169 144.902\" style=\"fill:none;stroke:#000000;stroke-dasharray:1.000000,3.000000;stroke-dashoffset:0.0;stroke-linecap:butt;stroke-width:0.5;\"/>\n",
       "     </g>\n",
       "     <g id=\"line2d_29\">\n",
       "      <defs>\n",
       "       <path d=\"\n",
       "M0 0\n",
       "L4 0\" id=\"mf3cb6a75f1\"/>\n",
       "      </defs>\n",
       "      <g>\n",
       "       <use style=\"stroke:#000000;stroke-linecap:butt;stroke-width:0.5;\" x=\"38.16875\" xlink:href=\"#mf3cb6a75f1\" y=\"144.90203125\"/>\n",
       "      </g>\n",
       "     </g>\n",
       "     <g id=\"text_12\">\n",
       "      <!-- 104.2 -->\n",
       "      <g transform=\"translate(7.640625 148.541875)scale(0.1 -0.1)\">\n",
       "       <use xlink:href=\"#BitstreamVeraSans-Roman-31\"/>\n",
       "       <use x=\"63.623046875\" xlink:href=\"#BitstreamVeraSans-Roman-30\"/>\n",
       "       <use x=\"127.24609375\" xlink:href=\"#BitstreamVeraSans-Roman-34\"/>\n",
       "       <use x=\"190.869140625\" xlink:href=\"#BitstreamVeraSans-Roman-2e\"/>\n",
       "       <use x=\"222.65625\" xlink:href=\"#BitstreamVeraSans-Roman-32\"/>\n",
       "      </g>\n",
       "     </g>\n",
       "    </g>\n",
       "    <g id=\"ytick_5\">\n",
       "     <g id=\"line2d_30\">\n",
       "      <path clip-path=\"url(#pc9e4b33faf)\" d=\"\n",
       "M38.1688 55.622\n",
       "L596.169 55.622\" style=\"fill:none;stroke:#000000;stroke-dasharray:1.000000,3.000000;stroke-dashoffset:0.0;stroke-linecap:butt;stroke-width:0.5;\"/>\n",
       "     </g>\n",
       "     <g id=\"line2d_31\">\n",
       "      <defs>\n",
       "       <path d=\"\n",
       "M0 0\n",
       "L4 0\" id=\"mf3cb6a75f1\"/>\n",
       "      </defs>\n",
       "      <g>\n",
       "       <use style=\"stroke:#000000;stroke-linecap:butt;stroke-width:0.5;\" x=\"38.16875\" xlink:href=\"#mf3cb6a75f1\" y=\"55.62203125\"/>\n",
       "      </g>\n",
       "     </g>\n",
       "     <g id=\"text_13\">\n",
       "      <!-- 104.4 -->\n",
       "      <g transform=\"translate(7.2 59.261875)scale(0.1 -0.1)\">\n",
       "       <use xlink:href=\"#BitstreamVeraSans-Roman-31\"/>\n",
       "       <use x=\"63.623046875\" xlink:href=\"#BitstreamVeraSans-Roman-30\"/>\n",
       "       <use x=\"127.24609375\" xlink:href=\"#BitstreamVeraSans-Roman-34\"/>\n",
       "       <use x=\"190.869140625\" xlink:href=\"#BitstreamVeraSans-Roman-2e\"/>\n",
       "       <use x=\"222.65625\" xlink:href=\"#BitstreamVeraSans-Roman-34\"/>\n",
       "      </g>\n",
       "     </g>\n",
       "    </g>\n",
       "   </g>\n",
       "   <g id=\"patch_3\">\n",
       "    <path d=\"\n",
       "M38.1688 10.982\n",
       "L596.169 10.982\" style=\"fill:none;stroke:#000000;\"/>\n",
       "   </g>\n",
       "   <g id=\"patch_4\">\n",
       "    <path d=\"\n",
       "M596.169 457.382\n",
       "L596.169 10.982\" style=\"fill:none;stroke:#000000;\"/>\n",
       "   </g>\n",
       "   <g id=\"patch_5\">\n",
       "    <path d=\"\n",
       "M38.1688 457.382\n",
       "L596.169 457.382\" style=\"fill:none;stroke:#000000;\"/>\n",
       "   </g>\n",
       "   <g id=\"patch_6\">\n",
       "    <path d=\"\n",
       "M38.1688 457.382\n",
       "L38.1688 10.982\" style=\"fill:none;stroke:#000000;\"/>\n",
       "   </g>\n",
       "  </g>\n",
       "  <g id=\"axes_2\">\n",
       "   <g id=\"line2d_32\">\n",
       "    <path clip-path=\"url(#pc9e4b33faf)\" d=\"\n",
       "M38.1688 457.382\n",
       "L39.7188 452.918\n",
       "L41.2688 457.382\n",
       "L42.8188 455.894\n",
       "L44.3688 453.141\n",
       "L45.9188 457.382\n",
       "L47.4688 451.058\n",
       "L49.0188 455.522\n",
       "L50.5688 456.266\n",
       "L52.1188 454.406\n",
       "L53.6688 457.382\n",
       "L58.3188 457.382\n",
       "L59.8688 456.266\n",
       "L61.4188 456.486\n",
       "L62.9688 448.454\n",
       "L64.5188 453.197\n",
       "L66.0688 440.248\n",
       "L67.6188 457.382\n",
       "L69.1688 457.01\n",
       "L70.7188 457.01\n",
       "L72.2688 451.821\n",
       "L73.8188 455.15\n",
       "L75.3688 455.522\n",
       "L76.9188 440.642\n",
       "L78.4688 454.778\n",
       "L80.0188 446.821\n",
       "L81.5688 445.106\n",
       "L83.1188 457.01\n",
       "L84.6688 452.174\n",
       "L86.2188 451.56\n",
       "L87.7688 450.641\n",
       "L89.3188 456.638\n",
       "L90.8688 451.642\n",
       "L92.4188 456.638\n",
       "L93.9688 456.266\n",
       "L95.5188 456.396\n",
       "L97.0688 455.894\n",
       "L98.6188 449.124\n",
       "L100.169 457.01\n",
       "L101.719 450.314\n",
       "L103.269 442.502\n",
       "L104.819 453.29\n",
       "L106.369 455.894\n",
       "L107.919 454.797\n",
       "L109.469 452.918\n",
       "L111.019 450.686\n",
       "L112.569 457.382\n",
       "L114.119 457.01\n",
       "L115.669 455.139\n",
       "L117.219 455.894\n",
       "L118.769 453.662\n",
       "L120.319 455.522\n",
       "L121.869 450.768\n",
       "L123.419 455.522\n",
       "L124.969 456.638\n",
       "L126.519 457.382\n",
       "L128.069 457.01\n",
       "L129.619 455.894\n",
       "L131.169 452.933\n",
       "L132.719 456.638\n",
       "L134.269 455.894\n",
       "L135.819 453.662\n",
       "L137.369 454.034\n",
       "L138.919 456.638\n",
       "L140.469 416.667\n",
       "L142.019 456.266\n",
       "L143.569 452.911\n",
       "L145.119 445.065\n",
       "L146.669 445.924\n",
       "L148.219 449.198\n",
       "L149.769 457.01\n",
       "L151.319 455.15\n",
       "L152.869 452.174\n",
       "L154.419 457.01\n",
       "L155.969 454.406\n",
       "L157.519 451.53\n",
       "L159.069 455.872\n",
       "L160.619 455.894\n",
       "L162.169 452.918\n",
       "L163.719 456.266\n",
       "L165.269 457.382\n",
       "L166.819 453.658\n",
       "L168.369 455.102\n",
       "L169.919 457.382\n",
       "L171.469 455.745\n",
       "L173.019 454.778\n",
       "L174.569 438.414\n",
       "L176.119 455.894\n",
       "L177.669 457.382\n",
       "L179.219 452.312\n",
       "L180.769 455.522\n",
       "L182.319 452.33\n",
       "L183.869 455.068\n",
       "L185.419 457.382\n",
       "L188.519 457.382\n",
       "L190.069 456.266\n",
       "L191.619 456.448\n",
       "L193.169 455.15\n",
       "L194.719 457.382\n",
       "L196.269 436.305\n",
       "L197.819 448.454\n",
       "L199.369 457.01\n",
       "L200.919 455.615\n",
       "L202.469 457.382\n",
       "L207.119 457.382\n",
       "L208.669 455.057\n",
       "L210.219 456.266\n",
       "L211.769 455.976\n",
       "L213.319 457.01\n",
       "L216.419 454.919\n",
       "L217.969 455.786\n",
       "L219.519 443.339\n",
       "L221.069 457.382\n",
       "L222.619 456.638\n",
       "L224.169 453.662\n",
       "L225.719 452.925\n",
       "L227.269 451.802\n",
       "L228.819 452.546\n",
       "L230.369 427.28\n",
       "L231.919 454.778\n",
       "L233.469 430.613\n",
       "L235.019 450.396\n",
       "L236.569 450.002\n",
       "L238.119 452.918\n",
       "L239.669 454.778\n",
       "L241.219 453.29\n",
       "L242.769 454.034\n",
       "L244.319 451.802\n",
       "L245.869 448.376\n",
       "L247.419 454.778\n",
       "L248.969 452.174\n",
       "L250.519 454.406\n",
       "L252.069 453.662\n",
       "L253.619 452.029\n",
       "L255.169 451.802\n",
       "L256.719 454.778\n",
       "L258.269 450.4\n",
       "L259.819 448.082\n",
       "L261.369 454.406\n",
       "L262.919 450.314\n",
       "L264.469 452.918\n",
       "L266.019 453.662\n",
       "L267.569 457.01\n",
       "L269.119 455.835\n",
       "L270.669 457.382\n",
       "L272.219 456.266\n",
       "L273.769 456.664\n",
       "L275.319 130.387\n",
       "L276.869 457.382\n",
       "L278.419 455.894\n",
       "L279.969 457.01\n",
       "L281.519 453.435\n",
       "L283.069 451.054\n",
       "L284.619 450.686\n",
       "L286.169 453.275\n",
       "L287.719 449.302\n",
       "L289.269 457.01\n",
       "L290.819 455.384\n",
       "L292.369 457.382\n",
       "L293.919 456.106\n",
       "L295.469 457.01\n",
       "L297.019 457.01\n",
       "L298.569 457.382\n",
       "L300.119 455.808\n",
       "L301.669 456.266\n",
       "L303.219 449.827\n",
       "L304.769 455.894\n",
       "L306.319 456.884\n",
       "L307.869 457.01\n",
       "L309.419 457.382\n",
       "L310.969 455.15\n",
       "L312.519 454.659\n",
       "L314.069 456.638\n",
       "L315.619 455.846\n",
       "L317.169 456.266\n",
       "L318.719 453.536\n",
       "L320.269 457.382\n",
       "L321.819 451.43\n",
       "L323.369 454.983\n",
       "L324.919 445.634\n",
       "L326.469 456.701\n",
       "L328.019 455.15\n",
       "L329.569 455.987\n",
       "L331.119 452.918\n",
       "L332.669 455.838\n",
       "L334.219 447.662\n",
       "L335.769 457.01\n",
       "L337.319 456.192\n",
       "L338.869 452.059\n",
       "L340.419 456.947\n",
       "L341.969 457.01\n",
       "L343.519 453.197\n",
       "L345.069 453.13\n",
       "L346.619 457.382\n",
       "L348.169 455.771\n",
       "L351.269 457.382\n",
       "L352.819 456.266\n",
       "L354.369 457.01\n",
       "L355.919 456.861\n",
       "L357.469 454.998\n",
       "L359.019 457.01\n",
       "L360.569 457.01\n",
       "L362.119 455.656\n",
       "L363.669 452.911\n",
       "L365.219 453.015\n",
       "L366.769 456.638\n",
       "L368.319 454.406\n",
       "L369.869 456.266\n",
       "L371.419 456.266\n",
       "L372.969 457.382\n",
       "L374.519 445.85\n",
       "L376.069 456.266\n",
       "L377.619 456.638\n",
       "L380.719 456.638\n",
       "L382.269 453.104\n",
       "L383.819 455.894\n",
       "L385.369 454.942\n",
       "L386.919 343.807\n",
       "L388.469 417.95\n",
       "L390.019 449.808\n",
       "L391.569 441.386\n",
       "L393.119 455.894\n",
       "L394.669 454.406\n",
       "L396.219 455.28\n",
       "L397.769 456.712\n",
       "L399.319 455.15\n",
       "L400.869 79.058\n",
       "L402.419 457.01\n",
       "L403.969 455.637\n",
       "L405.519 457.382\n",
       "L407.069 455.894\n",
       "L408.619 455.894\n",
       "L410.169 457.01\n",
       "L411.719 455.894\n",
       "L413.269 456.266\n",
       "L414.819 455.15\n",
       "L416.369 456.66\n",
       "L417.919 456.575\n",
       "L419.469 456.638\n",
       "L421.019 455.95\n",
       "L422.569 454.666\n",
       "L424.119 453.725\n",
       "L425.669 457.01\n",
       "L427.219 445.85\n",
       "L428.769 455.046\n",
       "L430.319 457.382\n",
       "L433.419 453.662\n",
       "L434.969 457.01\n",
       "L436.519 454.637\n",
       "L438.069 444.098\n",
       "L439.619 449.57\n",
       "L441.169 449.897\n",
       "L442.719 456.073\n",
       "L444.269 450.08\n",
       "L445.819 454.034\n",
       "L447.369 455.407\n",
       "L448.919 454.127\n",
       "L450.469 452.122\n",
       "L452.019 457.006\n",
       "L453.569 456.266\n",
       "L455.119 456.638\n",
       "L456.669 457.382\n",
       "L458.219 456.824\n",
       "L459.769 455.522\n",
       "L461.319 454.034\n",
       "L462.869 453.997\n",
       "L464.419 456.266\n",
       "L465.969 456.731\n",
       "L467.519 456.266\n",
       "L469.069 457.382\n",
       "L472.169 456.638\n",
       "L473.719 452.873\n",
       "L475.269 457.382\n",
       "L476.819 450.63\n",
       "L478.369 456.638\n",
       "L479.919 457.382\n",
       "L481.469 456.292\n",
       "L483.019 455.596\n",
       "L484.569 457.382\n",
       "L486.119 456.154\n",
       "L487.669 455.708\n",
       "L489.219 457.382\n",
       "L490.769 402.653\n",
       "L492.319 457.01\n",
       "L493.869 444.362\n",
       "L495.419 457.382\n",
       "L496.969 446.966\n",
       "L498.519 457.382\n",
       "L500.069 452.565\n",
       "L501.619 453.085\n",
       "L503.169 444.738\n",
       "L504.719 457.01\n",
       "L506.269 456.638\n",
       "L507.819 456.151\n",
       "L509.369 454.257\n",
       "L510.919 457.382\n",
       "L512.469 457.382\n",
       "L514.019 457.01\n",
       "L515.569 449.57\n",
       "L517.119 449.217\n",
       "L518.669 456.504\n",
       "L520.219 452.918\n",
       "L521.769 453.29\n",
       "L523.319 456.638\n",
       "L524.869 454.034\n",
       "L526.419 455.522\n",
       "L527.969 453.848\n",
       "L529.519 457.382\n",
       "L531.069 451.53\n",
       "L532.619 457.382\n",
       "L535.719 457.382\n",
       "L537.269 456.058\n",
       "L538.819 457.01\n",
       "L540.369 456.638\n",
       "L541.919 450.277\n",
       "L543.469 448.636\n",
       "L545.019 453.662\n",
       "L546.569 431.807\n",
       "L548.119 457.01\n",
       "L549.669 455.522\n",
       "L551.219 453.29\n",
       "L552.769 449.12\n",
       "L554.319 456.266\n",
       "L555.869 444.578\n",
       "L557.419 448.346\n",
       "L558.969 454.406\n",
       "L560.519 457.382\n",
       "L562.069 454.406\n",
       "L563.619 455.634\n",
       "L565.169 455.522\n",
       "L566.719 444.027\n",
       "L568.269 454.596\n",
       "L569.819 456.437\n",
       "L571.369 456.08\n",
       "L572.919 456.638\n",
       "L574.469 455.626\n",
       "L576.019 456.266\n",
       "L577.569 456.638\n",
       "L579.119 452.773\n",
       "L580.669 457.382\n",
       "L582.219 453.603\n",
       "L583.769 457.01\n",
       "L586.869 457.01\n",
       "L588.419 455.396\n",
       "L589.969 422.965\n",
       "L591.519 457.01\n",
       "L593.069 455.864\n",
       "L594.619 450.917\n",
       "L596.169 429.203\n",
       "L596.169 429.203\" style=\"fill:none;stroke:#ff0000;\"/>\n",
       "   </g>\n",
       "   <g id=\"matplotlib.axis_3\">\n",
       "    <g id=\"ytick_6\">\n",
       "     <g id=\"line2d_33\">\n",
       "      <defs>\n",
       "       <path d=\"\n",
       "M0 0\n",
       "L-4 0\" id=\"mcb8f5e803c\"/>\n",
       "      </defs>\n",
       "      <g>\n",
       "       <use style=\"stroke:#000000;stroke-linecap:butt;stroke-width:0.5;\" x=\"596.16875\" xlink:href=\"#mcb8f5e803c\" y=\"457.38203125\"/>\n",
       "      </g>\n",
       "     </g>\n",
       "     <g id=\"text_14\">\n",
       "      <!-- 0 -->\n",
       "      <g transform=\"translate(600.16875 461.021875)scale(0.1 -0.1)\">\n",
       "       <use xlink:href=\"#BitstreamVeraSans-Roman-30\"/>\n",
       "      </g>\n",
       "     </g>\n",
       "    </g>\n",
       "    <g id=\"ytick_7\">\n",
       "     <g id=\"line2d_34\">\n",
       "      <defs>\n",
       "       <path d=\"\n",
       "M0 0\n",
       "L-4 0\" id=\"mcb8f5e803c\"/>\n",
       "      </defs>\n",
       "      <g>\n",
       "       <use style=\"stroke:#000000;stroke-linecap:butt;stroke-width:0.5;\" x=\"596.16875\" xlink:href=\"#mcb8f5e803c\" y=\"382.98203125\"/>\n",
       "      </g>\n",
       "     </g>\n",
       "     <g id=\"text_15\">\n",
       "      <!-- 20000 -->\n",
       "      <g transform=\"translate(600.16875 386.621875)scale(0.1 -0.1)\">\n",
       "       <use xlink:href=\"#BitstreamVeraSans-Roman-32\"/>\n",
       "       <use x=\"63.623046875\" xlink:href=\"#BitstreamVeraSans-Roman-30\"/>\n",
       "       <use x=\"127.24609375\" xlink:href=\"#BitstreamVeraSans-Roman-30\"/>\n",
       "       <use x=\"190.869140625\" xlink:href=\"#BitstreamVeraSans-Roman-30\"/>\n",
       "       <use x=\"254.4921875\" xlink:href=\"#BitstreamVeraSans-Roman-30\"/>\n",
       "      </g>\n",
       "     </g>\n",
       "    </g>\n",
       "    <g id=\"ytick_8\">\n",
       "     <g id=\"line2d_35\">\n",
       "      <defs>\n",
       "       <path d=\"\n",
       "M0 0\n",
       "L-4 0\" id=\"mcb8f5e803c\"/>\n",
       "      </defs>\n",
       "      <g>\n",
       "       <use style=\"stroke:#000000;stroke-linecap:butt;stroke-width:0.5;\" x=\"596.16875\" xlink:href=\"#mcb8f5e803c\" y=\"308.58203125\"/>\n",
       "      </g>\n",
       "     </g>\n",
       "     <g id=\"text_16\">\n",
       "      <!-- 40000 -->\n",
       "      <g transform=\"translate(600.16875 312.221875)scale(0.1 -0.1)\">\n",
       "       <use xlink:href=\"#BitstreamVeraSans-Roman-34\"/>\n",
       "       <use x=\"63.623046875\" xlink:href=\"#BitstreamVeraSans-Roman-30\"/>\n",
       "       <use x=\"127.24609375\" xlink:href=\"#BitstreamVeraSans-Roman-30\"/>\n",
       "       <use x=\"190.869140625\" xlink:href=\"#BitstreamVeraSans-Roman-30\"/>\n",
       "       <use x=\"254.4921875\" xlink:href=\"#BitstreamVeraSans-Roman-30\"/>\n",
       "      </g>\n",
       "     </g>\n",
       "    </g>\n",
       "    <g id=\"ytick_9\">\n",
       "     <g id=\"line2d_36\">\n",
       "      <defs>\n",
       "       <path d=\"\n",
       "M0 0\n",
       "L-4 0\" id=\"mcb8f5e803c\"/>\n",
       "      </defs>\n",
       "      <g>\n",
       "       <use style=\"stroke:#000000;stroke-linecap:butt;stroke-width:0.5;\" x=\"596.16875\" xlink:href=\"#mcb8f5e803c\" y=\"234.18203125\"/>\n",
       "      </g>\n",
       "     </g>\n",
       "     <g id=\"text_17\">\n",
       "      <!-- 60000 -->\n",
       "      <g transform=\"translate(600.16875 237.821875)scale(0.1 -0.1)\">\n",
       "       <use xlink:href=\"#BitstreamVeraSans-Roman-36\"/>\n",
       "       <use x=\"63.623046875\" xlink:href=\"#BitstreamVeraSans-Roman-30\"/>\n",
       "       <use x=\"127.24609375\" xlink:href=\"#BitstreamVeraSans-Roman-30\"/>\n",
       "       <use x=\"190.869140625\" xlink:href=\"#BitstreamVeraSans-Roman-30\"/>\n",
       "       <use x=\"254.4921875\" xlink:href=\"#BitstreamVeraSans-Roman-30\"/>\n",
       "      </g>\n",
       "     </g>\n",
       "    </g>\n",
       "    <g id=\"ytick_10\">\n",
       "     <g id=\"line2d_37\">\n",
       "      <defs>\n",
       "       <path d=\"\n",
       "M0 0\n",
       "L-4 0\" id=\"mcb8f5e803c\"/>\n",
       "      </defs>\n",
       "      <g>\n",
       "       <use style=\"stroke:#000000;stroke-linecap:butt;stroke-width:0.5;\" x=\"596.16875\" xlink:href=\"#mcb8f5e803c\" y=\"159.78203125\"/>\n",
       "      </g>\n",
       "     </g>\n",
       "     <g id=\"text_18\">\n",
       "      <!-- 80000 -->\n",
       "      <g transform=\"translate(600.16875 163.421875)scale(0.1 -0.1)\">\n",
       "       <use xlink:href=\"#BitstreamVeraSans-Roman-38\"/>\n",
       "       <use x=\"63.623046875\" xlink:href=\"#BitstreamVeraSans-Roman-30\"/>\n",
       "       <use x=\"127.24609375\" xlink:href=\"#BitstreamVeraSans-Roman-30\"/>\n",
       "       <use x=\"190.869140625\" xlink:href=\"#BitstreamVeraSans-Roman-30\"/>\n",
       "       <use x=\"254.4921875\" xlink:href=\"#BitstreamVeraSans-Roman-30\"/>\n",
       "      </g>\n",
       "     </g>\n",
       "    </g>\n",
       "    <g id=\"ytick_11\">\n",
       "     <g id=\"line2d_38\">\n",
       "      <defs>\n",
       "       <path d=\"\n",
       "M0 0\n",
       "L-4 0\" id=\"mcb8f5e803c\"/>\n",
       "      </defs>\n",
       "      <g>\n",
       "       <use style=\"stroke:#000000;stroke-linecap:butt;stroke-width:0.5;\" x=\"596.16875\" xlink:href=\"#mcb8f5e803c\" y=\"85.38203125\"/>\n",
       "      </g>\n",
       "     </g>\n",
       "     <g id=\"text_19\">\n",
       "      <!-- 100000 -->\n",
       "      <g transform=\"translate(600.16875 89.021875)scale(0.1 -0.1)\">\n",
       "       <use xlink:href=\"#BitstreamVeraSans-Roman-31\"/>\n",
       "       <use x=\"63.623046875\" xlink:href=\"#BitstreamVeraSans-Roman-30\"/>\n",
       "       <use x=\"127.24609375\" xlink:href=\"#BitstreamVeraSans-Roman-30\"/>\n",
       "       <use x=\"190.869140625\" xlink:href=\"#BitstreamVeraSans-Roman-30\"/>\n",
       "       <use x=\"254.4921875\" xlink:href=\"#BitstreamVeraSans-Roman-30\"/>\n",
       "       <use x=\"318.115234375\" xlink:href=\"#BitstreamVeraSans-Roman-30\"/>\n",
       "      </g>\n",
       "     </g>\n",
       "    </g>\n",
       "    <g id=\"ytick_12\">\n",
       "     <g id=\"line2d_39\">\n",
       "      <defs>\n",
       "       <path d=\"\n",
       "M0 0\n",
       "L-4 0\" id=\"mcb8f5e803c\"/>\n",
       "      </defs>\n",
       "      <g>\n",
       "       <use style=\"stroke:#000000;stroke-linecap:butt;stroke-width:0.5;\" x=\"596.16875\" xlink:href=\"#mcb8f5e803c\" y=\"10.98203125\"/>\n",
       "      </g>\n",
       "     </g>\n",
       "     <g id=\"text_20\">\n",
       "      <!-- 120000 -->\n",
       "      <g transform=\"translate(600.16875 14.621875)scale(0.1 -0.1)\">\n",
       "       <use xlink:href=\"#BitstreamVeraSans-Roman-31\"/>\n",
       "       <use x=\"63.623046875\" xlink:href=\"#BitstreamVeraSans-Roman-32\"/>\n",
       "       <use x=\"127.24609375\" xlink:href=\"#BitstreamVeraSans-Roman-30\"/>\n",
       "       <use x=\"190.869140625\" xlink:href=\"#BitstreamVeraSans-Roman-30\"/>\n",
       "       <use x=\"254.4921875\" xlink:href=\"#BitstreamVeraSans-Roman-30\"/>\n",
       "       <use x=\"318.115234375\" xlink:href=\"#BitstreamVeraSans-Roman-30\"/>\n",
       "      </g>\n",
       "     </g>\n",
       "    </g>\n",
       "   </g>\n",
       "  </g>\n",
       " </g>\n",
       " <defs>\n",
       "  <clipPath id=\"pc9e4b33faf\">\n",
       "   <rect height=\"446.4\" width=\"558.0\" x=\"38.16875\" y=\"10.98203125\"/>\n",
       "  </clipPath>\n",
       " </defs>\n",
       "</svg>\n"
      ],
      "text/plain": [
       "<matplotlib.figure.Figure at 0x10d6bd250>"
      ]
     },
     "metadata": {},
     "output_type": "display_data"
    }
   ],
   "source": [
    "vwap.ix['2011-11-03':'2011-11-04'].plot()\n",
    "plt.ylim(103.5, 104.5)\n",
    "vol.ix['2011-11-03':'2011-11-04'].plot(secondary_y=True, style='r')"
   ]
  },
  {
   "cell_type": "markdown",
   "metadata": {},
   "source": [
    "####Lead/lag"
   ]
  },
  {
   "cell_type": "code",
   "execution_count": 22,
   "metadata": {},
   "outputs": [
    {
     "data": {
      "text/html": [
       "<div style=\"max-height:1000px;max-width:1500px;overflow:auto;\">\n",
       "<table border=\"1\" class=\"dataframe\">\n",
       "  <thead>\n",
       "    <tr style=\"text-align: right;\">\n",
       "      <th></th>\n",
       "      <th>Price</th>\n",
       "      <th>Volume</th>\n",
       "    </tr>\n",
       "    <tr>\n",
       "      <th>Timestamp</th>\n",
       "      <th></th>\n",
       "      <th></th>\n",
       "    </tr>\n",
       "  </thead>\n",
       "  <tbody>\n",
       "    <tr>\n",
       "      <td><strong>2011-11-01 08:04:56.364000</strong></td>\n",
       "      <td> 104.55</td>\n",
       "      <td>  100</td>\n",
       "    </tr>\n",
       "    <tr>\n",
       "      <td><strong>2011-11-01 08:53:07.459000</strong></td>\n",
       "      <td> 104.43</td>\n",
       "      <td>  150</td>\n",
       "    </tr>\n",
       "    <tr>\n",
       "      <td><strong>2011-11-01 08:53:09.284000</strong></td>\n",
       "      <td> 104.43</td>\n",
       "      <td>  100</td>\n",
       "    </tr>\n",
       "    <tr>\n",
       "      <td><strong>2011-11-01 08:54:03.921000</strong></td>\n",
       "      <td> 104.50</td>\n",
       "      <td>  100</td>\n",
       "    </tr>\n",
       "    <tr>\n",
       "      <td><strong>2011-11-01 08:58:06.162000</strong></td>\n",
       "      <td> 104.46</td>\n",
       "      <td> 1000</td>\n",
       "    </tr>\n",
       "  </tbody>\n",
       "</table>\n",
       "</div>"
      ],
      "text/plain": [
       "                             Price  Volume\n",
       "Timestamp                                 \n",
       "2011-11-01 08:04:56.364000  104.55     100\n",
       "2011-11-01 08:53:07.459000  104.43     150\n",
       "2011-11-01 08:53:09.284000  104.43     100\n",
       "2011-11-01 08:54:03.921000  104.50     100\n",
       "2011-11-01 08:58:06.162000  104.46    1000"
      ]
     },
     "execution_count": 22,
     "metadata": {},
     "output_type": "execute_result"
    }
   ],
   "source": [
    "ticks.head()"
   ]
  },
  {
   "cell_type": "markdown",
   "metadata": {},
   "source": [
    "**`shift`** realigns values"
   ]
  },
  {
   "cell_type": "code",
   "execution_count": 23,
   "metadata": {},
   "outputs": [
    {
     "data": {
      "text/html": [
       "<div style=\"max-height:1000px;max-width:1500px;overflow:auto;\">\n",
       "<table border=\"1\" class=\"dataframe\">\n",
       "  <thead>\n",
       "    <tr style=\"text-align: right;\">\n",
       "      <th></th>\n",
       "      <th>Price</th>\n",
       "      <th>Volume</th>\n",
       "    </tr>\n",
       "    <tr>\n",
       "      <th>Timestamp</th>\n",
       "      <th></th>\n",
       "      <th></th>\n",
       "    </tr>\n",
       "  </thead>\n",
       "  <tbody>\n",
       "    <tr>\n",
       "      <td><strong>2011-11-01 08:04:56.364000</strong></td>\n",
       "      <td>    NaN</td>\n",
       "      <td> NaN</td>\n",
       "    </tr>\n",
       "    <tr>\n",
       "      <td><strong>2011-11-01 08:53:07.459000</strong></td>\n",
       "      <td> 104.55</td>\n",
       "      <td> 100</td>\n",
       "    </tr>\n",
       "    <tr>\n",
       "      <td><strong>2011-11-01 08:53:09.284000</strong></td>\n",
       "      <td> 104.43</td>\n",
       "      <td> 150</td>\n",
       "    </tr>\n",
       "    <tr>\n",
       "      <td><strong>2011-11-01 08:54:03.921000</strong></td>\n",
       "      <td> 104.43</td>\n",
       "      <td> 100</td>\n",
       "    </tr>\n",
       "    <tr>\n",
       "      <td><strong>2011-11-01 08:58:06.162000</strong></td>\n",
       "      <td> 104.50</td>\n",
       "      <td> 100</td>\n",
       "    </tr>\n",
       "  </tbody>\n",
       "</table>\n",
       "</div>"
      ],
      "text/plain": [
       "                             Price  Volume\n",
       "Timestamp                                 \n",
       "2011-11-01 08:04:56.364000     NaN     NaN\n",
       "2011-11-01 08:53:07.459000  104.55     100\n",
       "2011-11-01 08:53:09.284000  104.43     150\n",
       "2011-11-01 08:54:03.921000  104.43     100\n",
       "2011-11-01 08:58:06.162000  104.50     100"
      ]
     },
     "execution_count": 23,
     "metadata": {},
     "output_type": "execute_result"
    }
   ],
   "source": [
    "ticks.shift(1).head()"
   ]
  },
  {
   "cell_type": "code",
   "execution_count": 24,
   "metadata": {},
   "outputs": [
    {
     "data": {
      "text/html": [
       "<div style=\"max-height:1000px;max-width:1500px;overflow:auto;\">\n",
       "<table border=\"1\" class=\"dataframe\">\n",
       "  <thead>\n",
       "    <tr style=\"text-align: right;\">\n",
       "      <th></th>\n",
       "      <th>Price</th>\n",
       "      <th>Volume</th>\n",
       "    </tr>\n",
       "    <tr>\n",
       "      <th>Timestamp</th>\n",
       "      <th></th>\n",
       "      <th></th>\n",
       "    </tr>\n",
       "  </thead>\n",
       "  <tbody>\n",
       "    <tr>\n",
       "      <td><strong>2011-11-01 08:04:56.364000</strong></td>\n",
       "      <td> 104.43</td>\n",
       "      <td>  150</td>\n",
       "    </tr>\n",
       "    <tr>\n",
       "      <td><strong>2011-11-01 08:53:07.459000</strong></td>\n",
       "      <td> 104.43</td>\n",
       "      <td>  100</td>\n",
       "    </tr>\n",
       "    <tr>\n",
       "      <td><strong>2011-11-01 08:53:09.284000</strong></td>\n",
       "      <td> 104.50</td>\n",
       "      <td>  100</td>\n",
       "    </tr>\n",
       "    <tr>\n",
       "      <td><strong>2011-11-01 08:54:03.921000</strong></td>\n",
       "      <td> 104.46</td>\n",
       "      <td> 1000</td>\n",
       "    </tr>\n",
       "    <tr>\n",
       "      <td><strong>2011-11-01 08:58:06.162000</strong></td>\n",
       "      <td> 104.46</td>\n",
       "      <td> 1000</td>\n",
       "    </tr>\n",
       "  </tbody>\n",
       "</table>\n",
       "</div>"
      ],
      "text/plain": [
       "                             Price  Volume\n",
       "Timestamp                                 \n",
       "2011-11-01 08:04:56.364000  104.43     150\n",
       "2011-11-01 08:53:07.459000  104.43     100\n",
       "2011-11-01 08:53:09.284000  104.50     100\n",
       "2011-11-01 08:54:03.921000  104.46    1000\n",
       "2011-11-01 08:58:06.162000  104.46    1000"
      ]
     },
     "execution_count": 24,
     "metadata": {},
     "output_type": "execute_result"
    }
   ],
   "source": [
    "ticks.shift(-1).head()"
   ]
  },
  {
   "cell_type": "markdown",
   "metadata": {},
   "source": [
    "**`tshift`** manipulates index values"
   ]
  },
  {
   "cell_type": "code",
   "execution_count": 25,
   "metadata": {},
   "outputs": [
    {
     "data": {
      "text/html": [
       "<div style=\"max-height:1000px;max-width:1500px;overflow:auto;\">\n",
       "<table border=\"1\" class=\"dataframe\">\n",
       "  <thead>\n",
       "    <tr style=\"text-align: right;\">\n",
       "      <th></th>\n",
       "      <th>Price</th>\n",
       "      <th>Volume</th>\n",
       "    </tr>\n",
       "  </thead>\n",
       "  <tbody>\n",
       "    <tr>\n",
       "      <td><strong>2011-11-01 08:05:56.364000</strong></td>\n",
       "      <td> 104.55</td>\n",
       "      <td>  100</td>\n",
       "    </tr>\n",
       "    <tr>\n",
       "      <td><strong>2011-11-01 08:54:07.459000</strong></td>\n",
       "      <td> 104.43</td>\n",
       "      <td>  150</td>\n",
       "    </tr>\n",
       "    <tr>\n",
       "      <td><strong>2011-11-01 08:54:09.284000</strong></td>\n",
       "      <td> 104.43</td>\n",
       "      <td>  100</td>\n",
       "    </tr>\n",
       "    <tr>\n",
       "      <td><strong>2011-11-01 08:55:03.921000</strong></td>\n",
       "      <td> 104.50</td>\n",
       "      <td>  100</td>\n",
       "    </tr>\n",
       "    <tr>\n",
       "      <td><strong>2011-11-01 08:59:06.162000</strong></td>\n",
       "      <td> 104.46</td>\n",
       "      <td> 1000</td>\n",
       "    </tr>\n",
       "  </tbody>\n",
       "</table>\n",
       "</div>"
      ],
      "text/plain": [
       "                             Price  Volume\n",
       "2011-11-01 08:05:56.364000  104.55     100\n",
       "2011-11-01 08:54:07.459000  104.43     150\n",
       "2011-11-01 08:54:09.284000  104.43     100\n",
       "2011-11-01 08:55:03.921000  104.50     100\n",
       "2011-11-01 08:59:06.162000  104.46    1000"
      ]
     },
     "execution_count": 25,
     "metadata": {},
     "output_type": "execute_result"
    }
   ],
   "source": [
    "ticks.tshift(1, 'min').head()"
   ]
  },
  {
   "cell_type": "markdown",
   "metadata": {},
   "source": [
    "####SSS: stupidly simple strategy"
   ]
  },
  {
   "cell_type": "code",
   "execution_count": 26,
   "metadata": {},
   "outputs": [
    {
     "data": {
      "text/plain": [
       "Timestamp\n",
       "2011-11-01 08:05:00     0\n",
       "2011-11-01 08:06:00   NaN\n",
       "2011-11-01 08:07:00   NaN\n",
       "2011-11-01 08:08:00   NaN\n",
       "2011-11-01 08:09:00   NaN\n",
       "Freq: T"
      ]
     },
     "execution_count": 26,
     "metadata": {},
     "output_type": "execute_result"
    }
   ],
   "source": [
    "minute_return.head()"
   ]
  },
  {
   "cell_type": "code",
   "execution_count": 27,
   "metadata": {},
   "outputs": [
    {
     "data": {
      "text/plain": [
       "Timestamp\n",
       "2011-11-01 09:30:00    0.000000\n",
       "2011-11-01 09:31:00    0.000192\n",
       "2011-11-01 09:32:00   -0.000192\n",
       "2011-11-01 09:33:00    0.000000\n",
       "2011-11-01 09:34:00   -0.000096"
      ]
     },
     "execution_count": 27,
     "metadata": {},
     "output_type": "execute_result"
    }
   ],
   "source": [
    "mr = minute_return.between_time('9:30', '16:00')\n",
    "mr.head()"
   ]
  },
  {
   "cell_type": "code",
   "execution_count": 28,
   "metadata": {},
   "outputs": [
    {
     "data": {
      "text/plain": [
       "Timestamp\n",
       "2011-11-01 09:30:00         NaN\n",
       "2011-11-01 09:31:00    0.000000\n",
       "2011-11-01 09:32:00    0.000192\n",
       "2011-11-01 09:33:00   -0.000192\n",
       "2011-11-01 09:34:00    0.000000"
      ]
     },
     "execution_count": 28,
     "metadata": {},
     "output_type": "execute_result"
    }
   ],
   "source": [
    "lagged = mr.shift(1)\n",
    "lagged.head()"
   ]
  },
  {
   "cell_type": "markdown",
   "metadata": {},
   "source": [
    "We shouldn't use shift here because:"
   ]
  },
  {
   "cell_type": "code",
   "execution_count": 29,
   "metadata": {},
   "outputs": [
    {
     "data": {
      "text/plain": [
       "Timestamp\n",
       "2011-11-01 09:30:00         NaN\n",
       "2011-11-02 09:30:00    0.000191\n",
       "2011-11-03 09:30:00    0.000192"
      ]
     },
     "execution_count": 29,
     "metadata": {},
     "output_type": "execute_result"
    }
   ],
   "source": [
    "lagged.at_time('9:30')"
   ]
  },
  {
   "cell_type": "code",
   "execution_count": 30,
   "metadata": {},
   "outputs": [
    {
     "data": {
      "text/plain": [
       "Timestamp\n",
       "2011-11-01 16:00:00    0.000191\n",
       "2011-11-02 16:00:00    0.000192\n",
       "2011-11-03 16:00:00   -0.000193"
      ]
     },
     "execution_count": 30,
     "metadata": {},
     "output_type": "execute_result"
    }
   ],
   "source": [
    "mr.at_time('16:00')"
   ]
  },
  {
   "cell_type": "code",
   "execution_count": 31,
   "metadata": {},
   "outputs": [
    {
     "data": {
      "text/plain": [
       "Timestamp\n",
       "2011-11-01 09:30:00     0\n",
       "2011-11-02 09:30:00     0\n",
       "2011-11-03 09:30:00   NaN"
      ]
     },
     "execution_count": 31,
     "metadata": {},
     "output_type": "execute_result"
    }
   ],
   "source": [
    "lagged = minute_return.tshift(1, 'min').between_time('9:30', '16:00')\n",
    "lagged.at_time('9:30')"
   ]
  },
  {
   "cell_type": "markdown",
   "metadata": {},
   "source": [
    "Let's play"
   ]
  },
  {
   "cell_type": "code",
   "execution_count": 32,
   "metadata": {},
   "outputs": [
    {
     "data": {
      "text/plain": [
       "\n",
       "-------------------------Summary of Regression Analysis-------------------------\n",
       "\n",
       "Formula: Y ~ <x> + <intercept>\n",
       "\n",
       "Number of Observations:         1009\n",
       "Number of Degrees of Freedom:   2\n",
       "\n",
       "R-squared:         0.0011\n",
       "Adj R-squared:     0.0001\n",
       "\n",
       "Rmse:              0.0002\n",
       "\n",
       "F-stat (1, 1007):     1.1007, p-value:     0.2944\n",
       "\n",
       "Degrees of Freedom: model 1, resid 1007\n",
       "\n",
       "-----------------------Summary of Estimated Coefficients------------------------\n",
       "      Variable       Coef    Std Err     t-stat    p-value    CI 2.5%   CI 97.5%\n",
       "--------------------------------------------------------------------------------\n",
       "             x     0.0338     0.0322       1.05     0.2944    -0.0293     0.0969\n",
       "     intercept     0.0000     0.0000       0.50     0.6148    -0.0000     0.0000\n",
       "---------------------------------End of Summary---------------------------------\n"
      ]
     },
     "execution_count": 32,
     "metadata": {},
     "output_type": "execute_result"
    }
   ],
   "source": [
    "pd.ols(y=mr, x=lagged)"
   ]
  },
  {
   "cell_type": "code",
   "execution_count": 33,
   "metadata": {},
   "outputs": [
    {
     "data": {
      "text/plain": [
       "\n",
       "-------------------------Summary of Regression Analysis-------------------------\n",
       "\n",
       "Formula: Y ~ <x> + <intercept>\n",
       "\n",
       "Number of Observations:         1007\n",
       "Number of Degrees of Freedom:   2\n",
       "\n",
       "R-squared:         0.0024\n",
       "Adj R-squared:     0.0014\n",
       "\n",
       "Rmse:              0.0001\n",
       "\n",
       "F-stat (1, 1005):     2.4262, p-value:     0.1196\n",
       "\n",
       "Degrees of Freedom: model 1, resid 1005\n",
       "\n",
       "-----------------------Summary of Estimated Coefficients------------------------\n",
       "      Variable       Coef    Std Err     t-stat    p-value    CI 2.5%   CI 97.5%\n",
       "--------------------------------------------------------------------------------\n",
       "             x     0.0503     0.0323       1.56     0.1196    -0.0130     0.1136\n",
       "     intercept     0.0000     0.0000       0.66     0.5120    -0.0000     0.0000\n",
       "---------------------------------End of Summary---------------------------------\n"
      ]
     },
     "execution_count": 33,
     "metadata": {},
     "output_type": "execute_result"
    }
   ],
   "source": [
    "mr = vwap / bars.open - 1\n",
    "mr = mr.between_time('9:30', '16:00')\n",
    "lagged = mr.tshift(1, 'min').between_time('9:30', '16:00')\n",
    "pd.ols(y=mr, x=lagged)"
   ]
  },
  {
   "cell_type": "code",
   "execution_count": 34,
   "metadata": {},
   "outputs": [
    {
     "data": {
      "text/plain": [
       "\n",
       "-------------------------Summary of Regression Analysis-------------------------\n",
       "\n",
       "Formula: Y ~ <x> + <intercept>\n",
       "\n",
       "Number of Observations:         919\n",
       "Number of Degrees of Freedom:   2\n",
       "\n",
       "R-squared:         0.0055\n",
       "Adj R-squared:     0.0044\n",
       "\n",
       "Rmse:              0.0001\n",
       "\n",
       "F-stat (1, 917):     5.0453, p-value:     0.0249\n",
       "\n",
       "Degrees of Freedom: model 1, resid 917\n",
       "\n",
       "-----------------------Summary of Estimated Coefficients------------------------\n",
       "      Variable       Coef    Std Err     t-stat    p-value    CI 2.5%   CI 97.5%\n",
       "--------------------------------------------------------------------------------\n",
       "             x    -0.0000     0.0000      -2.25     0.0249    -0.0000    -0.0000\n",
       "     intercept     0.0000     0.0000       0.98     0.3251    -0.0000     0.0000\n",
       "---------------------------------End of Summary---------------------------------\n"
      ]
     },
     "execution_count": 34,
     "metadata": {},
     "output_type": "execute_result"
    }
   ],
   "source": [
    "inter = mr * vol\n",
    "inter = inter.between_time('9:30', '16:00')\n",
    "lagged_inter = inter.tshift(1, 'min').between_time('9:30', '16:00')\n",
    "pd.ols(y=mr, x=lagged_inter)"
   ]
  },
  {
   "cell_type": "markdown",
   "metadata": {},
   "source": [
    "Convert to percentage volume"
   ]
  },
  {
   "cell_type": "code",
   "execution_count": 35,
   "metadata": {},
   "outputs": [
    {
     "data": {
      "text/plain": [
       "Timestamp\n",
       "2011-11-01 10:00:00    0.000115\n",
       "2011-11-01 10:01:00    0.010772\n",
       "2011-11-01 10:02:00    0.038624\n",
       "2011-11-01 10:03:00    0.001148\n",
       "2011-11-01 10:04:00    0.001205"
      ]
     },
     "execution_count": 35,
     "metadata": {},
     "output_type": "execute_result"
    }
   ],
   "source": [
    "vol = vol.groupby(vol.index.day).transform(lambda x: x/x.sum())\n",
    "vol.head()"
   ]
  },
  {
   "cell_type": "markdown",
   "metadata": {},
   "source": [
    "Verify"
   ]
  },
  {
   "cell_type": "code",
   "execution_count": 36,
   "metadata": {},
   "outputs": [
    {
     "data": {
      "text/plain": [
       "Timestamp\n",
       "2011-11-02    1\n",
       "2011-11-03    1\n",
       "2011-11-04    1\n",
       "Freq: D"
      ]
     },
     "execution_count": 36,
     "metadata": {},
     "output_type": "execute_result"
    }
   ],
   "source": [
    "vol.resample('D', how='sum')"
   ]
  },
  {
   "cell_type": "code",
   "execution_count": 37,
   "metadata": {},
   "outputs": [
    {
     "data": {
      "text/plain": [
       "\n",
       "-------------------------Summary of Regression Analysis-------------------------\n",
       "\n",
       "Formula: Y ~ <x> + <intercept>\n",
       "\n",
       "Number of Observations:         919\n",
       "Number of Degrees of Freedom:   2\n",
       "\n",
       "R-squared:         0.0050\n",
       "Adj R-squared:     0.0039\n",
       "\n",
       "Rmse:              0.0001\n",
       "\n",
       "F-stat (1, 917):     4.6031, p-value:     0.0322\n",
       "\n",
       "Degrees of Freedom: model 1, resid 917\n",
       "\n",
       "-----------------------Summary of Estimated Coefficients------------------------\n",
       "      Variable       Coef    Std Err     t-stat    p-value    CI 2.5%   CI 97.5%\n",
       "--------------------------------------------------------------------------------\n",
       "             x    -4.1357     1.9276      -2.15     0.0322    -7.9139    -0.3576\n",
       "     intercept     0.0000     0.0000       0.98     0.3283    -0.0000     0.0000\n",
       "---------------------------------End of Summary---------------------------------\n"
      ]
     },
     "execution_count": 37,
     "metadata": {},
     "output_type": "execute_result"
    }
   ],
   "source": [
    "inter = mr * vol\n",
    "inter = inter.between_time('9:30', '16:00')\n",
    "lagged_inter = inter.tshift(1, 'min').between_time('9:30', '16:00')\n",
    "pd.ols(y=mr, x=lagged_inter)"
   ]
  },
  {
   "cell_type": "markdown",
   "metadata": {},
   "source": [
    "Vivaldi FTW"
   ]
  },
  {
   "cell_type": "code",
   "execution_count": 38,
   "metadata": {},
   "outputs": [],
   "source": [
    "hour = vol.index.hour\n",
    "hourly_volume = vol.groupby(hour).mean()"
   ]
  },
  {
   "cell_type": "code",
   "execution_count": 39,
   "metadata": {
    "collapsed": true
   },
   "outputs": [
    {
     "data": {
      "text/plain": [
       "<matplotlib.axes.AxesSubplot at 0x10ffe38d0>"
      ]
     },
     "execution_count": 39,
     "metadata": {},
     "output_type": "execute_result"
    },
    {
     "data": {
      "image/svg+xml": [
       "<?xml version=\"1.0\" encoding=\"utf-8\" standalone=\"no\"?>\n",
       "<!DOCTYPE svg PUBLIC \"-//W3C//DTD SVG 1.1//EN\"\n",
       "  \"http://www.w3.org/Graphics/SVG/1.1/DTD/svg11.dtd\">\n",
       "<!-- Created with matplotlib (http://matplotlib.sourceforge.net/) -->\n",
       "<svg height=\"479pt\" version=\"1.1\" viewBox=\"0 0 603 479\" width=\"603pt\" xmlns=\"http://www.w3.org/2000/svg\" xmlns:xlink=\"http://www.w3.org/1999/xlink\">\n",
       " <defs>\n",
       "  <style type=\"text/css\">\n",
       "*{stroke-linecap:square;stroke-linejoin:round;}\n",
       "  </style>\n",
       " </defs>\n",
       " <g id=\"figure_1\">\n",
       "  <g id=\"patch_1\">\n",
       "   <path d=\"\n",
       "M7.10543e-15 479.648\n",
       "L603.705 479.648\n",
       "L603.705 0\n",
       "L7.10543e-15 0\n",
       "z\n",
       "\" style=\"fill:#ffffff;\"/>\n",
       "  </g>\n",
       "  <g id=\"axes_1\">\n",
       "   <g id=\"patch_2\">\n",
       "    <path d=\"\n",
       "M38.5047 457.382\n",
       "L596.505 457.382\n",
       "L596.505 10.982\n",
       "L38.5047 10.982\n",
       "z\n",
       "\" style=\"fill:#ffffff;\"/>\n",
       "   </g>\n",
       "   <g id=\"patch_3\">\n",
       "    <path clip-path=\"url(#p990701f485)\" d=\"\n",
       "M57.7461 457.382\n",
       "L115.47 457.382\n",
       "L115.47 401.416\n",
       "L57.7461 401.416\n",
       "z\n",
       "\" style=\"fill:#0000ff;stroke:#000000;\"/>\n",
       "   </g>\n",
       "   <g id=\"patch_4\">\n",
       "    <path clip-path=\"url(#p990701f485)\" d=\"\n",
       "M134.712 457.382\n",
       "L192.436 457.382\n",
       "L192.436 415.618\n",
       "L134.712 415.618\n",
       "z\n",
       "\" style=\"fill:#0000ff;stroke:#000000;\"/>\n",
       "   </g>\n",
       "   <g id=\"patch_5\">\n",
       "    <path clip-path=\"url(#p990701f485)\" d=\"\n",
       "M211.677 457.382\n",
       "L269.401 457.382\n",
       "L269.401 402.521\n",
       "L211.677 402.521\n",
       "z\n",
       "\" style=\"fill:#0000ff;stroke:#000000;\"/>\n",
       "   </g>\n",
       "   <g id=\"patch_6\">\n",
       "    <path clip-path=\"url(#p990701f485)\" d=\"\n",
       "M288.643 457.382\n",
       "L346.367 457.382\n",
       "L346.367 385.257\n",
       "L288.643 385.257\n",
       "z\n",
       "\" style=\"fill:#0000ff;stroke:#000000;\"/>\n",
       "   </g>\n",
       "   <g id=\"patch_7\">\n",
       "    <path clip-path=\"url(#p990701f485)\" d=\"\n",
       "M365.608 457.382\n",
       "L423.332 457.382\n",
       "L423.332 386.15\n",
       "L365.608 386.15\n",
       "z\n",
       "\" style=\"fill:#0000ff;stroke:#000000;\"/>\n",
       "   </g>\n",
       "   <g id=\"patch_8\">\n",
       "    <path clip-path=\"url(#p990701f485)\" d=\"\n",
       "M442.574 457.382\n",
       "L500.298 457.382\n",
       "L500.298 388.445\n",
       "L442.574 388.445\n",
       "z\n",
       "\" style=\"fill:#0000ff;stroke:#000000;\"/>\n",
       "   </g>\n",
       "   <g id=\"patch_9\">\n",
       "    <path clip-path=\"url(#p990701f485)\" d=\"\n",
       "M519.539 457.382\n",
       "L577.263 457.382\n",
       "L577.263 30.5283\n",
       "L519.539 30.5283\n",
       "z\n",
       "\" style=\"fill:#0000ff;stroke:#000000;\"/>\n",
       "   </g>\n",
       "   <g id=\"line2d_1\">\n",
       "    <path clip-path=\"url(#p990701f485)\" d=\"\n",
       "M38.5047 457.382\n",
       "L596.505 457.382\" style=\"fill:none;stroke:#000000;stroke-dasharray:6.000000,6.000000;stroke-dashoffset:0.0;stroke-linecap:butt;\"/>\n",
       "   </g>\n",
       "   <g id=\"matplotlib.axis_1\">\n",
       "    <g id=\"xtick_1\">\n",
       "     <g id=\"line2d_2\">\n",
       "      <path clip-path=\"url(#p990701f485)\" d=\"\n",
       "M86.6081 457.382\n",
       "L86.6081 10.982\" style=\"fill:none;stroke:#000000;stroke-dasharray:1.000000,3.000000;stroke-dashoffset:0.0;stroke-linecap:butt;stroke-width:0.5;\"/>\n",
       "     </g>\n",
       "     <g id=\"line2d_3\">\n",
       "      <defs>\n",
       "       <path d=\"\n",
       "M0 0\n",
       "L0 -4\" id=\"m29f7fa3b21\"/>\n",
       "      </defs>\n",
       "      <g>\n",
       "       <use style=\"stroke:#000000;stroke-linecap:butt;stroke-width:0.5;\" x=\"86.6081357759\" xlink:href=\"#m29f7fa3b21\" y=\"457.38203125\"/>\n",
       "      </g>\n",
       "     </g>\n",
       "     <g id=\"line2d_4\">\n",
       "      <defs>\n",
       "       <path d=\"\n",
       "M0 0\n",
       "L0 4\" id=\"md0fc6de9e5\"/>\n",
       "      </defs>\n",
       "      <g>\n",
       "       <use style=\"stroke:#000000;stroke-linecap:butt;stroke-width:0.5;\" x=\"86.6081357759\" xlink:href=\"#md0fc6de9e5\" y=\"10.98203125\"/>\n",
       "      </g>\n",
       "     </g>\n",
       "     <g id=\"text_1\">\n",
       "      <!-- 10 -->\n",
       "      <defs>\n",
       "       <path d=\"\n",
       "M31.7812 66.4062\n",
       "Q24.1719 66.4062 20.3281 58.9062\n",
       "Q16.5 51.4219 16.5 36.375\n",
       "Q16.5 21.3906 20.3281 13.8906\n",
       "Q24.1719 6.39062 31.7812 6.39062\n",
       "Q39.4531 6.39062 43.2812 13.8906\n",
       "Q47.125 21.3906 47.125 36.375\n",
       "Q47.125 51.4219 43.2812 58.9062\n",
       "Q39.4531 66.4062 31.7812 66.4062\n",
       "M31.7812 74.2188\n",
       "Q44.0469 74.2188 50.5156 64.5156\n",
       "Q56.9844 54.8281 56.9844 36.375\n",
       "Q56.9844 17.9688 50.5156 8.26562\n",
       "Q44.0469 -1.42188 31.7812 -1.42188\n",
       "Q19.5312 -1.42188 13.0625 8.26562\n",
       "Q6.59375 17.9688 6.59375 36.375\n",
       "Q6.59375 54.8281 13.0625 64.5156\n",
       "Q19.5312 74.2188 31.7812 74.2188\" id=\"BitstreamVeraSans-Roman-30\"/>\n",
       "       <path d=\"\n",
       "M12.4062 8.29688\n",
       "L28.5156 8.29688\n",
       "L28.5156 63.9219\n",
       "L10.9844 60.4062\n",
       "L10.9844 69.3906\n",
       "L28.4219 72.9062\n",
       "L38.2812 72.9062\n",
       "L38.2812 8.29688\n",
       "L54.3906 8.29688\n",
       "L54.3906 0\n",
       "L12.4062 0\n",
       "z\n",
       "\" id=\"BitstreamVeraSans-Roman-31\"/>\n",
       "      </defs>\n",
       "      <g transform=\"translate(90.3901670259 472.20234375)rotate(-90.0)scale(0.1 -0.1)\">\n",
       "       <use xlink:href=\"#BitstreamVeraSans-Roman-31\"/>\n",
       "       <use x=\"63.623046875\" xlink:href=\"#BitstreamVeraSans-Roman-30\"/>\n",
       "      </g>\n",
       "     </g>\n",
       "    </g>\n",
       "    <g id=\"xtick_2\">\n",
       "     <g id=\"line2d_5\">\n",
       "      <path clip-path=\"url(#p990701f485)\" d=\"\n",
       "M163.574 457.382\n",
       "L163.574 10.982\" style=\"fill:none;stroke:#000000;stroke-dasharray:1.000000,3.000000;stroke-dashoffset:0.0;stroke-linecap:butt;stroke-width:0.5;\"/>\n",
       "     </g>\n",
       "     <g id=\"line2d_6\">\n",
       "      <defs>\n",
       "       <path d=\"\n",
       "M0 0\n",
       "L0 -4\" id=\"m29f7fa3b21\"/>\n",
       "      </defs>\n",
       "      <g>\n",
       "       <use style=\"stroke:#000000;stroke-linecap:butt;stroke-width:0.5;\" x=\"163.573653017\" xlink:href=\"#m29f7fa3b21\" y=\"457.38203125\"/>\n",
       "      </g>\n",
       "     </g>\n",
       "     <g id=\"line2d_7\">\n",
       "      <defs>\n",
       "       <path d=\"\n",
       "M0 0\n",
       "L0 4\" id=\"md0fc6de9e5\"/>\n",
       "      </defs>\n",
       "      <g>\n",
       "       <use style=\"stroke:#000000;stroke-linecap:butt;stroke-width:0.5;\" x=\"163.573653017\" xlink:href=\"#md0fc6de9e5\" y=\"10.98203125\"/>\n",
       "      </g>\n",
       "     </g>\n",
       "     <g id=\"text_2\">\n",
       "      <!-- 11 -->\n",
       "      <g transform=\"translate(167.218965517 472.08515625)rotate(-90.0)scale(0.1 -0.1)\">\n",
       "       <use xlink:href=\"#BitstreamVeraSans-Roman-31\"/>\n",
       "       <use x=\"63.623046875\" xlink:href=\"#BitstreamVeraSans-Roman-31\"/>\n",
       "      </g>\n",
       "     </g>\n",
       "    </g>\n",
       "    <g id=\"xtick_3\">\n",
       "     <g id=\"line2d_8\">\n",
       "      <path clip-path=\"url(#p990701f485)\" d=\"\n",
       "M240.539 457.382\n",
       "L240.539 10.982\" style=\"fill:none;stroke:#000000;stroke-dasharray:1.000000,3.000000;stroke-dashoffset:0.0;stroke-linecap:butt;stroke-width:0.5;\"/>\n",
       "     </g>\n",
       "     <g id=\"line2d_9\">\n",
       "      <defs>\n",
       "       <path d=\"\n",
       "M0 0\n",
       "L0 -4\" id=\"m29f7fa3b21\"/>\n",
       "      </defs>\n",
       "      <g>\n",
       "       <use style=\"stroke:#000000;stroke-linecap:butt;stroke-width:0.5;\" x=\"240.539170259\" xlink:href=\"#m29f7fa3b21\" y=\"457.38203125\"/>\n",
       "      </g>\n",
       "     </g>\n",
       "     <g id=\"line2d_10\">\n",
       "      <defs>\n",
       "       <path d=\"\n",
       "M0 0\n",
       "L0 4\" id=\"md0fc6de9e5\"/>\n",
       "      </defs>\n",
       "      <g>\n",
       "       <use style=\"stroke:#000000;stroke-linecap:butt;stroke-width:0.5;\" x=\"240.539170259\" xlink:href=\"#md0fc6de9e5\" y=\"10.98203125\"/>\n",
       "      </g>\n",
       "     </g>\n",
       "     <g id=\"text_3\">\n",
       "      <!-- 12 -->\n",
       "      <defs>\n",
       "       <path d=\"\n",
       "M19.1875 8.29688\n",
       "L53.6094 8.29688\n",
       "L53.6094 0\n",
       "L7.32812 0\n",
       "L7.32812 8.29688\n",
       "Q12.9375 14.1094 22.625 23.8906\n",
       "Q32.3281 33.6875 34.8125 36.5312\n",
       "Q39.5469 41.8438 41.4219 45.5312\n",
       "Q43.3125 49.2188 43.3125 52.7812\n",
       "Q43.3125 58.5938 39.2344 62.25\n",
       "Q35.1562 65.9219 28.6094 65.9219\n",
       "Q23.9688 65.9219 18.8125 64.3125\n",
       "Q13.6719 62.7031 7.8125 59.4219\n",
       "L7.8125 69.3906\n",
       "Q13.7656 71.7812 18.9375 73\n",
       "Q24.125 74.2188 28.4219 74.2188\n",
       "Q39.75 74.2188 46.4844 68.5469\n",
       "Q53.2188 62.8906 53.2188 53.4219\n",
       "Q53.2188 48.9219 51.5312 44.8906\n",
       "Q49.8594 40.875 45.4062 35.4062\n",
       "Q44.1875 33.9844 37.6406 27.2188\n",
       "Q31.1094 20.4531 19.1875 8.29688\" id=\"BitstreamVeraSans-Roman-32\"/>\n",
       "      </defs>\n",
       "      <g transform=\"translate(244.250107759 472.00703125)rotate(-90.0)scale(0.1 -0.1)\">\n",
       "       <use xlink:href=\"#BitstreamVeraSans-Roman-31\"/>\n",
       "       <use x=\"63.623046875\" xlink:href=\"#BitstreamVeraSans-Roman-32\"/>\n",
       "      </g>\n",
       "     </g>\n",
       "    </g>\n",
       "    <g id=\"xtick_4\">\n",
       "     <g id=\"line2d_11\">\n",
       "      <path clip-path=\"url(#p990701f485)\" d=\"\n",
       "M317.505 457.382\n",
       "L317.505 10.982\" style=\"fill:none;stroke:#000000;stroke-dasharray:1.000000,3.000000;stroke-dashoffset:0.0;stroke-linecap:butt;stroke-width:0.5;\"/>\n",
       "     </g>\n",
       "     <g id=\"line2d_12\">\n",
       "      <defs>\n",
       "       <path d=\"\n",
       "M0 0\n",
       "L0 -4\" id=\"m29f7fa3b21\"/>\n",
       "      </defs>\n",
       "      <g>\n",
       "       <use style=\"stroke:#000000;stroke-linecap:butt;stroke-width:0.5;\" x=\"317.5046875\" xlink:href=\"#m29f7fa3b21\" y=\"457.38203125\"/>\n",
       "      </g>\n",
       "     </g>\n",
       "     <g id=\"line2d_13\">\n",
       "      <defs>\n",
       "       <path d=\"\n",
       "M0 0\n",
       "L0 4\" id=\"md0fc6de9e5\"/>\n",
       "      </defs>\n",
       "      <g>\n",
       "       <use style=\"stroke:#000000;stroke-linecap:butt;stroke-width:0.5;\" x=\"317.5046875\" xlink:href=\"#md0fc6de9e5\" y=\"10.98203125\"/>\n",
       "      </g>\n",
       "     </g>\n",
       "     <g id=\"text_4\">\n",
       "      <!-- 13 -->\n",
       "      <defs>\n",
       "       <path d=\"\n",
       "M40.5781 39.3125\n",
       "Q47.6562 37.7969 51.625 33\n",
       "Q55.6094 28.2188 55.6094 21.1875\n",
       "Q55.6094 10.4062 48.1875 4.48438\n",
       "Q40.7656 -1.42188 27.0938 -1.42188\n",
       "Q22.5156 -1.42188 17.6562 -0.515625\n",
       "Q12.7969 0.390625 7.625 2.20312\n",
       "L7.625 11.7188\n",
       "Q11.7188 9.32812 16.5938 8.10938\n",
       "Q21.4844 6.89062 26.8125 6.89062\n",
       "Q36.0781 6.89062 40.9375 10.5469\n",
       "Q45.7969 14.2031 45.7969 21.1875\n",
       "Q45.7969 27.6406 41.2812 31.2656\n",
       "Q36.7656 34.9062 28.7188 34.9062\n",
       "L20.2188 34.9062\n",
       "L20.2188 43.0156\n",
       "L29.1094 43.0156\n",
       "Q36.375 43.0156 40.2344 45.9219\n",
       "Q44.0938 48.8281 44.0938 54.2969\n",
       "Q44.0938 59.9062 40.1094 62.9062\n",
       "Q36.1406 65.9219 28.7188 65.9219\n",
       "Q24.6562 65.9219 20.0156 65.0312\n",
       "Q15.375 64.1562 9.8125 62.3125\n",
       "L9.8125 71.0938\n",
       "Q15.4375 72.6562 20.3438 73.4375\n",
       "Q25.25 74.2188 29.5938 74.2188\n",
       "Q40.8281 74.2188 47.3594 69.1094\n",
       "Q53.9062 64.0156 53.9062 55.3281\n",
       "Q53.9062 49.2656 50.4375 45.0938\n",
       "Q46.9688 40.9219 40.5781 39.3125\" id=\"BitstreamVeraSans-Roman-33\"/>\n",
       "      </defs>\n",
       "      <g transform=\"translate(321.28671875 472.06484375)rotate(-90.0)scale(0.1 -0.1)\">\n",
       "       <use xlink:href=\"#BitstreamVeraSans-Roman-31\"/>\n",
       "       <use x=\"63.623046875\" xlink:href=\"#BitstreamVeraSans-Roman-33\"/>\n",
       "      </g>\n",
       "     </g>\n",
       "    </g>\n",
       "    <g id=\"xtick_5\">\n",
       "     <g id=\"line2d_14\">\n",
       "      <path clip-path=\"url(#p990701f485)\" d=\"\n",
       "M394.47 457.382\n",
       "L394.47 10.982\" style=\"fill:none;stroke:#000000;stroke-dasharray:1.000000,3.000000;stroke-dashoffset:0.0;stroke-linecap:butt;stroke-width:0.5;\"/>\n",
       "     </g>\n",
       "     <g id=\"line2d_15\">\n",
       "      <defs>\n",
       "       <path d=\"\n",
       "M0 0\n",
       "L0 -4\" id=\"m29f7fa3b21\"/>\n",
       "      </defs>\n",
       "      <g>\n",
       "       <use style=\"stroke:#000000;stroke-linecap:butt;stroke-width:0.5;\" x=\"394.470204741\" xlink:href=\"#m29f7fa3b21\" y=\"457.38203125\"/>\n",
       "      </g>\n",
       "     </g>\n",
       "     <g id=\"line2d_16\">\n",
       "      <defs>\n",
       "       <path d=\"\n",
       "M0 0\n",
       "L0 4\" id=\"md0fc6de9e5\"/>\n",
       "      </defs>\n",
       "      <g>\n",
       "       <use style=\"stroke:#000000;stroke-linecap:butt;stroke-width:0.5;\" x=\"394.470204741\" xlink:href=\"#md0fc6de9e5\" y=\"10.98203125\"/>\n",
       "      </g>\n",
       "     </g>\n",
       "     <g id=\"text_5\">\n",
       "      <!-- 14 -->\n",
       "      <defs>\n",
       "       <path d=\"\n",
       "M37.7969 64.3125\n",
       "L12.8906 25.3906\n",
       "L37.7969 25.3906\n",
       "z\n",
       "\n",
       "M35.2031 72.9062\n",
       "L47.6094 72.9062\n",
       "L47.6094 25.3906\n",
       "L58.0156 25.3906\n",
       "L58.0156 17.1875\n",
       "L47.6094 17.1875\n",
       "L47.6094 0\n",
       "L37.7969 0\n",
       "L37.7969 17.1875\n",
       "L4.89062 17.1875\n",
       "L4.89062 26.7031\n",
       "z\n",
       "\" id=\"BitstreamVeraSans-Roman-34\"/>\n",
       "      </defs>\n",
       "      <g transform=\"translate(398.115517241 472.44765625)rotate(-90.0)scale(0.1 -0.1)\">\n",
       "       <use xlink:href=\"#BitstreamVeraSans-Roman-31\"/>\n",
       "       <use x=\"63.623046875\" xlink:href=\"#BitstreamVeraSans-Roman-34\"/>\n",
       "      </g>\n",
       "     </g>\n",
       "    </g>\n",
       "    <g id=\"xtick_6\">\n",
       "     <g id=\"line2d_17\">\n",
       "      <path clip-path=\"url(#p990701f485)\" d=\"\n",
       "M471.436 457.382\n",
       "L471.436 10.982\" style=\"fill:none;stroke:#000000;stroke-dasharray:1.000000,3.000000;stroke-dashoffset:0.0;stroke-linecap:butt;stroke-width:0.5;\"/>\n",
       "     </g>\n",
       "     <g id=\"line2d_18\">\n",
       "      <defs>\n",
       "       <path d=\"\n",
       "M0 0\n",
       "L0 -4\" id=\"m29f7fa3b21\"/>\n",
       "      </defs>\n",
       "      <g>\n",
       "       <use style=\"stroke:#000000;stroke-linecap:butt;stroke-width:0.5;\" x=\"471.435721983\" xlink:href=\"#m29f7fa3b21\" y=\"457.38203125\"/>\n",
       "      </g>\n",
       "     </g>\n",
       "     <g id=\"line2d_19\">\n",
       "      <defs>\n",
       "       <path d=\"\n",
       "M0 0\n",
       "L0 4\" id=\"md0fc6de9e5\"/>\n",
       "      </defs>\n",
       "      <g>\n",
       "       <use style=\"stroke:#000000;stroke-linecap:butt;stroke-width:0.5;\" x=\"471.435721983\" xlink:href=\"#md0fc6de9e5\" y=\"10.98203125\"/>\n",
       "      </g>\n",
       "     </g>\n",
       "     <g id=\"text_6\">\n",
       "      <!-- 15 -->\n",
       "      <defs>\n",
       "       <path d=\"\n",
       "M10.7969 72.9062\n",
       "L49.5156 72.9062\n",
       "L49.5156 64.5938\n",
       "L19.8281 64.5938\n",
       "L19.8281 46.7344\n",
       "Q21.9688 47.4688 24.1094 47.8281\n",
       "Q26.2656 48.1875 28.4219 48.1875\n",
       "Q40.625 48.1875 47.75 41.5\n",
       "Q54.8906 34.8125 54.8906 23.3906\n",
       "Q54.8906 11.625 47.5625 5.09375\n",
       "Q40.2344 -1.42188 26.9062 -1.42188\n",
       "Q22.3125 -1.42188 17.5469 -0.640625\n",
       "Q12.7969 0.140625 7.71875 1.70312\n",
       "L7.71875 11.625\n",
       "Q12.1094 9.23438 16.7969 8.0625\n",
       "Q21.4844 6.89062 26.7031 6.89062\n",
       "Q35.1562 6.89062 40.0781 11.3281\n",
       "Q45.0156 15.7656 45.0156 23.3906\n",
       "Q45.0156 31 40.0781 35.4375\n",
       "Q35.1562 39.8906 26.7031 39.8906\n",
       "Q22.75 39.8906 18.8125 39.0156\n",
       "Q14.8906 38.1406 10.7969 36.2812\n",
       "z\n",
       "\" id=\"BitstreamVeraSans-Roman-35\"/>\n",
       "      </defs>\n",
       "      <g transform=\"translate(475.152128233 471.99296875)rotate(-90.0)scale(0.1 -0.1)\">\n",
       "       <use xlink:href=\"#BitstreamVeraSans-Roman-31\"/>\n",
       "       <use x=\"63.623046875\" xlink:href=\"#BitstreamVeraSans-Roman-35\"/>\n",
       "      </g>\n",
       "     </g>\n",
       "    </g>\n",
       "    <g id=\"xtick_7\">\n",
       "     <g id=\"line2d_20\">\n",
       "      <path clip-path=\"url(#p990701f485)\" d=\"\n",
       "M548.401 457.382\n",
       "L548.401 10.982\" style=\"fill:none;stroke:#000000;stroke-dasharray:1.000000,3.000000;stroke-dashoffset:0.0;stroke-linecap:butt;stroke-width:0.5;\"/>\n",
       "     </g>\n",
       "     <g id=\"line2d_21\">\n",
       "      <defs>\n",
       "       <path d=\"\n",
       "M0 0\n",
       "L0 -4\" id=\"m29f7fa3b21\"/>\n",
       "      </defs>\n",
       "      <g>\n",
       "       <use style=\"stroke:#000000;stroke-linecap:butt;stroke-width:0.5;\" x=\"548.401239224\" xlink:href=\"#m29f7fa3b21\" y=\"457.38203125\"/>\n",
       "      </g>\n",
       "     </g>\n",
       "     <g id=\"line2d_22\">\n",
       "      <defs>\n",
       "       <path d=\"\n",
       "M0 0\n",
       "L0 4\" id=\"md0fc6de9e5\"/>\n",
       "      </defs>\n",
       "      <g>\n",
       "       <use style=\"stroke:#000000;stroke-linecap:butt;stroke-width:0.5;\" x=\"548.401239224\" xlink:href=\"#md0fc6de9e5\" y=\"10.98203125\"/>\n",
       "      </g>\n",
       "     </g>\n",
       "     <g id=\"text_7\">\n",
       "      <!-- 16 -->\n",
       "      <defs>\n",
       "       <path d=\"\n",
       "M33.0156 40.375\n",
       "Q26.375 40.375 22.4844 35.8281\n",
       "Q18.6094 31.2969 18.6094 23.3906\n",
       "Q18.6094 15.5312 22.4844 10.9531\n",
       "Q26.375 6.39062 33.0156 6.39062\n",
       "Q39.6562 6.39062 43.5312 10.9531\n",
       "Q47.4062 15.5312 47.4062 23.3906\n",
       "Q47.4062 31.2969 43.5312 35.8281\n",
       "Q39.6562 40.375 33.0156 40.375\n",
       "M52.5938 71.2969\n",
       "L52.5938 62.3125\n",
       "Q48.875 64.0625 45.0938 64.9844\n",
       "Q41.3125 65.9219 37.5938 65.9219\n",
       "Q27.8281 65.9219 22.6719 59.3281\n",
       "Q17.5312 52.7344 16.7969 39.4062\n",
       "Q19.6719 43.6562 24.0156 45.9219\n",
       "Q28.375 48.1875 33.5938 48.1875\n",
       "Q44.5781 48.1875 50.9531 41.5156\n",
       "Q57.3281 34.8594 57.3281 23.3906\n",
       "Q57.3281 12.1562 50.6875 5.35938\n",
       "Q44.0469 -1.42188 33.0156 -1.42188\n",
       "Q20.3594 -1.42188 13.6719 8.26562\n",
       "Q6.98438 17.9688 6.98438 36.375\n",
       "Q6.98438 53.6562 15.1875 63.9375\n",
       "Q23.3906 74.2188 37.2031 74.2188\n",
       "Q40.9219 74.2188 44.7031 73.4844\n",
       "Q48.4844 72.75 52.5938 71.2969\" id=\"BitstreamVeraSans-Roman-36\"/>\n",
       "      </defs>\n",
       "      <g transform=\"translate(552.183270474 472.23671875)rotate(-90.0)scale(0.1 -0.1)\">\n",
       "       <use xlink:href=\"#BitstreamVeraSans-Roman-31\"/>\n",
       "       <use x=\"63.623046875\" xlink:href=\"#BitstreamVeraSans-Roman-36\"/>\n",
       "      </g>\n",
       "     </g>\n",
       "    </g>\n",
       "   </g>\n",
       "   <g id=\"matplotlib.axis_2\">\n",
       "    <g id=\"ytick_1\">\n",
       "     <g id=\"line2d_23\">\n",
       "      <path clip-path=\"url(#p990701f485)\" d=\"\n",
       "M38.5047 457.382\n",
       "L596.505 457.382\" style=\"fill:none;stroke:#000000;stroke-dasharray:1.000000,3.000000;stroke-dashoffset:0.0;stroke-linecap:butt;stroke-width:0.5;\"/>\n",
       "     </g>\n",
       "     <g id=\"line2d_24\">\n",
       "      <defs>\n",
       "       <path d=\"\n",
       "M0 0\n",
       "L4 0\" id=\"mf3cb6a75f1\"/>\n",
       "      </defs>\n",
       "      <g>\n",
       "       <use style=\"stroke:#000000;stroke-linecap:butt;stroke-width:0.5;\" x=\"38.5046875\" xlink:href=\"#mf3cb6a75f1\" y=\"457.38203125\"/>\n",
       "      </g>\n",
       "     </g>\n",
       "     <g id=\"line2d_25\">\n",
       "      <defs>\n",
       "       <path d=\"\n",
       "M0 0\n",
       "L-4 0\" id=\"mcb8f5e803c\"/>\n",
       "      </defs>\n",
       "      <g>\n",
       "       <use style=\"stroke:#000000;stroke-linecap:butt;stroke-width:0.5;\" x=\"596.5046875\" xlink:href=\"#mcb8f5e803c\" y=\"457.38203125\"/>\n",
       "      </g>\n",
       "     </g>\n",
       "     <g id=\"text_8\">\n",
       "      <!-- 0.000 -->\n",
       "      <defs>\n",
       "       <path d=\"\n",
       "M10.6875 12.4062\n",
       "L21 12.4062\n",
       "L21 0\n",
       "L10.6875 0\n",
       "z\n",
       "\" id=\"BitstreamVeraSans-Roman-2e\"/>\n",
       "      </defs>\n",
       "      <g transform=\"translate(7.2 461.021875)scale(0.1 -0.1)\">\n",
       "       <use xlink:href=\"#BitstreamVeraSans-Roman-30\"/>\n",
       "       <use x=\"63.623046875\" xlink:href=\"#BitstreamVeraSans-Roman-2e\"/>\n",
       "       <use x=\"95.41015625\" xlink:href=\"#BitstreamVeraSans-Roman-30\"/>\n",
       "       <use x=\"159.033203125\" xlink:href=\"#BitstreamVeraSans-Roman-30\"/>\n",
       "       <use x=\"222.65625\" xlink:href=\"#BitstreamVeraSans-Roman-30\"/>\n",
       "      </g>\n",
       "     </g>\n",
       "    </g>\n",
       "    <g id=\"ytick_2\">\n",
       "     <g id=\"line2d_26\">\n",
       "      <path clip-path=\"url(#p990701f485)\" d=\"\n",
       "M38.5047 345.782\n",
       "L596.505 345.782\" style=\"fill:none;stroke:#000000;stroke-dasharray:1.000000,3.000000;stroke-dashoffset:0.0;stroke-linecap:butt;stroke-width:0.5;\"/>\n",
       "     </g>\n",
       "     <g id=\"line2d_27\">\n",
       "      <defs>\n",
       "       <path d=\"\n",
       "M0 0\n",
       "L4 0\" id=\"mf3cb6a75f1\"/>\n",
       "      </defs>\n",
       "      <g>\n",
       "       <use style=\"stroke:#000000;stroke-linecap:butt;stroke-width:0.5;\" x=\"38.5046875\" xlink:href=\"#mf3cb6a75f1\" y=\"345.78203125\"/>\n",
       "      </g>\n",
       "     </g>\n",
       "     <g id=\"line2d_28\">\n",
       "      <defs>\n",
       "       <path d=\"\n",
       "M0 0\n",
       "L-4 0\" id=\"mcb8f5e803c\"/>\n",
       "      </defs>\n",
       "      <g>\n",
       "       <use style=\"stroke:#000000;stroke-linecap:butt;stroke-width:0.5;\" x=\"596.5046875\" xlink:href=\"#mcb8f5e803c\" y=\"345.78203125\"/>\n",
       "      </g>\n",
       "     </g>\n",
       "     <g id=\"text_9\">\n",
       "      <!-- 0.005 -->\n",
       "      <g transform=\"translate(7.409375 349.421875)scale(0.1 -0.1)\">\n",
       "       <use xlink:href=\"#BitstreamVeraSans-Roman-30\"/>\n",
       "       <use x=\"63.623046875\" xlink:href=\"#BitstreamVeraSans-Roman-2e\"/>\n",
       "       <use x=\"95.41015625\" xlink:href=\"#BitstreamVeraSans-Roman-30\"/>\n",
       "       <use x=\"159.033203125\" xlink:href=\"#BitstreamVeraSans-Roman-30\"/>\n",
       "       <use x=\"222.65625\" xlink:href=\"#BitstreamVeraSans-Roman-35\"/>\n",
       "      </g>\n",
       "     </g>\n",
       "    </g>\n",
       "    <g id=\"ytick_3\">\n",
       "     <g id=\"line2d_29\">\n",
       "      <path clip-path=\"url(#p990701f485)\" d=\"\n",
       "M38.5047 234.182\n",
       "L596.505 234.182\" style=\"fill:none;stroke:#000000;stroke-dasharray:1.000000,3.000000;stroke-dashoffset:0.0;stroke-linecap:butt;stroke-width:0.5;\"/>\n",
       "     </g>\n",
       "     <g id=\"line2d_30\">\n",
       "      <defs>\n",
       "       <path d=\"\n",
       "M0 0\n",
       "L4 0\" id=\"mf3cb6a75f1\"/>\n",
       "      </defs>\n",
       "      <g>\n",
       "       <use style=\"stroke:#000000;stroke-linecap:butt;stroke-width:0.5;\" x=\"38.5046875\" xlink:href=\"#mf3cb6a75f1\" y=\"234.18203125\"/>\n",
       "      </g>\n",
       "     </g>\n",
       "     <g id=\"line2d_31\">\n",
       "      <defs>\n",
       "       <path d=\"\n",
       "M0 0\n",
       "L-4 0\" id=\"mcb8f5e803c\"/>\n",
       "      </defs>\n",
       "      <g>\n",
       "       <use style=\"stroke:#000000;stroke-linecap:butt;stroke-width:0.5;\" x=\"596.5046875\" xlink:href=\"#mcb8f5e803c\" y=\"234.18203125\"/>\n",
       "      </g>\n",
       "     </g>\n",
       "     <g id=\"text_10\">\n",
       "      <!-- 0.010 -->\n",
       "      <g transform=\"translate(7.2 237.821875)scale(0.1 -0.1)\">\n",
       "       <use xlink:href=\"#BitstreamVeraSans-Roman-30\"/>\n",
       "       <use x=\"63.623046875\" xlink:href=\"#BitstreamVeraSans-Roman-2e\"/>\n",
       "       <use x=\"95.41015625\" xlink:href=\"#BitstreamVeraSans-Roman-30\"/>\n",
       "       <use x=\"159.033203125\" xlink:href=\"#BitstreamVeraSans-Roman-31\"/>\n",
       "       <use x=\"222.65625\" xlink:href=\"#BitstreamVeraSans-Roman-30\"/>\n",
       "      </g>\n",
       "     </g>\n",
       "    </g>\n",
       "    <g id=\"ytick_4\">\n",
       "     <g id=\"line2d_32\">\n",
       "      <path clip-path=\"url(#p990701f485)\" d=\"\n",
       "M38.5047 122.582\n",
       "L596.505 122.582\" style=\"fill:none;stroke:#000000;stroke-dasharray:1.000000,3.000000;stroke-dashoffset:0.0;stroke-linecap:butt;stroke-width:0.5;\"/>\n",
       "     </g>\n",
       "     <g id=\"line2d_33\">\n",
       "      <defs>\n",
       "       <path d=\"\n",
       "M0 0\n",
       "L4 0\" id=\"mf3cb6a75f1\"/>\n",
       "      </defs>\n",
       "      <g>\n",
       "       <use style=\"stroke:#000000;stroke-linecap:butt;stroke-width:0.5;\" x=\"38.5046875\" xlink:href=\"#mf3cb6a75f1\" y=\"122.58203125\"/>\n",
       "      </g>\n",
       "     </g>\n",
       "     <g id=\"line2d_34\">\n",
       "      <defs>\n",
       "       <path d=\"\n",
       "M0 0\n",
       "L-4 0\" id=\"mcb8f5e803c\"/>\n",
       "      </defs>\n",
       "      <g>\n",
       "       <use style=\"stroke:#000000;stroke-linecap:butt;stroke-width:0.5;\" x=\"596.5046875\" xlink:href=\"#mcb8f5e803c\" y=\"122.58203125\"/>\n",
       "      </g>\n",
       "     </g>\n",
       "     <g id=\"text_11\">\n",
       "      <!-- 0.015 -->\n",
       "      <g transform=\"translate(7.409375 126.221875)scale(0.1 -0.1)\">\n",
       "       <use xlink:href=\"#BitstreamVeraSans-Roman-30\"/>\n",
       "       <use x=\"63.623046875\" xlink:href=\"#BitstreamVeraSans-Roman-2e\"/>\n",
       "       <use x=\"95.41015625\" xlink:href=\"#BitstreamVeraSans-Roman-30\"/>\n",
       "       <use x=\"159.033203125\" xlink:href=\"#BitstreamVeraSans-Roman-31\"/>\n",
       "       <use x=\"222.65625\" xlink:href=\"#BitstreamVeraSans-Roman-35\"/>\n",
       "      </g>\n",
       "     </g>\n",
       "    </g>\n",
       "    <g id=\"ytick_5\">\n",
       "     <g id=\"line2d_35\">\n",
       "      <path clip-path=\"url(#p990701f485)\" d=\"\n",
       "M38.5047 10.982\n",
       "L596.505 10.982\" style=\"fill:none;stroke:#000000;stroke-dasharray:1.000000,3.000000;stroke-dashoffset:0.0;stroke-linecap:butt;stroke-width:0.5;\"/>\n",
       "     </g>\n",
       "     <g id=\"line2d_36\">\n",
       "      <defs>\n",
       "       <path d=\"\n",
       "M0 0\n",
       "L4 0\" id=\"mf3cb6a75f1\"/>\n",
       "      </defs>\n",
       "      <g>\n",
       "       <use style=\"stroke:#000000;stroke-linecap:butt;stroke-width:0.5;\" x=\"38.5046875\" xlink:href=\"#mf3cb6a75f1\" y=\"10.98203125\"/>\n",
       "      </g>\n",
       "     </g>\n",
       "     <g id=\"line2d_37\">\n",
       "      <defs>\n",
       "       <path d=\"\n",
       "M0 0\n",
       "L-4 0\" id=\"mcb8f5e803c\"/>\n",
       "      </defs>\n",
       "      <g>\n",
       "       <use style=\"stroke:#000000;stroke-linecap:butt;stroke-width:0.5;\" x=\"596.5046875\" xlink:href=\"#mcb8f5e803c\" y=\"10.98203125\"/>\n",
       "      </g>\n",
       "     </g>\n",
       "     <g id=\"text_12\">\n",
       "      <!-- 0.020 -->\n",
       "      <g transform=\"translate(7.2 14.621875)scale(0.1 -0.1)\">\n",
       "       <use xlink:href=\"#BitstreamVeraSans-Roman-30\"/>\n",
       "       <use x=\"63.623046875\" xlink:href=\"#BitstreamVeraSans-Roman-2e\"/>\n",
       "       <use x=\"95.41015625\" xlink:href=\"#BitstreamVeraSans-Roman-30\"/>\n",
       "       <use x=\"159.033203125\" xlink:href=\"#BitstreamVeraSans-Roman-32\"/>\n",
       "       <use x=\"222.65625\" xlink:href=\"#BitstreamVeraSans-Roman-30\"/>\n",
       "      </g>\n",
       "     </g>\n",
       "    </g>\n",
       "   </g>\n",
       "   <g id=\"patch_10\">\n",
       "    <path d=\"\n",
       "M38.5047 10.982\n",
       "L596.505 10.982\" style=\"fill:none;stroke:#000000;\"/>\n",
       "   </g>\n",
       "   <g id=\"patch_11\">\n",
       "    <path d=\"\n",
       "M596.505 457.382\n",
       "L596.505 10.982\" style=\"fill:none;stroke:#000000;\"/>\n",
       "   </g>\n",
       "   <g id=\"patch_12\">\n",
       "    <path d=\"\n",
       "M38.5047 457.382\n",
       "L596.505 457.382\" style=\"fill:none;stroke:#000000;\"/>\n",
       "   </g>\n",
       "   <g id=\"patch_13\">\n",
       "    <path d=\"\n",
       "M38.5047 457.382\n",
       "L38.5047 10.982\" style=\"fill:none;stroke:#000000;\"/>\n",
       "   </g>\n",
       "  </g>\n",
       " </g>\n",
       " <defs>\n",
       "  <clipPath id=\"p990701f485\">\n",
       "   <rect height=\"446.4\" width=\"558.0\" x=\"38.5046875\" y=\"10.98203125\"/>\n",
       "  </clipPath>\n",
       " </defs>\n",
       "</svg>\n"
      ],
      "text/plain": [
       "<matplotlib.figure.Figure at 0x10ffdc990>"
      ]
     },
     "metadata": {},
     "output_type": "display_data"
    }
   ],
   "source": [
    "hourly_volume.plot(kind='bar')"
   ]
  },
  {
   "cell_type": "markdown",
   "metadata": {},
   "source": [
    "Expanding window of hourly means for volume"
   ]
  },
  {
   "cell_type": "code",
   "execution_count": 40,
   "metadata": {},
   "outputs": [
    {
     "data": {
      "text/plain": [
       "Timestamp\n",
       "2011-11-01 10:00:00    0.000115\n",
       "2011-11-01 11:00:00    0.002510\n",
       "2011-11-01 12:00:00    0.001253\n",
       "2011-11-01 13:00:00    0.000628\n",
       "2011-11-01 14:00:00    0.003013\n",
       "2011-11-01 15:00:00    0.004419\n",
       "2011-11-02 10:00:00    0.000742\n",
       "2011-11-02 11:00:00    0.002986\n",
       "2011-11-02 12:00:00    0.002283\n",
       "2011-11-02 13:00:00    0.001088\n",
       "2011-11-02 14:00:00    0.002224\n",
       "2011-11-02 15:00:00    0.003979\n",
       "2011-11-03 10:00:00    0.000495\n",
       "2011-11-03 11:00:00    0.002537\n",
       "2011-11-03 12:00:00    0.002102\n",
       "2011-11-03 13:00:00    0.002193\n",
       "2011-11-03 14:00:00    0.003233\n",
       "2011-11-03 15:00:00    0.003228"
      ]
     },
     "execution_count": 40,
     "metadata": {},
     "output_type": "execute_result"
    }
   ],
   "source": [
    "hourly = vol.resample('H')\n",
    "\n",
    "def calc_mean(hr):\n",
    "    hr = time(hour=hr)\n",
    "    data = hourly.at_time(hr)\n",
    "    return pd.expanding_mean(data)\n",
    "\n",
    "df = pd.concat([calc_mean(hr) for hr in range(10, 16)])\n",
    "df = df.sort_index()\n",
    "df"
   ]
  },
  {
   "cell_type": "markdown",
   "metadata": {},
   "source": [
    "Compute deviations from the hourly means"
   ]
  },
  {
   "cell_type": "code",
   "execution_count": 41,
   "metadata": {},
   "outputs": [
    {
     "data": {
      "text/plain": [
       "Timestamp\n",
       "2011-11-01 10:00:00    0.000000\n",
       "2011-11-01 10:01:00    0.010658\n",
       "2011-11-01 10:02:00    0.038509\n",
       "2011-11-01 10:03:00    0.001033\n",
       "2011-11-01 10:04:00    0.001091\n",
       "2011-11-01 10:05:00    0.001205\n",
       "2011-11-01 10:06:00    0.006492\n",
       "2011-11-01 10:07:00    0.001909\n",
       "2011-11-01 10:08:00    0.000307\n",
       "2011-11-01 10:09:00    0.000520\n",
       "2011-11-01 10:10:00    0.000918\n",
       "2011-11-01 10:11:00    0.000895\n",
       "2011-11-01 10:12:00    0.001585\n",
       "2011-11-01 10:13:00    0.001205\n",
       "2011-11-01 10:14:00    0.003225\n",
       "...\n",
       "2011-11-03 15:45:00   -0.002881\n",
       "2011-11-03 15:46:00   -0.002411\n",
       "2011-11-03 15:47:00   -0.002708\n",
       "2011-11-03 15:48:00   -0.002881\n",
       "2011-11-03 15:49:00   -0.001083\n",
       "2011-11-03 15:50:00   -0.003228\n",
       "2011-11-03 15:51:00   -0.001469\n",
       "2011-11-03 15:52:00   -0.003054\n",
       "2011-11-03 15:53:00   -0.003054\n",
       "2011-11-03 15:54:00   -0.003054\n",
       "2011-11-03 15:55:00   -0.002303\n",
       "2011-11-03 15:56:00    0.012786\n",
       "2011-11-03 15:57:00   -0.003054\n",
       "2011-11-03 15:58:00   -0.002521\n",
       "2011-11-03 15:59:00   -0.000219\n",
       "Length: 1080"
      ]
     },
     "execution_count": 41,
     "metadata": {},
     "output_type": "execute_result"
    }
   ],
   "source": [
    "clean_vol = vol.between_time('10:00', '15:59')\n",
    "dev = clean_vol - df.reindex(clean_vol.index, method='pad') # be careful over day boundaries\n",
    "dev"
   ]
  },
  {
   "cell_type": "code",
   "execution_count": 42,
   "metadata": {},
   "outputs": [
    {
     "data": {
      "text/plain": [
       "\n",
       "-------------------------Summary of Regression Analysis-------------------------\n",
       "\n",
       "Formula: Y ~ <x> + <intercept>\n",
       "\n",
       "Number of Observations:         919\n",
       "Number of Degrees of Freedom:   2\n",
       "\n",
       "R-squared:         0.0059\n",
       "Adj R-squared:     0.0048\n",
       "\n",
       "Rmse:              0.0001\n",
       "\n",
       "F-stat (1, 917):     5.3977, p-value:     0.0204\n",
       "\n",
       "Degrees of Freedom: model 1, resid 917\n",
       "\n",
       "-----------------------Summary of Estimated Coefficients------------------------\n",
       "      Variable       Coef    Std Err     t-stat    p-value    CI 2.5%   CI 97.5%\n",
       "--------------------------------------------------------------------------------\n",
       "             x    -4.6532     2.0029      -2.32     0.0204    -8.5789    -0.7276\n",
       "     intercept     0.0000     0.0000       0.97     0.3299    -0.0000     0.0000\n",
       "---------------------------------End of Summary---------------------------------\n"
      ]
     },
     "execution_count": 42,
     "metadata": {},
     "output_type": "execute_result"
    }
   ],
   "source": [
    "inter = mr * dev\n",
    "inter = inter.between_time('10:00', '15:59')\n",
    "pd.ols(y=mr, x=inter.tshift(1, 'min'))"
   ]
  },
  {
   "cell_type": "markdown",
   "metadata": {},
   "source": [
    "###Date range creation"
   ]
  },
  {
   "cell_type": "markdown",
   "metadata": {},
   "source": [
    "`pd.date_range`"
   ]
  },
  {
   "cell_type": "code",
   "execution_count": 43,
   "metadata": {},
   "outputs": [
    {
     "data": {
      "text/plain": [
       "<class 'pandas.tseries.index.DatetimeIndex'>\n",
       "[2005-10-31 00:00:00, ..., 2012-09-30 00:00:00]\n",
       "Length: 84, Freq: M, Timezone: None"
      ]
     },
     "execution_count": 43,
     "metadata": {},
     "output_type": "execute_result"
    }
   ],
   "source": [
    "rng = pd.date_range('2005', '2012', freq='M')\n",
    "rng"
   ]
  },
  {
   "cell_type": "code",
   "execution_count": 44,
   "metadata": {},
   "outputs": [
    {
     "data": {
      "text/plain": [
       "<class 'pandas.tseries.index.DatetimeIndex'>\n",
       "[2005-10-31 00:00:00, ..., 2012-09-30 00:00:00]\n",
       "Length: 84, Freq: M, Timezone: None"
      ]
     },
     "execution_count": 44,
     "metadata": {},
     "output_type": "execute_result"
    }
   ],
   "source": [
    "pd.date_range('2005', periods=7*12, freq='M')"
   ]
  },
  {
   "cell_type": "code",
   "execution_count": 45,
   "metadata": {},
   "outputs": [
    {
     "data": {
      "text/plain": [
       "<class 'pandas.tseries.index.DatetimeIndex'>\n",
       "[2005-10-31 00:00:00, ..., 2012-09-30 00:00:00]\n",
       "Length: 84, Freq: M, Timezone: None"
      ]
     },
     "execution_count": 45,
     "metadata": {},
     "output_type": "execute_result"
    }
   ],
   "source": [
    "pd.date_range(end='2012', periods=7*12, freq='M')"
   ]
  },
  {
   "cell_type": "markdown",
   "metadata": {},
   "source": [
    "#### Frequency constants\n",
    "\n",
    "<table>\n",
    "    <tr><td>Name</td><td>Description</td></tr>\n",
    "    <tr><td>D</td><td>Calendar day</td></tr>\n",
    "    <tr><td>B</td><td>Business day</td></tr>\n",
    "    <tr><td>M</td><td>Calendar end of month</td></tr>\n",
    "    <tr><td>MS</td><td>Calendar start of month</td></tr>\n",
    "    <tr><td>BM</td><td>Business end of month</td></tr>\n",
    "    <tr><td>BMS</td><td>Business start of month</td></tr>\n",
    "    <tr><td>W-{MON, TUE,...}</td><td>Week ending on Monday, Tuesday, ...</td></tr>\n",
    "    <tr><td>Q-{JAN, FEB,...}</td><td>Quarter end with year ending January, February...</td></tr>\n",
    "    <tr><td>QS-{JAN, FEB,...}</td><td>Quarter start with year ending January, February...</td></tr>\n",
    "    <tr><td>BQ-{JAN, FEB,...}</td><td>Business quarter end with year ending January, February...</td></tr>\n",
    "    <tr><td>BQS-{JAN, FEB,...}</td><td>Business quarter start with year ending January, February...</td></tr>\n",
    "    <tr><td>A-{JAN, FEB, ...}</td><td>Year end (December)</td></tr>\n",
    "    <tr><td>AS-{JAN, FEB, ...}</td><td>Year start (December)</td></tr>    \n",
    "    <tr><td>BA-{JAN, FEB, ...}</td><td>Business year end (December)</td></tr>  \n",
    "    <tr><td>BAS-{JAN, FEB, ...}</td><td>Business year start (December)</td></tr>  \n",
    "    <tr><td>H</td><td>Hour</td></tr>\n",
    "    <tr><td>T</td><td>Minute</td></tr>\n",
    "    <tr><td>s</td><td>Second</td></tr>\n",
    "    <tr><td>L, ms</td><td>Millisecond</td></tr>\n",
    "    <tr><td>U</td><td>Microsecond</td></tr>\n",
    "</table>"
   ]
  },
  {
   "cell_type": "markdown",
   "metadata": {},
   "source": [
    "Anchored offsets"
   ]
  },
  {
   "cell_type": "code",
   "execution_count": 46,
   "metadata": {},
   "outputs": [
    {
     "data": {
      "text/plain": [
       "<class 'pandas.tseries.index.DatetimeIndex'>\n",
       "[2005-12-31 00:00:00, ..., 2006-09-30 00:00:00]\n",
       "Length: 4, Freq: Q-DEC, Timezone: None"
      ]
     },
     "execution_count": 46,
     "metadata": {},
     "output_type": "execute_result"
    }
   ],
   "source": [
    "pd.date_range('2005', periods=4, freq='Q')"
   ]
  },
  {
   "cell_type": "code",
   "execution_count": 47,
   "metadata": {},
   "outputs": [
    {
     "data": {
      "text/plain": [
       "<class 'pandas.tseries.index.DatetimeIndex'>\n",
       "[2005-11-30 00:00:00, ..., 2006-08-31 00:00:00]\n",
       "Length: 4, Freq: Q-NOV, Timezone: None"
      ]
     },
     "execution_count": 47,
     "metadata": {},
     "output_type": "execute_result"
    }
   ],
   "source": [
    "pd.date_range('2005', periods=4, freq='Q-NOV')"
   ]
  },
  {
   "cell_type": "markdown",
   "metadata": {},
   "source": [
    "Week anchor indicates end of week"
   ]
  },
  {
   "cell_type": "code",
   "execution_count": 48,
   "metadata": {},
   "outputs": [
    {
     "data": {
      "text/plain": [
       "<class 'pandas.tseries.index.DatetimeIndex'>\n",
       "[2012-10-28 00:00:00, ..., 2012-11-11 00:00:00]\n",
       "Length: 3, Freq: W-SUN, Timezone: None"
      ]
     },
     "execution_count": 48,
     "metadata": {},
     "output_type": "execute_result"
    }
   ],
   "source": [
    "wkrng = pd.date_range('2012-10-25', periods=3, freq='W')\n",
    "wkrng"
   ]
  },
  {
   "cell_type": "code",
   "execution_count": 49,
   "metadata": {},
   "outputs": [
    {
     "data": {
      "text/plain": [
       "6"
      ]
     },
     "execution_count": 49,
     "metadata": {},
     "output_type": "execute_result"
    }
   ],
   "source": [
    "wkrng[0].dayofweek"
   ]
  },
  {
   "cell_type": "markdown",
   "metadata": {},
   "source": [
    "Year anchor indicates year ending month"
   ]
  },
  {
   "cell_type": "code",
   "execution_count": 50,
   "metadata": {},
   "outputs": [
    {
     "data": {
      "text/plain": [
       "<class 'pandas.tseries.index.DatetimeIndex'>\n",
       "[2006-06-30 00:00:00, ..., 2008-06-30 00:00:00]\n",
       "Length: 3, Freq: A-JUN, Timezone: None"
      ]
     },
     "execution_count": 50,
     "metadata": {},
     "output_type": "execute_result"
    }
   ],
   "source": [
    "pd.date_range('2005', periods=3, freq='A-JUN')"
   ]
  },
  {
   "cell_type": "markdown",
   "metadata": {},
   "source": [
    "`DatetimeIndex` is a subclass of Index"
   ]
  },
  {
   "cell_type": "code",
   "execution_count": 51,
   "metadata": {},
   "outputs": [
    {
     "data": {
      "text/plain": [
       "True"
      ]
     },
     "execution_count": 51,
     "metadata": {},
     "output_type": "execute_result"
    }
   ],
   "source": [
    "isinstance(rng, pd.Index)"
   ]
  },
  {
   "cell_type": "code",
   "execution_count": 52,
   "metadata": {},
   "outputs": [
    {
     "data": {
      "text/plain": [
       "<class 'pandas.tseries.index.DatetimeIndex'>\n",
       "[2005-12-31 00:00:00, 2006-01-31 00:00:00]\n",
       "Length: 2, Freq: M, Timezone: None"
      ]
     },
     "execution_count": 52,
     "metadata": {},
     "output_type": "execute_result"
    }
   ],
   "source": [
    "rng[2:4]"
   ]
  },
  {
   "cell_type": "markdown",
   "metadata": {},
   "source": [
    "Use it for `Series/DataFrame` labelling"
   ]
  },
  {
   "cell_type": "code",
   "execution_count": 53,
   "metadata": {},
   "outputs": [
    {
     "data": {
      "text/plain": [
       "2005-10-31    1.026565\n",
       "2005-11-30   -0.306949\n",
       "2005-12-31   -1.838600\n",
       "2006-01-31   -1.325459\n",
       "2006-02-28    1.642384\n",
       "Freq: M"
      ]
     },
     "execution_count": 53,
     "metadata": {},
     "output_type": "execute_result"
    }
   ],
   "source": [
    "s = Series(randn(len(rng)), rng)\n",
    "s.head()"
   ]
  },
  {
   "cell_type": "code",
   "execution_count": 54,
   "metadata": {},
   "outputs": [
    {
     "data": {
      "text/html": [
       "<div style=\"max-height:1000px;max-width:1500px;overflow:auto;\">\n",
       "<table border=\"1\" class=\"dataframe\">\n",
       "  <thead>\n",
       "    <tr style=\"text-align: right;\">\n",
       "      <th></th>\n",
       "      <th>X</th>\n",
       "      <th>Y</th>\n",
       "      <th>Z</th>\n",
       "    </tr>\n",
       "  </thead>\n",
       "  <tbody>\n",
       "    <tr>\n",
       "      <td><strong>2005-10-31</strong></td>\n",
       "      <td>-0.256664</td>\n",
       "      <td> 0.255390</td>\n",
       "      <td>-0.765260</td>\n",
       "    </tr>\n",
       "    <tr>\n",
       "      <td><strong>2005-11-30</strong></td>\n",
       "      <td> 2.035113</td>\n",
       "      <td> 1.694331</td>\n",
       "      <td> 1.436986</td>\n",
       "    </tr>\n",
       "    <tr>\n",
       "      <td><strong>2005-12-31</strong></td>\n",
       "      <td> 1.094142</td>\n",
       "      <td>-1.098397</td>\n",
       "      <td> 0.643988</td>\n",
       "    </tr>\n",
       "    <tr>\n",
       "      <td><strong>2006-01-31</strong></td>\n",
       "      <td> 0.714353</td>\n",
       "      <td> 0.429468</td>\n",
       "      <td> 0.702067</td>\n",
       "    </tr>\n",
       "    <tr>\n",
       "      <td><strong>2006-02-28</strong></td>\n",
       "      <td> 0.318068</td>\n",
       "      <td> 0.656602</td>\n",
       "      <td> 1.701144</td>\n",
       "    </tr>\n",
       "  </tbody>\n",
       "</table>\n",
       "</div>"
      ],
      "text/plain": [
       "                   X         Y         Z\n",
       "2005-10-31 -0.256664  0.255390 -0.765260\n",
       "2005-11-30  2.035113  1.694331  1.436986\n",
       "2005-12-31  1.094142 -1.098397  0.643988\n",
       "2006-01-31  0.714353  0.429468  0.702067\n",
       "2006-02-28  0.318068  0.656602  1.701144"
      ]
     },
     "execution_count": 54,
     "metadata": {},
     "output_type": "execute_result"
    }
   ],
   "source": [
    "df = DataFrame(randn(len(rng), 3), rng, ['X', 'Y', 'Z'])\n",
    "df.head()"
   ]
  },
  {
   "cell_type": "markdown",
   "metadata": {},
   "source": [
    "####Label indexing"
   ]
  },
  {
   "cell_type": "code",
   "execution_count": 55,
   "metadata": {},
   "outputs": [
    {
     "data": {
      "text/plain": [
       "2005-10-31    1.026565\n",
       "2005-11-30   -0.306949\n",
       "2005-12-31   -1.838600\n",
       "2006-01-31   -1.325459\n",
       "2006-02-28    1.642384\n",
       "2006-03-31   -0.274467\n",
       "2006-04-30   -0.433675\n",
       "2006-05-31   -0.963449\n",
       "2006-06-30    1.112873\n",
       "2006-07-31   -0.089778\n",
       "2006-08-31    0.046948\n",
       "2006-09-30    0.035094\n",
       "2006-10-31    1.113169\n",
       "2006-11-30   -0.401821\n",
       "2006-12-31    0.723640\n",
       "Freq: M"
      ]
     },
     "execution_count": 55,
     "metadata": {},
     "output_type": "execute_result"
    }
   ],
   "source": [
    "s[datetime(2005, 1, 31) : datetime(2006, 12, 31)] #slice end inclusive"
   ]
  },
  {
   "cell_type": "code",
   "execution_count": 56,
   "metadata": {},
   "outputs": [
    {
     "data": {
      "text/html": [
       "<div style=\"max-height:1000px;max-width:1500px;overflow:auto;\">\n",
       "<table border=\"1\" class=\"dataframe\">\n",
       "  <thead>\n",
       "    <tr style=\"text-align: right;\">\n",
       "      <th></th>\n",
       "      <th>X</th>\n",
       "      <th>Y</th>\n",
       "      <th>Z</th>\n",
       "    </tr>\n",
       "  </thead>\n",
       "  <tbody>\n",
       "    <tr>\n",
       "      <td><strong>2005-10-31</strong></td>\n",
       "      <td>-0.256664</td>\n",
       "      <td> 0.255390</td>\n",
       "      <td>-0.765260</td>\n",
       "    </tr>\n",
       "    <tr>\n",
       "      <td><strong>2005-11-30</strong></td>\n",
       "      <td> 2.035113</td>\n",
       "      <td> 1.694331</td>\n",
       "      <td> 1.436986</td>\n",
       "    </tr>\n",
       "    <tr>\n",
       "      <td><strong>2005-12-31</strong></td>\n",
       "      <td> 1.094142</td>\n",
       "      <td>-1.098397</td>\n",
       "      <td> 0.643988</td>\n",
       "    </tr>\n",
       "    <tr>\n",
       "      <td><strong>2006-01-31</strong></td>\n",
       "      <td> 0.714353</td>\n",
       "      <td> 0.429468</td>\n",
       "      <td> 0.702067</td>\n",
       "    </tr>\n",
       "    <tr>\n",
       "      <td><strong>2006-02-28</strong></td>\n",
       "      <td> 0.318068</td>\n",
       "      <td> 0.656602</td>\n",
       "      <td> 1.701144</td>\n",
       "    </tr>\n",
       "    <tr>\n",
       "      <td><strong>2006-03-31</strong></td>\n",
       "      <td> 0.192433</td>\n",
       "      <td> 1.127046</td>\n",
       "      <td>-2.496724</td>\n",
       "    </tr>\n",
       "    <tr>\n",
       "      <td><strong>2006-04-30</strong></td>\n",
       "      <td> 1.417775</td>\n",
       "      <td> 0.845626</td>\n",
       "      <td>-0.713990</td>\n",
       "    </tr>\n",
       "    <tr>\n",
       "      <td><strong>2006-05-31</strong></td>\n",
       "      <td> 0.057333</td>\n",
       "      <td> 0.016464</td>\n",
       "      <td>-0.311196</td>\n",
       "    </tr>\n",
       "    <tr>\n",
       "      <td><strong>2006-06-30</strong></td>\n",
       "      <td>-0.535289</td>\n",
       "      <td> 0.131742</td>\n",
       "      <td> 0.459589</td>\n",
       "    </tr>\n",
       "    <tr>\n",
       "      <td><strong>2006-07-31</strong></td>\n",
       "      <td>-0.787894</td>\n",
       "      <td>-1.482390</td>\n",
       "      <td>-0.341181</td>\n",
       "    </tr>\n",
       "    <tr>\n",
       "      <td><strong>2006-08-31</strong></td>\n",
       "      <td> 0.131652</td>\n",
       "      <td> 2.037986</td>\n",
       "      <td>-0.547023</td>\n",
       "    </tr>\n",
       "    <tr>\n",
       "      <td><strong>2006-09-30</strong></td>\n",
       "      <td> 0.883980</td>\n",
       "      <td> 1.178719</td>\n",
       "      <td>-1.960677</td>\n",
       "    </tr>\n",
       "    <tr>\n",
       "      <td><strong>2006-10-31</strong></td>\n",
       "      <td> 0.096330</td>\n",
       "      <td>-0.034388</td>\n",
       "      <td> 0.944521</td>\n",
       "    </tr>\n",
       "    <tr>\n",
       "      <td><strong>2006-11-30</strong></td>\n",
       "      <td>-0.559477</td>\n",
       "      <td> 0.178275</td>\n",
       "      <td>-0.637401</td>\n",
       "    </tr>\n",
       "    <tr>\n",
       "      <td><strong>2006-12-31</strong></td>\n",
       "      <td>-0.730724</td>\n",
       "      <td> 0.363436</td>\n",
       "      <td>-1.048955</td>\n",
       "    </tr>\n",
       "  </tbody>\n",
       "</table>\n",
       "</div>"
      ],
      "text/plain": [
       "                   X         Y         Z\n",
       "2005-10-31 -0.256664  0.255390 -0.765260\n",
       "2005-11-30  2.035113  1.694331  1.436986\n",
       "2005-12-31  1.094142 -1.098397  0.643988\n",
       "2006-01-31  0.714353  0.429468  0.702067\n",
       "2006-02-28  0.318068  0.656602  1.701144\n",
       "2006-03-31  0.192433  1.127046 -2.496724\n",
       "2006-04-30  1.417775  0.845626 -0.713990\n",
       "2006-05-31  0.057333  0.016464 -0.311196\n",
       "2006-06-30 -0.535289  0.131742  0.459589\n",
       "2006-07-31 -0.787894 -1.482390 -0.341181\n",
       "2006-08-31  0.131652  2.037986 -0.547023\n",
       "2006-09-30  0.883980  1.178719 -1.960677\n",
       "2006-10-31  0.096330 -0.034388  0.944521\n",
       "2006-11-30 -0.559477  0.178275 -0.637401\n",
       "2006-12-31 -0.730724  0.363436 -1.048955"
      ]
     },
     "execution_count": 56,
     "metadata": {},
     "output_type": "execute_result"
    }
   ],
   "source": [
    "df['2005-1-31':'2006-12-31']"
   ]
  },
  {
   "cell_type": "markdown",
   "metadata": {},
   "source": [
    "**Partial indexing**"
   ]
  },
  {
   "cell_type": "code",
   "execution_count": 57,
   "metadata": {},
   "outputs": [
    {
     "data": {
      "text/plain": [
       "2005-10-31    1.026565\n",
       "2005-11-30   -0.306949\n",
       "2005-12-31   -1.838600\n",
       "2006-01-31   -1.325459\n",
       "2006-02-28    1.642384\n",
       "2006-03-31   -0.274467\n",
       "2006-04-30   -0.433675\n",
       "2006-05-31   -0.963449\n",
       "2006-06-30    1.112873\n",
       "2006-07-31   -0.089778\n",
       "2006-08-31    0.046948\n",
       "2006-09-30    0.035094\n",
       "2006-10-31    1.113169\n",
       "2006-11-30   -0.401821\n",
       "2006-12-31    0.723640\n",
       "Freq: M"
      ]
     },
     "execution_count": 57,
     "metadata": {},
     "output_type": "execute_result"
    }
   ],
   "source": [
    "s['2005':'2006']"
   ]
  },
  {
   "cell_type": "markdown",
   "metadata": {},
   "source": [
    "positional indexing still works"
   ]
  },
  {
   "cell_type": "code",
   "execution_count": 58,
   "metadata": {},
   "outputs": [
    {
     "data": {
      "text/html": [
       "<div style=\"max-height:1000px;max-width:1500px;overflow:auto;\">\n",
       "<table border=\"1\" class=\"dataframe\">\n",
       "  <thead>\n",
       "    <tr style=\"text-align: right;\">\n",
       "      <th></th>\n",
       "      <th>X</th>\n",
       "      <th>Y</th>\n",
       "      <th>Z</th>\n",
       "    </tr>\n",
       "  </thead>\n",
       "  <tbody>\n",
       "    <tr>\n",
       "      <td><strong>2005-10-31</strong></td>\n",
       "      <td>-0.256664</td>\n",
       "      <td> 0.255390</td>\n",
       "      <td>-0.765260</td>\n",
       "    </tr>\n",
       "    <tr>\n",
       "      <td><strong>2005-11-30</strong></td>\n",
       "      <td> 2.035113</td>\n",
       "      <td> 1.694331</td>\n",
       "      <td> 1.436986</td>\n",
       "    </tr>\n",
       "  </tbody>\n",
       "</table>\n",
       "</div>"
      ],
      "text/plain": [
       "                   X         Y         Z\n",
       "2005-10-31 -0.256664  0.255390 -0.765260\n",
       "2005-11-30  2.035113  1.694331  1.436986"
      ]
     },
     "execution_count": 58,
     "metadata": {},
     "output_type": "execute_result"
    }
   ],
   "source": [
    "df[:2] # slice end exclusive"
   ]
  },
  {
   "cell_type": "markdown",
   "metadata": {},
   "source": [
    "####Elements of DatetimeIndex"
   ]
  },
  {
   "cell_type": "markdown",
   "metadata": {},
   "source": [
    "Elements boxed as `Timestamp` (subclass of `datetime.datetime`)"
   ]
  },
  {
   "cell_type": "code",
   "execution_count": 59,
   "metadata": {},
   "outputs": [
    {
     "data": {
      "text/plain": [
       "<Timestamp: 2005-10-31 00:00:00>"
      ]
     },
     "execution_count": 59,
     "metadata": {},
     "output_type": "execute_result"
    }
   ],
   "source": [
    "elm = rng[0]\n",
    "elm"
   ]
  },
  {
   "cell_type": "code",
   "execution_count": 60,
   "metadata": {},
   "outputs": [
    {
     "data": {
      "text/plain": [
       "True"
      ]
     },
     "execution_count": 60,
     "metadata": {},
     "output_type": "execute_result"
    }
   ],
   "source": [
    "isinstance(elm, datetime)"
   ]
  },
  {
   "cell_type": "markdown",
   "metadata": {},
   "source": [
    "Why do we need this subclass?"
   ]
  },
  {
   "cell_type": "code",
   "execution_count": 61,
   "metadata": {},
   "outputs": [
    {
     "data": {
      "text/plain": [
       "0"
      ]
     },
     "execution_count": 61,
     "metadata": {},
     "output_type": "execute_result"
    }
   ],
   "source": [
    "elm.nanosecond"
   ]
  },
  {
   "cell_type": "markdown",
   "metadata": {},
   "source": [
    "Implemented internally using numpy.datetime64 (dtype='M8[ns]')"
   ]
  },
  {
   "cell_type": "code",
   "execution_count": 62,
   "metadata": {},
   "outputs": [],
   "source": [
    "val = rng.values"
   ]
  },
  {
   "cell_type": "code",
   "execution_count": 63,
   "metadata": {},
   "outputs": [
    {
     "data": {
      "text/plain": [
       "numpy.ndarray"
      ]
     },
     "execution_count": 63,
     "metadata": {},
     "output_type": "execute_result"
    }
   ],
   "source": [
    "type(val)"
   ]
  },
  {
   "cell_type": "code",
   "execution_count": 64,
   "metadata": {},
   "outputs": [
    {
     "data": {
      "text/plain": [
       "dtype('datetime64[ns]')"
      ]
     },
     "execution_count": 64,
     "metadata": {},
     "output_type": "execute_result"
    }
   ],
   "source": [
    "val.dtype"
   ]
  },
  {
   "cell_type": "markdown",
   "metadata": {},
   "source": [
    "Upgrade Numpy to 1.7b to fix repr issue"
   ]
  },
  {
   "cell_type": "code",
   "execution_count": 65,
   "metadata": {},
   "outputs": [
    {
     "data": {
      "text/plain": [
       "1970-01-14 40:00:00"
      ]
     },
     "execution_count": 65,
     "metadata": {},
     "output_type": "execute_result"
    }
   ],
   "source": [
    "val[0]"
   ]
  },
  {
   "cell_type": "markdown",
   "metadata": {},
   "source": [
    "Or use DatetimeIndex.asobject for workaround"
   ]
  },
  {
   "cell_type": "code",
   "execution_count": 66,
   "metadata": {},
   "outputs": [
    {
     "data": {
      "text/plain": [
       "<Timestamp: 2005-10-31 00:00:00>"
      ]
     },
     "execution_count": 66,
     "metadata": {},
     "output_type": "execute_result"
    }
   ],
   "source": [
    "rng.asobject.values[0]"
   ]
  },
  {
   "cell_type": "markdown",
   "metadata": {},
   "source": [
    "#### Other views"
   ]
  },
  {
   "cell_type": "code",
   "execution_count": 67,
   "metadata": {},
   "outputs": [
    {
     "data": {
      "text/plain": [
       "Index([2005-10-31 00:00:00, 2005-11-30 00:00:00, 2005-12-31 00:00:00, 2006-01-31 00:00:00, 2006-02-28 00:00:00, 2006-03-31 00:00:00, 2006-04-30 00:00:00, 2006-05-31 00:00:00, 2006-06-30 00:00:00, 2006-07-31 00:00:00, 2006-08-31 00:00:00, 2006-09-30 00:00:00, 2006-10-31 00:00:00, 2006-11-30 00:00:00, 2006-12-31 00:00:00, 2007-01-31 00:00:00, 2007-02-28 00:00:00, 2007-03-31 00:00:00, 2007-04-30 00:00:00, 2007-05-31 00:00:00, 2007-06-30 00:00:00, 2007-07-31 00:00:00, 2007-08-31 00:00:00, 2007-09-30 00:00:00, 2007-10-31 00:00:00, 2007-11-30 00:00:00, 2007-12-31 00:00:00, 2008-01-31 00:00:00, 2008-02-29 00:00:00, 2008-03-31 00:00:00, 2008-04-30 00:00:00, 2008-05-31 00:00:00, 2008-06-30 00:00:00, 2008-07-31 00:00:00, 2008-08-31 00:00:00, 2008-09-30 00:00:00, 2008-10-31 00:00:00, 2008-11-30 00:00:00, 2008-12-31 00:00:00, 2009-01-31 00:00:00, 2009-02-28 00:00:00, 2009-03-31 00:00:00, 2009-04-30 00:00:00, 2009-05-31 00:00:00, 2009-06-30 00:00:00, 2009-07-31 00:00:00, 2009-08-31 00:00:00, 2009-09-30 00:00:00, 2009-10-31 00:00:00, 2009-11-30 00:00:00, 2009-12-31 00:00:00, 2010-01-31 00:00:00, 2010-02-28 00:00:00, 2010-03-31 00:00:00, 2010-04-30 00:00:00, 2010-05-31 00:00:00, 2010-06-30 00:00:00, 2010-07-31 00:00:00, 2010-08-31 00:00:00, 2010-09-30 00:00:00, 2010-10-31 00:00:00, 2010-11-30 00:00:00, 2010-12-31 00:00:00, 2011-01-31 00:00:00, 2011-02-28 00:00:00, 2011-03-31 00:00:00, 2011-04-30 00:00:00, 2011-05-31 00:00:00, 2011-06-30 00:00:00, 2011-07-31 00:00:00, 2011-08-31 00:00:00, 2011-09-30 00:00:00, 2011-10-31 00:00:00, 2011-11-30 00:00:00, 2011-12-31 00:00:00, 2012-01-31 00:00:00, 2012-02-29 00:00:00, 2012-03-31 00:00:00, 2012-04-30 00:00:00, 2012-05-31 00:00:00, 2012-06-30 00:00:00, 2012-07-31 00:00:00, 2012-08-31 00:00:00, 2012-09-30 00:00:00], dtype=object)"
      ]
     },
     "execution_count": 67,
     "metadata": {},
     "output_type": "execute_result"
    }
   ],
   "source": [
    "rng.asobject"
   ]
  },
  {
   "cell_type": "code",
   "execution_count": 68,
   "metadata": {},
   "outputs": [
    {
     "data": {
      "text/plain": [
       "array([2005-10-31 00:00:00, 2005-11-30 00:00:00, 2005-12-31 00:00:00,\n",
       "       2006-01-31 00:00:00, 2006-02-28 00:00:00, 2006-03-31 00:00:00,\n",
       "       2006-04-30 00:00:00, 2006-05-31 00:00:00, 2006-06-30 00:00:00,\n",
       "       2006-07-31 00:00:00, 2006-08-31 00:00:00, 2006-09-30 00:00:00,\n",
       "       2006-10-31 00:00:00, 2006-11-30 00:00:00, 2006-12-31 00:00:00,\n",
       "       2007-01-31 00:00:00, 2007-02-28 00:00:00, 2007-03-31 00:00:00,\n",
       "       2007-04-30 00:00:00, 2007-05-31 00:00:00, 2007-06-30 00:00:00,\n",
       "       2007-07-31 00:00:00, 2007-08-31 00:00:00, 2007-09-30 00:00:00,\n",
       "       2007-10-31 00:00:00, 2007-11-30 00:00:00, 2007-12-31 00:00:00,\n",
       "       2008-01-31 00:00:00, 2008-02-29 00:00:00, 2008-03-31 00:00:00,\n",
       "       2008-04-30 00:00:00, 2008-05-31 00:00:00, 2008-06-30 00:00:00,\n",
       "       2008-07-31 00:00:00, 2008-08-31 00:00:00, 2008-09-30 00:00:00,\n",
       "       2008-10-31 00:00:00, 2008-11-30 00:00:00, 2008-12-31 00:00:00,\n",
       "       2009-01-31 00:00:00, 2009-02-28 00:00:00, 2009-03-31 00:00:00,\n",
       "       2009-04-30 00:00:00, 2009-05-31 00:00:00, 2009-06-30 00:00:00,\n",
       "       2009-07-31 00:00:00, 2009-08-31 00:00:00, 2009-09-30 00:00:00,\n",
       "       2009-10-31 00:00:00, 2009-11-30 00:00:00, 2009-12-31 00:00:00,\n",
       "       2010-01-31 00:00:00, 2010-02-28 00:00:00, 2010-03-31 00:00:00,\n",
       "       2010-04-30 00:00:00, 2010-05-31 00:00:00, 2010-06-30 00:00:00,\n",
       "       2010-07-31 00:00:00, 2010-08-31 00:00:00, 2010-09-30 00:00:00,\n",
       "       2010-10-31 00:00:00, 2010-11-30 00:00:00, 2010-12-31 00:00:00,\n",
       "       2011-01-31 00:00:00, 2011-02-28 00:00:00, 2011-03-31 00:00:00,\n",
       "       2011-04-30 00:00:00, 2011-05-31 00:00:00, 2011-06-30 00:00:00,\n",
       "       2011-07-31 00:00:00, 2011-08-31 00:00:00, 2011-09-30 00:00:00,\n",
       "       2011-10-31 00:00:00, 2011-11-30 00:00:00, 2011-12-31 00:00:00,\n",
       "       2012-01-31 00:00:00, 2012-02-29 00:00:00, 2012-03-31 00:00:00,\n",
       "       2012-04-30 00:00:00, 2012-05-31 00:00:00, 2012-06-30 00:00:00,\n",
       "       2012-07-31 00:00:00, 2012-08-31 00:00:00, 2012-09-30 00:00:00], dtype=object)"
      ]
     },
     "execution_count": 68,
     "metadata": {},
     "output_type": "execute_result"
    }
   ],
   "source": [
    "rng.to_pydatetime()"
   ]
  },
  {
   "cell_type": "code",
   "execution_count": 69,
   "metadata": {},
   "outputs": [
    {
     "data": {
      "text/plain": [
       "datetime.datetime(2005, 10, 31, 0, 0)"
      ]
     },
     "execution_count": 69,
     "metadata": {},
     "output_type": "execute_result"
    }
   ],
   "source": [
    "rng.to_pydatetime()[0]"
   ]
  },
  {
   "cell_type": "markdown",
   "metadata": {},
   "source": [
    "Integer representation"
   ]
  },
  {
   "cell_type": "code",
   "execution_count": 70,
   "metadata": {},
   "outputs": [
    {
     "data": {
      "text/plain": [
       "numpy.ndarray"
      ]
     },
     "execution_count": 70,
     "metadata": {},
     "output_type": "execute_result"
    }
   ],
   "source": [
    "type(rng.asi8)"
   ]
  },
  {
   "cell_type": "code",
   "execution_count": 71,
   "metadata": {},
   "outputs": [
    {
     "data": {
      "text/plain": [
       "dtype('int64')"
      ]
     },
     "execution_count": 71,
     "metadata": {},
     "output_type": "execute_result"
    }
   ],
   "source": [
    "rng.asi8.dtype"
   ]
  },
  {
   "cell_type": "code",
   "execution_count": 72,
   "metadata": {},
   "outputs": [
    {
     "data": {
      "text/plain": [
       "1130716800000000000"
      ]
     },
     "execution_count": 72,
     "metadata": {},
     "output_type": "execute_result"
    }
   ],
   "source": [
    "rng.asi8[0]"
   ]
  },
  {
   "cell_type": "markdown",
   "metadata": {},
   "source": [
    "###More fun with resampling and asfreq"
   ]
  },
  {
   "cell_type": "code",
   "execution_count": 73,
   "metadata": {},
   "outputs": [
    {
     "data": {
      "text/plain": [
       "'M'"
      ]
     },
     "execution_count": 73,
     "metadata": {},
     "output_type": "execute_result"
    }
   ],
   "source": [
    "s.index.freqstr"
   ]
  },
  {
   "cell_type": "code",
   "execution_count": 74,
   "metadata": {},
   "outputs": [
    {
     "data": {
      "text/plain": [
       "2005-10-31    1.026565\n",
       "2005-11-30   -0.306949\n",
       "2005-12-30         NaN\n",
       "2006-01-29         NaN\n",
       "2006-02-28    1.642384\n",
       "2006-03-30         NaN\n",
       "2006-04-29         NaN\n",
       "2006-05-29         NaN\n",
       "2006-06-28         NaN\n",
       "2006-07-28         NaN\n",
       "Freq: 30D"
      ]
     },
     "execution_count": 74,
     "metadata": {},
     "output_type": "execute_result"
    }
   ],
   "source": [
    "s.resample('30D').head(10)"
   ]
  },
  {
   "cell_type": "code",
   "execution_count": 75,
   "metadata": {},
   "outputs": [
    {
     "data": {
      "text/plain": [
       "2005-10-31    1.026565\n",
       "2005-11-30   -0.306949\n",
       "2005-12-30   -0.306949\n",
       "2006-01-29   -1.838600\n",
       "2006-02-28    1.642384\n",
       "2006-03-30    1.642384\n",
       "2006-04-29   -0.274467\n",
       "2006-05-29   -0.433675\n",
       "2006-06-28   -0.963449\n",
       "2006-07-28    1.112873\n",
       "Freq: 30D"
      ]
     },
     "execution_count": 75,
     "metadata": {},
     "output_type": "execute_result"
    }
   ],
   "source": [
    "s.resample('30D', fill_method='ffill').head(10)"
   ]
  },
  {
   "cell_type": "markdown",
   "metadata": {},
   "source": [
    "Upsampling"
   ]
  },
  {
   "cell_type": "code",
   "execution_count": 76,
   "metadata": {},
   "outputs": [
    {
     "data": {
      "text/plain": [
       "2005-11-06   NaN\n",
       "2005-11-13   NaN\n",
       "2005-11-20   NaN\n",
       "2005-11-27   NaN\n",
       "2005-12-04   NaN\n",
       "2005-12-11   NaN\n",
       "2005-12-18   NaN\n",
       "2005-12-25   NaN\n",
       "2006-01-01   NaN\n",
       "Freq: W-SUN"
      ]
     },
     "execution_count": 76,
     "metadata": {},
     "output_type": "execute_result"
    }
   ],
   "source": [
    "s.ix[:3].resample('W')"
   ]
  },
  {
   "cell_type": "code",
   "execution_count": 77,
   "metadata": {},
   "outputs": [
    {
     "data": {
      "text/plain": [
       "2005-11-06    1.026565\n",
       "2005-11-13    1.026565\n",
       "2005-11-20    1.026565\n",
       "2005-11-27    1.026565\n",
       "2005-12-04   -0.306949\n",
       "2005-12-11   -0.306949\n",
       "2005-12-18   -0.306949\n",
       "2005-12-25   -0.306949\n",
       "2006-01-01   -1.838600\n",
       "Freq: W-SUN"
      ]
     },
     "execution_count": 77,
     "metadata": {},
     "output_type": "execute_result"
    }
   ],
   "source": [
    "s.ix[:3].resample('W', fill_method='ffill')"
   ]
  },
  {
   "cell_type": "markdown",
   "metadata": {},
   "source": [
    "asfreq"
   ]
  },
  {
   "cell_type": "code",
   "execution_count": 78,
   "metadata": {},
   "outputs": [
    {
     "data": {
      "text/plain": [
       "2005-12-31   -1.838600\n",
       "2006-03-31   -0.274467\n",
       "2006-06-30    1.112873\n",
       "2006-09-30    0.035094\n",
       "2006-12-31    0.723640\n",
       "Freq: Q-DEC"
      ]
     },
     "execution_count": 78,
     "metadata": {},
     "output_type": "execute_result"
    }
   ],
   "source": [
    "s.asfreq('Q').head()"
   ]
  },
  {
   "cell_type": "code",
   "execution_count": 79,
   "metadata": {},
   "outputs": [
    {
     "data": {
      "text/plain": [
       "2005-12-31   -1.838600\n",
       "2006-03-31   -0.274467\n",
       "2006-06-30    1.112873\n",
       "2006-09-30    0.035094\n",
       "2006-12-31    0.723640\n",
       "Freq: Q-DEC"
      ]
     },
     "execution_count": 79,
     "metadata": {},
     "output_type": "execute_result"
    }
   ],
   "source": [
    "s.resample('Q', 'last').head()"
   ]
  },
  {
   "cell_type": "markdown",
   "metadata": {},
   "source": [
    "closed: 'left' or 'right' bin edge is closed (default is 'right')"
   ]
  },
  {
   "cell_type": "code",
   "execution_count": 80,
   "metadata": {},
   "outputs": [
    {
     "data": {
      "text/plain": [
       "2005-12-31   -0.372995\n",
       "2006-03-31    0.014153\n",
       "2006-06-30   -0.094750\n",
       "2006-09-30   -0.002579\n",
       "2006-12-31    0.478330\n",
       "Freq: Q-DEC"
      ]
     },
     "execution_count": 80,
     "metadata": {},
     "output_type": "execute_result"
    }
   ],
   "source": [
    "s.resample('Q').head()"
   ]
  },
  {
   "cell_type": "code",
   "execution_count": 81,
   "metadata": {},
   "outputs": [
    {
     "data": {
      "text/plain": [
       "0.014152740332844638"
      ]
     },
     "execution_count": 81,
     "metadata": {},
     "output_type": "execute_result"
    }
   ],
   "source": [
    "s.ix[3:6].mean()"
   ]
  },
  {
   "cell_type": "code",
   "execution_count": 82,
   "metadata": {},
   "outputs": [
    {
     "data": {
      "text/plain": [
       "2005-12-31    0.359808\n",
       "2006-03-31   -0.507225\n",
       "2006-06-30   -0.557197\n",
       "2006-09-30    0.356681\n",
       "2006-12-31    0.248814\n",
       "Freq: Q-DEC"
      ]
     },
     "execution_count": 82,
     "metadata": {},
     "output_type": "execute_result"
    }
   ],
   "source": [
    "s.resample('Q', closed='left').head()"
   ]
  },
  {
   "cell_type": "code",
   "execution_count": 83,
   "metadata": {},
   "outputs": [
    {
     "data": {
      "text/plain": [
       "-0.50722477768944352"
      ]
     },
     "execution_count": 83,
     "metadata": {},
     "output_type": "execute_result"
    }
   ],
   "source": [
    "s.ix[2:5].mean()"
   ]
  },
  {
   "cell_type": "markdown",
   "metadata": {},
   "source": [
    "label: label the bin with 'left' or 'right' edge (default is 'right')"
   ]
  },
  {
   "cell_type": "code",
   "execution_count": 84,
   "metadata": {},
   "outputs": [
    {
     "data": {
      "text/plain": [
       "2005-12-31   -0.372995\n",
       "2006-03-31    0.014153\n",
       "2006-06-30   -0.094750\n",
       "2006-09-30   -0.002579\n",
       "2006-12-31    0.478330\n",
       "Freq: Q-DEC"
      ]
     },
     "execution_count": 84,
     "metadata": {},
     "output_type": "execute_result"
    }
   ],
   "source": [
    "s.resample('Q').head()"
   ]
  },
  {
   "cell_type": "code",
   "execution_count": 85,
   "metadata": {},
   "outputs": [
    {
     "data": {
      "text/plain": [
       "2005-09-30   -0.372995\n",
       "2005-12-31    0.014153\n",
       "2006-03-31   -0.094750\n",
       "2006-06-30   -0.002579\n",
       "2006-09-30    0.478330\n",
       "Freq: Q-DEC"
      ]
     },
     "execution_count": 85,
     "metadata": {},
     "output_type": "execute_result"
    }
   ],
   "source": [
    "s.resample('Q', label='left').head()"
   ]
  },
  {
   "cell_type": "markdown",
   "metadata": {},
   "source": [
    "loffset: shift the result index"
   ]
  },
  {
   "cell_type": "code",
   "execution_count": 86,
   "metadata": {},
   "outputs": [
    {
     "data": {
      "text/plain": [
       "2005-09-29   -0.372995\n",
       "2005-12-30    0.014153\n",
       "2006-03-30   -0.094750\n",
       "2006-06-29   -0.002579\n",
       "2006-09-29    0.478330"
      ]
     },
     "execution_count": 86,
     "metadata": {},
     "output_type": "execute_result"
    }
   ],
   "source": [
    "s.resample('Q', label='left', loffset='-1D').head()"
   ]
  },
  {
   "cell_type": "markdown",
   "metadata": {},
   "source": [
    "###Time zones"
   ]
  },
  {
   "cell_type": "markdown",
   "metadata": {},
   "source": [
    "####Localization"
   ]
  },
  {
   "cell_type": "code",
   "execution_count": 87,
   "metadata": {},
   "outputs": [],
   "source": [
    "rng.tz"
   ]
  },
  {
   "cell_type": "code",
   "execution_count": 88,
   "metadata": {},
   "outputs": [
    {
     "data": {
      "text/plain": [
       "<Timestamp: 2005-10-31 00:00:00>"
      ]
     },
     "execution_count": 88,
     "metadata": {},
     "output_type": "execute_result"
    }
   ],
   "source": [
    "d = rng[0]\n",
    "d"
   ]
  },
  {
   "cell_type": "code",
   "execution_count": 89,
   "metadata": {},
   "outputs": [],
   "source": [
    "d.tz"
   ]
  },
  {
   "cell_type": "code",
   "execution_count": 90,
   "metadata": {},
   "outputs": [],
   "source": [
    "localized = rng.tz_localize('US/Eastern')"
   ]
  },
  {
   "cell_type": "markdown",
   "metadata": {},
   "source": [
    "Localization assumes naive time is local (and not UTC)"
   ]
  },
  {
   "cell_type": "code",
   "execution_count": 91,
   "metadata": {},
   "outputs": [
    {
     "data": {
      "text/plain": [
       "<Timestamp: 2005-10-31 00:00:00-0500 EST, tz=US/Eastern>"
      ]
     },
     "execution_count": 91,
     "metadata": {},
     "output_type": "execute_result"
    }
   ],
   "source": [
    "localized[0]"
   ]
  },
  {
   "cell_type": "code",
   "execution_count": 92,
   "metadata": {},
   "outputs": [
    {
     "data": {
      "text/plain": [
       "1130734800000000000"
      ]
     },
     "execution_count": 92,
     "metadata": {},
     "output_type": "execute_result"
    }
   ],
   "source": [
    "localized.asi8[0]"
   ]
  },
  {
   "cell_type": "code",
   "execution_count": 93,
   "metadata": {},
   "outputs": [
    {
     "data": {
      "text/plain": [
       "1130716800000000000"
      ]
     },
     "execution_count": 93,
     "metadata": {},
     "output_type": "execute_result"
    }
   ],
   "source": [
    "rng.asi8[0]"
   ]
  },
  {
   "cell_type": "code",
   "execution_count": 94,
   "metadata": {},
   "outputs": [
    {
     "data": {
      "text/plain": [
       "<Timestamp: 2005-10-31 00:00:00+0000 UTC, tz=UTC>"
      ]
     },
     "execution_count": 94,
     "metadata": {},
     "output_type": "execute_result"
    }
   ],
   "source": [
    "d_utc = d.tz_localize('UTC')\n",
    "d_utc"
   ]
  },
  {
   "cell_type": "code",
   "execution_count": 95,
   "metadata": {},
   "outputs": [
    {
     "ename": "Exception",
     "evalue": "Cannot localize tz-aware Timestamp, use tz_convert for conversions",
     "output_type": "error",
     "traceback": [
      "\u001b[0;31m---------------------------------------------------------------------------\u001b[0m\n\u001b[0;31mException\u001b[0m                                 Traceback (most recent call last)",
      "\u001b[0;32m<ipython-input-95-5747806c09b7>\u001b[0m in \u001b[0;36m<module>\u001b[0;34m()\u001b[0m\n\u001b[0;32m----> 1\u001b[0;31m \u001b[0md_utc\u001b[0m\u001b[0;34m.\u001b[0m\u001b[0mtz_localize\u001b[0m\u001b[0;34m(\u001b[0m\u001b[0;34m'US/Eastern'\u001b[0m\u001b[0;34m)\u001b[0m\u001b[0;34m\u001b[0m\u001b[0m\n\u001b[0m",
      "\u001b[0;32m/Users/changshe/code/pandas/pandas/lib.so\u001b[0m in \u001b[0;36mpandas.lib.Timestamp.tz_localize (pandas/src/tseries.c:32388)\u001b[0;34m()\u001b[0m\n",
      "\u001b[0;31mException\u001b[0m: Cannot localize tz-aware Timestamp, use tz_convert for conversions"
     ]
    }
   ],
   "source": [
    "d_utc.tz_localize('US/Eastern')"
   ]
  },
  {
   "cell_type": "markdown",
   "metadata": {},
   "source": [
    "####TZ conversions"
   ]
  },
  {
   "cell_type": "code",
   "execution_count": 96,
   "metadata": {},
   "outputs": [
    {
     "data": {
      "text/plain": [
       "<class 'pandas.tseries.index.DatetimeIndex'>\n",
       "[2005-10-31 05:00:00, ..., 2012-09-30 04:00:00]\n",
       "Length: 84, Freq: M, Timezone: UTC"
      ]
     },
     "execution_count": 96,
     "metadata": {},
     "output_type": "execute_result"
    }
   ],
   "source": [
    "localized.tz_convert('UTC')"
   ]
  },
  {
   "cell_type": "code",
   "execution_count": 97,
   "metadata": {},
   "outputs": [
    {
     "data": {
      "text/plain": [
       "<Timestamp: 2005-10-30 19:00:00-0500 EST, tz=US/Eastern>"
      ]
     },
     "execution_count": 97,
     "metadata": {},
     "output_type": "execute_result"
    }
   ],
   "source": [
    "d_ny = d_utc.tz_convert('US/Eastern')\n",
    "d_ny"
   ]
  },
  {
   "cell_type": "code",
   "execution_count": 98,
   "metadata": {},
   "outputs": [
    {
     "ename": "Exception",
     "evalue": "Cannot convert tz-naive timestamps, use tz_localize to localize",
     "output_type": "error",
     "traceback": [
      "\u001b[0;31m---------------------------------------------------------------------------\u001b[0m\n\u001b[0;31mException\u001b[0m                                 Traceback (most recent call last)",
      "\u001b[0;32m<ipython-input-98-ce1650e7ae36>\u001b[0m in \u001b[0;36m<module>\u001b[0;34m()\u001b[0m\n\u001b[0;32m----> 1\u001b[0;31m \u001b[0mrng\u001b[0m\u001b[0;34m.\u001b[0m\u001b[0mtz_convert\u001b[0m\u001b[0;34m(\u001b[0m\u001b[0;34m'US/Eastern'\u001b[0m\u001b[0;34m)\u001b[0m\u001b[0;34m\u001b[0m\u001b[0m\n\u001b[0m",
      "\u001b[0;32m/Users/changshe/code/pandas/pandas/tseries/index.pyc\u001b[0m in \u001b[0;36mtz_convert\u001b[0;34m(self, tz)\u001b[0m\n\u001b[1;32m   1275\u001b[0m         \u001b[0;32mif\u001b[0m \u001b[0mself\u001b[0m\u001b[0;34m.\u001b[0m\u001b[0mtz\u001b[0m \u001b[0;32mis\u001b[0m \u001b[0mNone\u001b[0m\u001b[0;34m:\u001b[0m\u001b[0;34m\u001b[0m\u001b[0m\n\u001b[1;32m   1276\u001b[0m             \u001b[0;31m# tz naive, use tz_localize\u001b[0m\u001b[0;34m\u001b[0m\u001b[0;34m\u001b[0m\u001b[0m\n\u001b[0;32m-> 1277\u001b[0;31m             raise Exception('Cannot convert tz-naive timestamps, use '\n\u001b[0m\u001b[1;32m   1278\u001b[0m                             'tz_localize to localize')\n\u001b[1;32m   1279\u001b[0m \u001b[0;34m\u001b[0m\u001b[0m\n",
      "\u001b[0;31mException\u001b[0m: Cannot convert tz-naive timestamps, use tz_localize to localize"
     ]
    }
   ],
   "source": [
    "rng.tz_convert('US/Eastern')"
   ]
  },
  {
   "cell_type": "markdown",
   "metadata": {},
   "source": [
    "### Period representation"
   ]
  },
  {
   "cell_type": "markdown",
   "metadata": {},
   "source": [
    "A lot of time series data is better represented as intervals of time rather than points in time.\n",
    "\n",
    "This is represented in _pandas_ as Period and PeriodIndex"
   ]
  },
  {
   "cell_type": "markdown",
   "metadata": {},
   "source": [
    "####Creating periods"
   ]
  },
  {
   "cell_type": "code",
   "execution_count": 99,
   "metadata": {},
   "outputs": [
    {
     "data": {
      "text/plain": [
       "Period('2005', 'A-DEC')"
      ]
     },
     "execution_count": 99,
     "metadata": {},
     "output_type": "execute_result"
    }
   ],
   "source": [
    "p = pd.Period('2005', 'A')\n",
    "p"
   ]
  },
  {
   "cell_type": "code",
   "execution_count": 100,
   "metadata": {},
   "outputs": [
    {
     "data": {
      "text/plain": [
       "Period('2006Q1', 'Q-MAR')"
      ]
     },
     "execution_count": 100,
     "metadata": {},
     "output_type": "execute_result"
    }
   ],
   "source": [
    "pd.Period('2006Q1', 'Q-MAR')"
   ]
  },
  {
   "cell_type": "code",
   "execution_count": 101,
   "metadata": {},
   "outputs": [
    {
     "data": {
      "text/plain": [
       "Period('2007-01-01', 'B')"
      ]
     },
     "execution_count": 101,
     "metadata": {},
     "output_type": "execute_result"
    }
   ],
   "source": [
    "pd.Period('2007-1-1', 'B')"
   ]
  },
  {
   "cell_type": "markdown",
   "metadata": {},
   "source": [
    "No xxx-start frequencies"
   ]
  },
  {
   "cell_type": "code",
   "execution_count": 102,
   "metadata": {},
   "outputs": [
    {
     "ename": "KeyError",
     "evalue": "'AS-JAN'",
     "output_type": "error",
     "traceback": [
      "\u001b[0;31m---------------------------------------------------------------------------\u001b[0m\n\u001b[0;31mKeyError\u001b[0m                                  Traceback (most recent call last)",
      "\u001b[0;32m<ipython-input-102-fafe81610ca8>\u001b[0m in \u001b[0;36m<module>\u001b[0;34m()\u001b[0m\n\u001b[0;32m----> 1\u001b[0;31m \u001b[0mpd\u001b[0m\u001b[0;34m.\u001b[0m\u001b[0mPeriod\u001b[0m\u001b[0;34m(\u001b[0m\u001b[0;34m'2005'\u001b[0m\u001b[0;34m,\u001b[0m \u001b[0;34m'AS'\u001b[0m\u001b[0;34m)\u001b[0m\u001b[0;34m\u001b[0m\u001b[0m\n\u001b[0m",
      "\u001b[0;32m/Users/changshe/code/pandas/pandas/tseries/period.pyc\u001b[0m in \u001b[0;36m__init__\u001b[0;34m(self, value, freq, ordinal, year, month, quarter, day, hour, minute, second)\u001b[0m\n\u001b[1;32m    114\u001b[0m             \u001b[0;32mraise\u001b[0m \u001b[0mValueError\u001b[0m\u001b[0;34m(\u001b[0m\u001b[0mmsg\u001b[0m\u001b[0;34m)\u001b[0m\u001b[0;34m\u001b[0m\u001b[0m\n\u001b[1;32m    115\u001b[0m \u001b[0;34m\u001b[0m\u001b[0m\n\u001b[0;32m--> 116\u001b[0;31m         \u001b[0mbase\u001b[0m\u001b[0;34m,\u001b[0m \u001b[0mmult\u001b[0m \u001b[0;34m=\u001b[0m \u001b[0m_gfc\u001b[0m\u001b[0;34m(\u001b[0m\u001b[0mfreq\u001b[0m\u001b[0;34m)\u001b[0m\u001b[0;34m\u001b[0m\u001b[0m\n\u001b[0m\u001b[1;32m    117\u001b[0m         \u001b[0;32mif\u001b[0m \u001b[0mmult\u001b[0m \u001b[0;34m!=\u001b[0m \u001b[0;36m1\u001b[0m\u001b[0;34m:\u001b[0m\u001b[0;34m\u001b[0m\u001b[0m\n\u001b[1;32m    118\u001b[0m             \u001b[0;32mraise\u001b[0m \u001b[0mValueError\u001b[0m\u001b[0;34m(\u001b[0m\u001b[0;34m'Only mult == 1 supported'\u001b[0m\u001b[0;34m)\u001b[0m\u001b[0;34m\u001b[0m\u001b[0m\n",
      "\u001b[0;32m/Users/changshe/code/pandas/pandas/tseries/frequencies.pyc\u001b[0m in \u001b[0;36mget_freq_code\u001b[0;34m(freqstr)\u001b[0m\n\u001b[1;32m     71\u001b[0m \u001b[0;34m\u001b[0m\u001b[0m\n\u001b[1;32m     72\u001b[0m     \u001b[0mbase\u001b[0m\u001b[0;34m,\u001b[0m \u001b[0mstride\u001b[0m \u001b[0;34m=\u001b[0m \u001b[0m_base_and_stride\u001b[0m\u001b[0;34m(\u001b[0m\u001b[0mfreqstr\u001b[0m\u001b[0;34m)\u001b[0m\u001b[0;34m\u001b[0m\u001b[0m\n\u001b[0;32m---> 73\u001b[0;31m     \u001b[0mcode\u001b[0m \u001b[0;34m=\u001b[0m \u001b[0m_period_str_to_code\u001b[0m\u001b[0;34m(\u001b[0m\u001b[0mbase\u001b[0m\u001b[0;34m)\u001b[0m\u001b[0;34m\u001b[0m\u001b[0m\n\u001b[0m\u001b[1;32m     74\u001b[0m \u001b[0;34m\u001b[0m\u001b[0m\n\u001b[1;32m     75\u001b[0m     \u001b[0;32mreturn\u001b[0m \u001b[0mcode\u001b[0m\u001b[0;34m,\u001b[0m \u001b[0mstride\u001b[0m\u001b[0;34m\u001b[0m\u001b[0m\n",
      "\u001b[0;32m/Users/changshe/code/pandas/pandas/tseries/frequencies.pyc\u001b[0m in \u001b[0;36m_period_str_to_code\u001b[0;34m(freqstr)\u001b[0m\n\u001b[1;32m    694\u001b[0m         \u001b[0;32mreturn\u001b[0m \u001b[0m_period_code_map\u001b[0m\u001b[0;34m[\u001b[0m\u001b[0mfreqstr\u001b[0m\u001b[0;34m]\u001b[0m\u001b[0;34m\u001b[0m\u001b[0m\n\u001b[1;32m    695\u001b[0m     \u001b[0;32mexcept\u001b[0m\u001b[0;34m:\u001b[0m\u001b[0;34m\u001b[0m\u001b[0m\n\u001b[0;32m--> 696\u001b[0;31m         \u001b[0malias\u001b[0m \u001b[0;34m=\u001b[0m \u001b[0m_period_alias_dict\u001b[0m\u001b[0;34m[\u001b[0m\u001b[0mfreqstr\u001b[0m\u001b[0;34m]\u001b[0m\u001b[0;34m\u001b[0m\u001b[0m\n\u001b[0m\u001b[1;32m    697\u001b[0m         \u001b[0;32mreturn\u001b[0m \u001b[0m_period_code_map\u001b[0m\u001b[0;34m[\u001b[0m\u001b[0malias\u001b[0m\u001b[0;34m]\u001b[0m\u001b[0;34m\u001b[0m\u001b[0m\n\u001b[1;32m    698\u001b[0m \u001b[0;34m\u001b[0m\u001b[0m\n",
      "\u001b[0;31mKeyError\u001b[0m: 'AS-JAN'"
     ]
    }
   ],
   "source": [
    "pd.Period('2005', 'AS')"
   ]
  },
  {
   "cell_type": "markdown",
   "metadata": {},
   "source": [
    "####PeriodRange"
   ]
  },
  {
   "cell_type": "code",
   "execution_count": 103,
   "metadata": {},
   "outputs": [
    {
     "data": {
      "text/plain": [
       "<class 'pandas.tseries.period.PeriodIndex'>\n",
       "freq: A-DEC\n",
       "[2005, ..., 2012]\n",
       "length: 8"
      ]
     },
     "execution_count": 103,
     "metadata": {},
     "output_type": "execute_result"
    }
   ],
   "source": [
    "pd.period_range('2005', '2012', freq='A')"
   ]
  },
  {
   "cell_type": "code",
   "execution_count": 104,
   "metadata": {},
   "outputs": [
    {
     "data": {
      "text/plain": [
       "<class 'pandas.tseries.period.PeriodIndex'>\n",
       "freq: A-DEC\n",
       "[2005, ..., 2011]\n",
       "length: 7"
      ]
     },
     "execution_count": 104,
     "metadata": {},
     "output_type": "execute_result"
    }
   ],
   "source": [
    "prng = pd.period_range('2005', periods=7, freq='A')\n",
    "prng"
   ]
  },
  {
   "cell_type": "markdown",
   "metadata": {},
   "source": [
    "####Converting between representations"
   ]
  },
  {
   "cell_type": "code",
   "execution_count": 105,
   "metadata": {},
   "outputs": [
    {
     "data": {
      "text/plain": [
       "Period('2005', 'A-DEC')"
      ]
     },
     "execution_count": 105,
     "metadata": {},
     "output_type": "execute_result"
    }
   ],
   "source": [
    "p"
   ]
  },
  {
   "cell_type": "code",
   "execution_count": 106,
   "metadata": {},
   "outputs": [
    {
     "data": {
      "text/plain": [
       "<Timestamp: 2005-01-01 00:00:00>"
      ]
     },
     "execution_count": 106,
     "metadata": {},
     "output_type": "execute_result"
    }
   ],
   "source": [
    "p.to_timestamp()"
   ]
  },
  {
   "cell_type": "code",
   "execution_count": 107,
   "metadata": {},
   "outputs": [
    {
     "data": {
      "text/plain": [
       "<Timestamp: 2005-01-31 00:00:00>"
      ]
     },
     "execution_count": 107,
     "metadata": {},
     "output_type": "execute_result"
    }
   ],
   "source": [
    "p.to_timestamp('M', 's')"
   ]
  },
  {
   "cell_type": "code",
   "execution_count": 108,
   "metadata": {},
   "outputs": [
    {
     "data": {
      "text/plain": [
       "<Timestamp: 2005-12-31 00:00:00>"
      ]
     },
     "execution_count": 108,
     "metadata": {},
     "output_type": "execute_result"
    }
   ],
   "source": [
    "p.to_timestamp('M', 'e')"
   ]
  },
  {
   "cell_type": "code",
   "execution_count": 109,
   "metadata": {},
   "outputs": [
    {
     "data": {
      "text/plain": [
       "<class 'pandas.tseries.index.DatetimeIndex'>\n",
       "[2005-12-31 00:00:00, ..., 2011-12-31 00:00:00]\n",
       "Length: 7, Freq: A-DEC, Timezone: None"
      ]
     },
     "execution_count": 109,
     "metadata": {},
     "output_type": "execute_result"
    }
   ],
   "source": [
    "prng.to_timestamp(how='e')"
   ]
  },
  {
   "cell_type": "code",
   "execution_count": 110,
   "metadata": {},
   "outputs": [
    {
     "data": {
      "text/plain": [
       "<class 'pandas.tseries.index.DatetimeIndex'>\n",
       "[2005-12-31 00:00:00, ..., 2011-12-31 00:00:00]\n",
       "Length: 7, Freq: A-DEC, Timezone: None"
      ]
     },
     "execution_count": 110,
     "metadata": {},
     "output_type": "execute_result"
    }
   ],
   "source": [
    "prng.to_timestamp('M', 'e')"
   ]
  },
  {
   "cell_type": "code",
   "execution_count": 111,
   "metadata": {},
   "outputs": [
    {
     "data": {
      "text/plain": [
       "<class 'pandas.tseries.index.DatetimeIndex'>\n",
       "[2005-10-31 00:00:00, ..., 2012-09-30 00:00:00]\n",
       "Length: 84, Freq: M, Timezone: None"
      ]
     },
     "execution_count": 111,
     "metadata": {},
     "output_type": "execute_result"
    }
   ],
   "source": [
    "rng"
   ]
  },
  {
   "cell_type": "code",
   "execution_count": 112,
   "metadata": {},
   "outputs": [
    {
     "data": {
      "text/plain": [
       "<class 'pandas.tseries.period.PeriodIndex'>\n",
       "freq: M\n",
       "[2005-10, ..., 2012-09]\n",
       "length: 84"
      ]
     },
     "execution_count": 112,
     "metadata": {},
     "output_type": "execute_result"
    }
   ],
   "source": [
    "rng.to_period()"
   ]
  },
  {
   "cell_type": "code",
   "execution_count": 113,
   "metadata": {},
   "outputs": [
    {
     "data": {
      "text/plain": [
       "<class 'pandas.tseries.period.PeriodIndex'>\n",
       "freq: D\n",
       "[2005-10-31, ..., 2012-09-30]\n",
       "length: 84"
      ]
     },
     "execution_count": 113,
     "metadata": {},
     "output_type": "execute_result"
    }
   ],
   "source": [
    "rng.to_period('D')"
   ]
  },
  {
   "cell_type": "markdown",
   "metadata": {},
   "source": [
    "####Bugggg"
   ]
  },
  {
   "cell_type": "code",
   "execution_count": 114,
   "metadata": {},
   "outputs": [
    {
     "data": {
      "text/plain": [
       "Period('2005', 'A-DEC')"
      ]
     },
     "execution_count": 114,
     "metadata": {},
     "output_type": "execute_result"
    }
   ],
   "source": [
    "p"
   ]
  },
  {
   "cell_type": "code",
   "execution_count": 115,
   "metadata": {},
   "outputs": [
    {
     "data": {
      "text/plain": [
       "<Timestamp: 2005-12-31 00:00:00>"
      ]
     },
     "execution_count": 115,
     "metadata": {},
     "output_type": "execute_result"
    }
   ],
   "source": [
    "p.end_time"
   ]
  },
  {
   "cell_type": "code",
   "execution_count": 116,
   "metadata": {},
   "outputs": [
    {
     "data": {
      "text/plain": [
       "False"
      ]
     },
     "execution_count": 116,
     "metadata": {},
     "output_type": "execute_result"
    }
   ],
   "source": [
    "datetime(2005, 12, 31, 10, 0, 0) < p.end_time # WAT?!"
   ]
  },
  {
   "cell_type": "markdown",
   "metadata": {},
   "source": [
    "Look for a 0.9.1 bugfix release next week"
   ]
  },
  {
   "cell_type": "code",
   "execution_count": null,
   "metadata": {},
   "outputs": [],
   "source": []
  }
 ],
 "metadata": {
  "kernelspec": {
   "display_name": "Python 2",
   "language": "python",
   "name": "python2"
  },
  "language_info": {
   "codemirror_mode": {
    "name": "ipython",
    "version": 2
   },
   "file_extension": ".py",
   "mimetype": "text/x-python",
   "name": "python",
   "nbconvert_exporter": "python",
   "pygments_lexer": "ipython2",
   "version": "2.7.14"
  }
 },
 "nbformat": 4,
 "nbformat_minor": 1
}
